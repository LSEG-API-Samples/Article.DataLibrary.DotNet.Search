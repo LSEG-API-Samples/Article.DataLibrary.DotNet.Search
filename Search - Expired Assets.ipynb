{
 "cells": [
  {
   "cell_type": "markdown",
   "metadata": {},
   "source": [
    "## Expired Futures\n",
    "When searching for an expired asset, you will need to specify the date range based on the ExpiryDate property."
   ]
  },
  {
   "cell_type": "markdown",
   "metadata": {},
   "source": [
    "#### NuGet Packages"
   ]
  },
  {
   "cell_type": "code",
   "execution_count": 1,
   "metadata": {},
   "outputs": [
    {
     "data": {
      "text/html": [
       "\r\n",
       "<div>\r\n",
       "    <div id='dotnet-interactive-this-cell-17884.Microsoft.DotNet.Interactive.Http.HttpPort' style='display: none'>\r\n",
       "        The below script needs to be able to find the current output cell; this is an easy method to get it.\r\n",
       "    </div>\r\n",
       "    <script type='text/javascript'>\r\n",
       "async function probeAddresses(probingAddresses) {\r\n",
       "    function timeout(ms, promise) {\r\n",
       "        return new Promise(function (resolve, reject) {\r\n",
       "            setTimeout(function () {\r\n",
       "                reject(new Error('timeout'))\r\n",
       "            }, ms)\r\n",
       "            promise.then(resolve, reject)\r\n",
       "        })\r\n",
       "    }\r\n",
       "\r\n",
       "    if (Array.isArray(probingAddresses)) {\r\n",
       "        for (let i = 0; i < probingAddresses.length; i++) {\r\n",
       "\r\n",
       "            let rootUrl = probingAddresses[i];\r\n",
       "\r\n",
       "            if (!rootUrl.endsWith('/')) {\r\n",
       "                rootUrl = `${rootUrl}/`;\r\n",
       "            }\r\n",
       "\r\n",
       "            try {\r\n",
       "                let response = await timeout(1000, fetch(`${rootUrl}discovery`, {\r\n",
       "                    method: 'POST',\r\n",
       "                    cache: 'no-cache',\r\n",
       "                    mode: 'cors',\r\n",
       "                    timeout: 1000,\r\n",
       "                    headers: {\r\n",
       "                        'Content-Type': 'text/plain'\r\n",
       "                    },\r\n",
       "                    body: probingAddresses[i]\r\n",
       "                }));\r\n",
       "\r\n",
       "                if (response.status == 200) {\r\n",
       "                    return rootUrl;\r\n",
       "                }\r\n",
       "            }\r\n",
       "            catch (e) { }\r\n",
       "        }\r\n",
       "    }\r\n",
       "}\r\n",
       "\r\n",
       "function loadDotnetInteractiveApi() {\r\n",
       "    probeAddresses([\"http://192.168.0.35:1014/\", \"http://127.0.0.1:1014/\"])\r\n",
       "        .then((root) => {\r\n",
       "        // use probing to find host url and api resources\r\n",
       "        // load interactive helpers and language services\r\n",
       "        let dotnetInteractiveRequire = require.config({\r\n",
       "        context: '17884.Microsoft.DotNet.Interactive.Http.HttpPort',\r\n",
       "                paths:\r\n",
       "            {\r\n",
       "                'dotnet-interactive': `${root}resources`\r\n",
       "                }\r\n",
       "        }) || require;\r\n",
       "\r\n",
       "            window.dotnetInteractiveRequire = dotnetInteractiveRequire;\r\n",
       "\r\n",
       "            window.configureRequireFromExtension = function(extensionName, extensionCacheBuster) {\r\n",
       "                let paths = {};\r\n",
       "                paths[extensionName] = `${root}extensions/${extensionName}/resources/`;\r\n",
       "                \r\n",
       "                let internalRequire = require.config({\r\n",
       "                    context: extensionCacheBuster,\r\n",
       "                    paths: paths,\r\n",
       "                    urlArgs: `cacheBuster=${extensionCacheBuster}`\r\n",
       "                    }) || require;\r\n",
       "\r\n",
       "                return internalRequire\r\n",
       "            };\r\n",
       "        \r\n",
       "            dotnetInteractiveRequire([\r\n",
       "                    'dotnet-interactive/dotnet-interactive'\r\n",
       "                ],\r\n",
       "                function (dotnet) {\r\n",
       "                    dotnet.init(window);\r\n",
       "                },\r\n",
       "                function (error) {\r\n",
       "                    console.log(error);\r\n",
       "                }\r\n",
       "            );\r\n",
       "        })\r\n",
       "        .catch(error => {console.log(error);});\r\n",
       "    }\r\n",
       "\r\n",
       "// ensure `require` is available globally\r\n",
       "if ((typeof(require) !==  typeof(Function)) || (typeof(require.config) !== typeof(Function))) {\r\n",
       "    let require_script = document.createElement('script');\r\n",
       "    require_script.setAttribute('src', 'https://cdnjs.cloudflare.com/ajax/libs/require.js/2.3.6/require.min.js');\r\n",
       "    require_script.setAttribute('type', 'text/javascript');\r\n",
       "    \r\n",
       "    \r\n",
       "    require_script.onload = function() {\r\n",
       "        loadDotnetInteractiveApi();\r\n",
       "    };\r\n",
       "\r\n",
       "    document.getElementsByTagName('head')[0].appendChild(require_script);\r\n",
       "}\r\n",
       "else {\r\n",
       "    loadDotnetInteractiveApi();\r\n",
       "}\r\n",
       "\r\n",
       "    </script>\r\n",
       "</div>"
      ]
     },
     "metadata": {},
     "output_type": "display_data"
    },
    {
     "data": {
      "text/plain": [
       "Installed package Microsoft.Data.Analysis version 0.4.0"
      ]
     },
     "metadata": {},
     "output_type": "display_data"
    },
    {
     "data": {
      "text/plain": [
       "Installed package Refinitiv.DataPlatform.Content version 1.0.0-alpha3"
      ]
     },
     "metadata": {},
     "output_type": "display_data"
    }
   ],
   "source": [
    "#r \"nuget:Refinitiv.DataPlatform.Content, 1.0.0-alpha3\"\n",
    "#r \"nuget:Microsoft.Data.Analysis\""
   ]
  },
  {
   "cell_type": "code",
   "execution_count": 2,
   "metadata": {},
   "outputs": [],
   "source": [
    "using Newtonsoft.Json.Linq;\n",
    "using Refinitiv.DataPlatform.Content.SearchService;\n",
    "using Refinitiv.DataPlatform.Core;\n",
    "using Microsoft.Data.Analysis;\n",
    "using Microsoft.AspNetCore.Html;\n",
    "using System.Linq;\n",
    "using System;"
   ]
  },
  {
   "cell_type": "markdown",
   "metadata": {},
   "source": [
    "#### Table Output\n",
    "Helper routine to output data in a table format."
   ]
  },
  {
   "cell_type": "code",
   "execution_count": 3,
   "metadata": {},
   "outputs": [],
   "source": [
    "Formatter.Register<IList<JObject>>((hits, writer) =>\n",
    "{\n",
    "    if (hits.Count > 0)\n",
    "    {\n",
    "        var fields = new List<String>();\n",
    "        var rows = new List<ICollection<IHtmlContent>>();\n",
    "        var data = new Dictionary<string, IHtmlContent>();\n",
    "\n",
    "        foreach(var hit in hits)\n",
    "        {\n",
    "            var cells = new List<IHtmlContent>();\n",
    "            foreach (var val in hit.Properties())\n",
    "            {\n",
    "                if ( !fields.Any(item => item.Equals(val.Name)) )\n",
    "                    fields.Add(val.Name);\n",
    "                data[val.Name] = td(val.Value.ToString());\n",
    "            }\n",
    "            rows.Add(new List<IHtmlContent>(data.Values));\n",
    "            data.Keys.ToList().ForEach(x => data[x] = td(\"\"));\n",
    "        }\n",
    "        \n",
    "        var headers = new List<IHtmlContent>();\n",
    "        headers.AddRange(fields.Select(c => (IHtmlContent)th(c)));\n",
    "\n",
    "        var t = table(thead(headers), tbody(rows.Select(r => tr(r))));\n",
    "        writer.Write(t);\n",
    "    }\n",
    "}, \"text/html\");"
   ]
  },
  {
   "cell_type": "code",
   "execution_count": 5,
   "metadata": {},
   "outputs": [
    {
     "name": "stdout",
     "output_type": "stream",
     "text": [
      "17/12/2020 12:18:51 PM:Session is Pending. (State: Pending)\n",
      "17/12/2020 12:18:52 PM:{\n",
      "  \"Contents\": \"Desktop Session Successfully Authenticated\"\n",
      "}. (Event: SessionAuthenticationSuccess)\n",
      "17/12/2020 12:18:52 PM:Session is Opened. (State: Opened)\n"
     ]
    }
   ],
   "source": [
    "// Create a session into the desktop\n",
    "var session = CoreFactory.CreateSession(new DesktopSession.Params()\n",
    "                            .AppKey(\"Your API Key here\")\n",
    "                            .OnState((s, state, msg) => Console.WriteLine($\"{DateTime.Now}:{msg}. (State: {state})\"))\n",
    "                            .OnEvent((s, eventCode, msg) => Console.WriteLine($\"{DateTime.Now}:{msg}. (Event: {eventCode})\")));\n",
    "session.Open();"
   ]
  },
  {
   "cell_type": "markdown",
   "metadata": {},
   "source": [
    "#### Example - Expired Vodafone futures in the month of Nov 2019."
   ]
  },
  {
   "cell_type": "code",
   "execution_count": 8,
   "metadata": {},
   "outputs": [
    {
     "data": {
      "text/html": [
       "<table><thead><th>DTSubjectName</th><th>ExchangeName</th><th>RIC</th><th>RCSAssetCategoryLeaf</th><th>AssetState</th><th>ExpiryDate</th><th>UnderlyingQuoteRIC</th></thead><tbody><tr><td>Johannesburg Stock Exchange Vodacom Group SSF Equity Future Nov 2019</td><td>Johannesburg Stock Exchange</td><td>VODQX9^1</td><td>Equity Future</td><td>DC</td><td>21/11/2019 12:00:00 AM</td><td>[\r\n",
       "  &quot;VODJ.J&quot;\r\n",
       "]</td></tr><tr><td>Johannesburg Stock Exchange Vodacom Group Limited Cash Settled SSF Equity Future Nov 2019</td><td>Johannesburg Stock Exchange</td><td>VODSX9^1</td><td>Equity Future</td><td>DC</td><td>21/11/2019 12:00:00 AM</td><td>[\r\n",
       "  &quot;VODJ.J&quot;\r\n",
       "]</td></tr></tbody></table>"
      ]
     },
     "execution_count": 8,
     "metadata": {},
     "output_type": "execute_result"
    }
   ],
   "source": [
    "var filter = \"TickerSymbol eq 'vod' and ExpiryDate lt 2019-12-01 and ExpiryDate ge 2019-11-01\";\n",
    "var select = \"DTSubjectName, ExchangeName, RIC, RCSAssetCategoryLeaf, AssetState, ExpiryDate, UnderlyingQuoteRIC\";\n",
    "\n",
    "var response = Search.Definition(Search.View.DerivativeQuotes).Filter(filter)\n",
    "                                                              .Select(select)\n",
    "                                                              .GetData();\n",
    "response.Data.Hits"
   ]
  },
  {
   "cell_type": "markdown",
   "metadata": {},
   "source": [
    "#### Example - Expired Crude Oil Futures in the last year"
   ]
  },
  {
   "cell_type": "code",
   "execution_count": 9,
   "metadata": {},
   "outputs": [],
   "source": [
    "// Build expiry date range expression\n",
    "var dateOneYearAgo = DateTime.Now.AddYears(-1);\n",
    "var dateRange = $\"ExpiryDate ge {dateOneYearAgo:yyyy-MM-dd} and ExpiryDate lt {DateTime.Now:yyyy-MM-dd}\";"
   ]
  },
  {
   "cell_type": "code",
   "execution_count": 10,
   "metadata": {},
   "outputs": [
    {
     "data": {
      "text/html": [
       "<table><thead><th>DTSubjectName</th><th>RIC</th><th>ExpiryDate</th><th>RCSUnderlyingProductLeaf</th></thead><tbody><tr><td>NYM WTI Crude Implied Volatility Surface Delta ATM Month Jan 2021</td><td>CLATMIVMF21</td><td>16/12/2020 12:00:00 AM</td><td>Crude Oil</td></tr><tr><td>NYM WTI Crude Implied Volatility Surface Delta 15 Call Month Jan 2021</td><td>CL15CIVMF21</td><td>16/12/2020 12:00:00 AM</td><td>Crude Oil</td></tr><tr><td>NYM WTI Crude Implied Volatility Surface Delta 25 Put Month Jan 2021</td><td>CL25PIVMF21</td><td>16/12/2020 12:00:00 AM</td><td>Crude Oil</td></tr><tr><td>NYM WTI Crude Implied Volatility Surface Delta 15 Put Month Jan 2021</td><td>CL15PIVMF21</td><td>16/12/2020 12:00:00 AM</td><td>Crude Oil</td></tr><tr><td>NYM WTI Crude Implied Volatility Surface Delta 35 Put Month Jan 2021</td><td>CL35PIVMF21</td><td>16/12/2020 12:00:00 AM</td><td>Crude Oil</td></tr><tr><td>NYM WTI Crude Implied Volatility Surface Delta 35 Call Month Jan 2021</td><td>CL35CIVMF21</td><td>16/12/2020 12:00:00 AM</td><td>Crude Oil</td></tr><tr><td>NYM WTI Crude Implied Volatility Surface Delta 25 Call Month Jan 2021</td><td>CL25CIVMF21</td><td>16/12/2020 12:00:00 AM</td><td>Crude Oil</td></tr><tr><td>NYM WTI Crude Implied Volatility Surface Delta 40 Call Month Jan 2021</td><td>CL40CIVMF21</td><td>16/12/2020 12:00:00 AM</td><td>Crude Oil</td></tr><tr><td>NYM WTI Crude Implied Volatility Surface Delta 40 Put Month Jan 2021</td><td>CL40PIVMF21</td><td>16/12/2020 12:00:00 AM</td><td>Crude Oil</td></tr><tr><td>NYM WTI Crude Implied Volatility Surface Delta 10 Call Month Jan 2021</td><td>CL10CIVMF21</td><td>16/12/2020 12:00:00 AM</td><td>Crude Oil</td></tr><tr><td>NYM WTI Crude Implied Volatility Surface Delta 20 Put Month Jan 2021</td><td>CL20PIVMF21</td><td>16/12/2020 12:00:00 AM</td><td>Crude Oil</td></tr><tr><td>NYM WTI Crude Implied Volatility Surface Delta 10 Put Month Jan 2021</td><td>CL10PIVMF21</td><td>16/12/2020 12:00:00 AM</td><td>Crude Oil</td></tr><tr><td>NYM WTI Crude Implied Volatility Surface Delta 30 Call Month Jan 2021</td><td>CL30CIVMF21</td><td>16/12/2020 12:00:00 AM</td><td>Crude Oil</td></tr><tr><td>NYM WTI Crude Implied Volatility Surface Delta 20 Call Month Jan 2021</td><td>CL20CIVMF21</td><td>16/12/2020 12:00:00 AM</td><td>Crude Oil</td></tr><tr><td>NYM WTI Crude Implied Volatility Surface Delta 30 Put Month Jan 2021</td><td>CL30PIVMF21</td><td>16/12/2020 12:00:00 AM</td><td>Crude Oil</td></tr><tr><td>NYM WTI Crude Implied Volatility Surface Delta 45 Put Month Jan 2021</td><td>CL45PIVMF21</td><td>16/12/2020 12:00:00 AM</td><td>Crude Oil</td></tr><tr><td>NYM WTI Crude Implied Volatility Surface Delta 45 Call Month Jan 2021</td><td>CL45CIVMF21</td><td>16/12/2020 12:00:00 AM</td><td>Crude Oil</td></tr><tr><td>NYM WTI Crude Implied Volatility Surface Moneyness 125% Month Jan 2021</td><td>CL125IVMF21</td><td>16/12/2020 12:00:00 AM</td><td>Crude Oil</td></tr><tr><td>NYM WTI Crude Implied Volatility Surface Moneyness 75% Month Jan 2021</td><td>CL75IVMF21</td><td>16/12/2020 12:00:00 AM</td><td>Crude Oil</td></tr><tr><td>IPE WTI Crude Implied Volatility Surface Delta 35 Call Month Jan 2021</td><td>WTCL35CIVMF21</td><td>16/12/2020 12:00:00 AM</td><td>Crude Oil</td></tr><tr><td>NYM WTI Crude Implied Volatility Surface Moneyness 140% Month Jan 2021</td><td>CL140IVMF21</td><td>16/12/2020 12:00:00 AM</td><td>Crude Oil</td></tr><tr><td>NYM WTI Crude Implied Volatility Surface Moneyness 85% Month Jan 2021</td><td>CL85IVMF21</td><td>16/12/2020 12:00:00 AM</td><td>Crude Oil</td></tr><tr><td>IPE WTI Crude Implied Volatility Surface Delta 35 Put Month Jan 2021</td><td>WTCL35PIVMF21</td><td>16/12/2020 12:00:00 AM</td><td>Crude Oil</td></tr><tr><td>NYM WTI Crude Implied Volatility Surface Moneyness 115% Month Jan 2021</td><td>CL115IVMF21</td><td>16/12/2020 12:00:00 AM</td><td>Crude Oil</td></tr><tr><td>IPE WTI Crude Implied Volatility Surface Delta 40 Put Month Jan 2021</td><td>WTCL40PIVMF21</td><td>16/12/2020 12:00:00 AM</td><td>Crude Oil</td></tr><tr><td>NYM WTI Crude Implied Volatility Surface Moneyness 105% Month Jan 2021</td><td>CL105IVMF21</td><td>16/12/2020 12:00:00 AM</td><td>Crude Oil</td></tr><tr><td>NYM WTI Crude Implied Volatility Surface Moneyness 150% Month Jan 2021</td><td>CL150IVMF21</td><td>16/12/2020 12:00:00 AM</td><td>Crude Oil</td></tr><tr><td>NYM WTI Crude Implied Volatility Surface Moneyness 95% Month Jan 2021</td><td>CL95IVMF21</td><td>16/12/2020 12:00:00 AM</td><td>Crude Oil</td></tr><tr><td>IPE WTI Crude Implied Volatility Surface Delta ATM Month Jan 2021</td><td>WTCLATMIVMF21</td><td>16/12/2020 12:00:00 AM</td><td>Crude Oil</td></tr><tr><td>IPE WTI Crude Implied Volatility Surface Delta 40 Call Month Jan 2021</td><td>WTCL40CIVMF21</td><td>16/12/2020 12:00:00 AM</td><td>Crude Oil</td></tr></tbody></table>"
      ]
     },
     "execution_count": 10,
     "metadata": {},
     "output_type": "execute_result"
    }
   ],
   "source": [
    "filter = $@\"RCSUnderlyingProductName xeq 'Energy' and\n",
    "            SearchAllCategoryv3 eq 'Commodities' and\n",
    "            RCSAssetCategoryName eq 'Derivative\\Future' and RCSUnderlyingProductName eq 'Crude Oil' and\n",
    "            ExchangeName xeq 'Source is a Refinitiv Contributor' and {dateRange}\";\n",
    "\n",
    "response = Search.Definition(Search.View.SearchAll).Filter(filter)\n",
    "                                                   .OrderBy(\"ExpiryDate desc\")\n",
    "                                                   .Top(30)\n",
    "                                                   .Select(\"DTSubjectName, RIC, ExpiryDate, RCSUnderlyingProductLeaf\")\n",
    "                                                   .GetData();\n",
    "response.Data.Hits"
   ]
  },
  {
   "cell_type": "markdown",
   "metadata": {},
   "source": [
    "#### Example - Expired Electricity Futures in the last year"
   ]
  },
  {
   "cell_type": "code",
   "execution_count": 11,
   "metadata": {},
   "outputs": [
    {
     "data": {
      "text/html": [
       "<table><thead><th>DTSubjectName</th><th>RIC</th><th>ExpiryDate</th><th>RCSUnderlyingProductLeaf</th></thead><tbody><tr><td>TRPC Electricity Germany Baseload Day 1</td><td>TRDEBD1</td><td>16/12/2020 12:00:00 AM</td><td>Baseload</td></tr><tr><td>TRPC Electricity France Baseload Day 1</td><td>TRFRBD1</td><td>16/12/2020 12:00:00 AM</td><td>Baseload</td></tr><tr><td>TRPC Electricity Germany Peakload Day 1</td><td>TRDEPD1</td><td>16/12/2020 12:00:00 AM</td><td>Peakload</td></tr><tr><td>TRPC Electricity France Peakload Day 1</td><td>TRFRPD1</td><td>16/12/2020 12:00:00 AM</td><td>Peakload</td></tr><tr><td>TRPC Electricity Netherlands Baseload Day 1</td><td>TRNLBD1</td><td>16/12/2020 12:00:00 AM</td><td>Baseload</td></tr><tr><td>TRPC Electricity Czech Republic Baseload Day 1</td><td>TRCZBD1</td><td>16/12/2020 12:00:00 AM</td><td>Baseload</td></tr><tr><td>TRPC Electricity Italy Baseload Day 1</td><td>TRITBD1</td><td>16/12/2020 12:00:00 AM</td><td>Baseload</td></tr><tr><td>TRPC Electricity Spain Baseload Day 1</td><td>TRESBD1</td><td>16/12/2020 12:00:00 AM</td><td>Baseload</td></tr><tr><td>TRPC Electricity Hungary Baseload Day 1</td><td>TRHUBD1</td><td>16/12/2020 12:00:00 AM</td><td>Baseload</td></tr><tr><td>TRPC Electricity Poland Baseload Day 1</td><td>TRPLBD1</td><td>16/12/2020 12:00:00 AM</td><td>Baseload</td></tr><tr><td>TRPC Electricity Czech Republic Peakload Day 1</td><td>TRCZPD1</td><td>16/12/2020 12:00:00 AM</td><td>Peakload</td></tr><tr><td>TRPC Electricity Hungary Peakload Day 1</td><td>TRHUPD1</td><td>16/12/2020 12:00:00 AM</td><td>Peakload</td></tr><tr><td>TRPC Electricity Italy Peakload Day 1</td><td>TRITPD1</td><td>16/12/2020 12:00:00 AM</td><td>Peakload</td></tr><tr><td>TRPC Electricity Poland Peakload Day 1</td><td>TRPLPD1</td><td>16/12/2020 12:00:00 AM</td><td>Peakload</td></tr><tr><td>TRPC Electricity Great Britain Baseload Day 1</td><td>TRGBBD1</td><td>16/12/2020 12:00:00 AM</td><td>Baseload</td></tr><tr><td>TRPC Clean Spark Spread Germany Baseload vs Gas NCG Efficiency Factor 50% Day 1</td><td>TRDECSBD1</td><td>16/12/2020 12:00:00 AM</td><td>Baseload</td></tr><tr><td>TRPC Electricity Belgium Baseload Day 1</td><td>TRBEBD1</td><td>16/12/2020 12:00:00 AM</td><td>Baseload</td></tr><tr><td>TRPC Electricity Germany Off-Peak Day 1</td><td>TRDEOPD1</td><td>16/12/2020 12:00:00 AM</td><td>Off-Peak</td></tr><tr><td>TRPC Clean Spark Spread France Baseload vs Gas Zeebrugge Efficiency Factor 50% Day 1</td><td>TRFRCSBD1</td><td>16/12/2020 12:00:00 AM</td><td>Baseload</td></tr><tr><td>TRC UK Baseload Power Fair Value Day Ahead 1</td><td>TRGBBFVDc1</td><td>16/12/2020 12:00:00 AM</td><td>Baseload</td></tr><tr><td>TRC Switzerland Baseload, Peakload, OffPeak Power Fair Value Day Ahead Continuation 1</td><td>TRCHBFVDc1</td><td>16/12/2020 12:00:00 AM</td><td>Baseload</td></tr><tr><td>TRPC Clean Spark Spread Great Britain Baseload vs Gas NBP Day 1</td><td>TRGBCSBD1</td><td>16/12/2020 12:00:00 AM</td><td>Baseload</td></tr><tr><td>TRC UK Baseload Power Fair Value Balance of Week</td><td>TRGBBFVWc0</td><td>16/12/2020 12:00:00 AM</td><td>Baseload</td></tr><tr><td>TRPC Clean Spark Spread Germany Peakload vs Gas NCG Efficiency Factor 50% Day 1</td><td>TRDECSPD1</td><td>16/12/2020 12:00:00 AM</td><td>Peakload</td></tr><tr><td>TRPC Spark Spread Great Britain Baseload vs Gas UKI NBP Day 1</td><td>TRGBSBD1</td><td>16/12/2020 12:00:00 AM</td><td>Baseload</td></tr><tr><td>TRPC Spark Spread Germany Baseload vs Gas NCG Efficiency Factor 50% Day 1</td><td>TRDESBD1</td><td>16/12/2020 12:00:00 AM</td><td>Baseload</td></tr><tr><td>TRPC Spark Spread Germany Peakload vs Gas NCG Efficiency Factor 50% Day 1</td><td>TRDESPD1</td><td>16/12/2020 12:00:00 AM</td><td>Peakload</td></tr><tr><td>TRPC Electricity France Off-Peak Day 1</td><td>TRFROPD1</td><td>16/12/2020 12:00:00 AM</td><td>Off-Peak</td></tr><tr><td>TRPC Spark Spread France Baseload vs Gas Zeebrugge Efficiency Factor 50% Day 1</td><td>TRFRSBD1</td><td>16/12/2020 12:00:00 AM</td><td>Baseload</td></tr><tr><td>TRPC Clean Spark Spread France Peakload vs Gas Zeebrugge Efficiency Factor 50% Day 1</td><td>TRFRCSPD1</td><td>16/12/2020 12:00:00 AM</td><td>Peakload</td></tr></tbody></table>"
      ]
     },
     "execution_count": 11,
     "metadata": {},
     "output_type": "execute_result"
    }
   ],
   "source": [
    "filter = $@\"SearchAllCategoryv3 eq 'Commodities' and\n",
    "            RCSUnderlyingProductName eq 'Power' and\n",
    "            ExchangeName xeq 'Source is a Refinitiv Contributor' and {dateRange}\";\n",
    "\n",
    "response = Search.Definition(Search.View.SearchAll).Filter(filter)\n",
    "                                                   .OrderBy(\"ExpiryDate desc\")\n",
    "                                                   .Top(30)\n",
    "                                                   .Select(\"DTSubjectName, RIC, ExpiryDate, RCSUnderlyingProductLeaf\")\n",
    "                                                   .GetData();\n",
    "response.Data.Hits"
   ]
  },
  {
   "cell_type": "code",
   "execution_count": null,
   "metadata": {},
   "outputs": [],
   "source": []
  }
 ],
 "metadata": {
  "kernelspec": {
   "display_name": ".NET (C#)",
   "language": "C#",
   "name": ".net-csharp"
  },
  "language_info": {
   "file_extension": ".cs",
   "mimetype": "text/x-csharp",
   "name": "C#",
   "pygments_lexer": "csharp",
   "version": "8.0"
  }
 },
 "nbformat": 4,
 "nbformat_minor": 4
}
