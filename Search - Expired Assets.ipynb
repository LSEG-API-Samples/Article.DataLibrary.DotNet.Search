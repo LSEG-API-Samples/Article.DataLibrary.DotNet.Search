{
 "cells": [
  {
   "cell_type": "markdown",
   "metadata": {},
   "source": [
    "## Expired Futures\n",
    "When searching for an expired asset, you will need to specify the date range based on the ExpiryDate property."
   ]
  },
  {
   "cell_type": "markdown",
   "metadata": {},
   "source": [
    "#### NuGet Packages"
   ]
  },
  {
   "cell_type": "code",
   "execution_count": 1,
   "metadata": {},
   "outputs": [
    {
     "data": {
      "text/html": [
       "\r\n",
       "<div>\r\n",
       "    <div id='dotnet-interactive-this-cell-25664.Microsoft.DotNet.Interactive.Http.HttpPort' style='display: none'>\r\n",
       "        The below script needs to be able to find the current output cell; this is an easy method to get it.\r\n",
       "    </div>\r\n",
       "    <script type='text/javascript'>\r\n",
       "async function probeAddresses(probingAddresses) {\r\n",
       "    function timeout(ms, promise) {\r\n",
       "        return new Promise(function (resolve, reject) {\r\n",
       "            setTimeout(function () {\r\n",
       "                reject(new Error('timeout'))\r\n",
       "            }, ms)\r\n",
       "            promise.then(resolve, reject)\r\n",
       "        })\r\n",
       "    }\r\n",
       "\r\n",
       "    if (Array.isArray(probingAddresses)) {\r\n",
       "        for (let i = 0; i < probingAddresses.length; i++) {\r\n",
       "\r\n",
       "            let rootUrl = probingAddresses[i];\r\n",
       "\r\n",
       "            if (!rootUrl.endsWith('/')) {\r\n",
       "                rootUrl = `${rootUrl}/`;\r\n",
       "            }\r\n",
       "\r\n",
       "            try {\r\n",
       "                let response = await timeout(1000, fetch(`${rootUrl}discovery`, {\r\n",
       "                    method: 'POST',\r\n",
       "                    cache: 'no-cache',\r\n",
       "                    mode: 'cors',\r\n",
       "                    timeout: 1000,\r\n",
       "                    headers: {\r\n",
       "                        'Content-Type': 'text/plain'\r\n",
       "                    },\r\n",
       "                    body: probingAddresses[i]\r\n",
       "                }));\r\n",
       "\r\n",
       "                if (response.status == 200) {\r\n",
       "                    return rootUrl;\r\n",
       "                }\r\n",
       "            }\r\n",
       "            catch (e) { }\r\n",
       "        }\r\n",
       "    }\r\n",
       "}\r\n",
       "\r\n",
       "function loadDotnetInteractiveApi() {\r\n",
       "    probeAddresses([\"http://192.168.0.35:1007/\", \"http://127.0.0.1:1007/\"])\r\n",
       "        .then((root) => {\r\n",
       "        // use probing to find host url and api resources\r\n",
       "        // load interactive helpers and language services\r\n",
       "        let dotnetInteractiveRequire = require.config({\r\n",
       "        context: '25664.Microsoft.DotNet.Interactive.Http.HttpPort',\r\n",
       "                paths:\r\n",
       "            {\r\n",
       "                'dotnet-interactive': `${root}resources`\r\n",
       "                }\r\n",
       "        }) || require;\r\n",
       "\r\n",
       "            window.dotnetInteractiveRequire = dotnetInteractiveRequire;\r\n",
       "\r\n",
       "            window.configureRequireFromExtension = function(extensionName, extensionCacheBuster) {\r\n",
       "                let paths = {};\r\n",
       "                paths[extensionName] = `${root}extensions/${extensionName}/resources/`;\r\n",
       "                \r\n",
       "                let internalRequire = require.config({\r\n",
       "                    context: extensionCacheBuster,\r\n",
       "                    paths: paths,\r\n",
       "                    urlArgs: `cacheBuster=${extensionCacheBuster}`\r\n",
       "                    }) || require;\r\n",
       "\r\n",
       "                return internalRequire\r\n",
       "            };\r\n",
       "        \r\n",
       "            dotnetInteractiveRequire([\r\n",
       "                    'dotnet-interactive/dotnet-interactive'\r\n",
       "                ],\r\n",
       "                function (dotnet) {\r\n",
       "                    dotnet.init(window);\r\n",
       "                },\r\n",
       "                function (error) {\r\n",
       "                    console.log(error);\r\n",
       "                }\r\n",
       "            );\r\n",
       "        })\r\n",
       "        .catch(error => {console.log(error);});\r\n",
       "    }\r\n",
       "\r\n",
       "// ensure `require` is available globally\r\n",
       "if ((typeof(require) !==  typeof(Function)) || (typeof(require.config) !== typeof(Function))) {\r\n",
       "    let require_script = document.createElement('script');\r\n",
       "    require_script.setAttribute('src', 'https://cdnjs.cloudflare.com/ajax/libs/require.js/2.3.6/require.min.js');\r\n",
       "    require_script.setAttribute('type', 'text/javascript');\r\n",
       "    \r\n",
       "    \r\n",
       "    require_script.onload = function() {\r\n",
       "        loadDotnetInteractiveApi();\r\n",
       "    };\r\n",
       "\r\n",
       "    document.getElementsByTagName('head')[0].appendChild(require_script);\r\n",
       "}\r\n",
       "else {\r\n",
       "    loadDotnetInteractiveApi();\r\n",
       "}\r\n",
       "\r\n",
       "    </script>\r\n",
       "</div>"
      ]
     },
     "metadata": {},
     "output_type": "display_data"
    },
    {
     "data": {
      "text/plain": [
       "Installed package Microsoft.Data.Analysis version 0.4.0"
      ]
     },
     "metadata": {},
     "output_type": "display_data"
    },
    {
     "data": {
      "text/plain": [
       "Installed package Refinitiv.DataPlatform.Content version 1.0.0-alpha3"
      ]
     },
     "metadata": {},
     "output_type": "display_data"
    }
   ],
   "source": [
    "#r \"nuget:Refinitiv.DataPlatform.Content, 1.0.0-alpha3\"\n",
    "#r \"nuget:Microsoft.Data.Analysis\""
   ]
  },
  {
   "cell_type": "code",
   "execution_count": 2,
   "metadata": {},
   "outputs": [],
   "source": [
    "using Newtonsoft.Json.Linq;\n",
    "using Refinitiv.DataPlatform.Content.SearchService;\n",
    "using Refinitiv.DataPlatform.Core;\n",
    "using Microsoft.Data.Analysis;\n",
    "using Microsoft.AspNetCore.Html;\n",
    "using System.Linq;\n",
    "using System;"
   ]
  },
  {
   "cell_type": "markdown",
   "metadata": {},
   "source": [
    "#### DataFrame Output\n",
    "Helper routine to output data in a table format."
   ]
  },
  {
   "cell_type": "code",
   "execution_count": 3,
   "metadata": {},
   "outputs": [],
   "source": [
    "Formatter.Register<IList<JObject>>((hits, writer) =>\n",
    "{\n",
    "    if (hits?.Count > 0)\n",
    "    {\n",
    "        var headers = new List<IHtmlContent>();\n",
    "        var columns = hits[0].Properties();\n",
    "        headers.AddRange(columns.Select(c => (IHtmlContent) th(c.Name)));\n",
    "        var rows = new List<List<IHtmlContent>>();\n",
    "\n",
    "        var take = 20;\n",
    "        for (var i=0; i < Math.Min(take, hits.Count); i++)\n",
    "        {\n",
    "            var cells = new List<IHtmlContent>();\n",
    "            foreach (var val in hits[i].Values())\n",
    "                cells.Add(td(val.ToString()));\n",
    "            rows.Add(cells);\n",
    "        }\n",
    "\n",
    "        var t = table(thead(headers), tbody(rows.Select(r => tr(r))));\n",
    "        writer.Write(t);\n",
    "    }\n",
    "}, \"text/html\");"
   ]
  },
  {
   "cell_type": "code",
   "execution_count": 5,
   "metadata": {},
   "outputs": [
    {
     "name": "stdout",
     "output_type": "stream",
     "text": [
      "13/12/2020 9:34:36 AM:Session is Pending. (State: Pending)\n",
      "13/12/2020 9:34:37 AM:{\n",
      "  \"Contents\": \"Desktop Session Successfully Authenticated\"\n",
      "}. (Event: SessionAuthenticationSuccess)\n",
      "13/12/2020 9:34:37 AM:Session is Opened. (State: Opened)\n"
     ]
    }
   ],
   "source": [
    "// Create a session into the desktop\n",
    "var session = CoreFactory.CreateSession(new DesktopSession.Params()\n",
    "                            .AppKey(\"Your API Key here\")\n",
    "                            .OnState((s, state, msg) => Console.WriteLine($\"{DateTime.Now}:{msg}. (State: {state})\"))\n",
    "                            .OnEvent((s, eventCode, msg) => Console.WriteLine($\"{DateTime.Now}:{msg}. (Event: {eventCode})\")));\n",
    "session.Open();"
   ]
  },
  {
   "cell_type": "markdown",
   "metadata": {},
   "source": [
    "#### Example - Expired Vodafone futures in the month of Nov 2019."
   ]
  },
  {
   "cell_type": "code",
   "execution_count": 6,
   "metadata": {},
   "outputs": [
    {
     "data": {
      "text/html": [
       "<table><thead><th>DTSubjectName</th><th>ExchangeName</th><th>RIC</th><th>RCSAssetCategoryLeaf</th><th>AssetState</th><th>ExpiryDate</th><th>UnderlyingQuoteRIC</th></thead><tbody><tr><td>Johannesburg Stock Exchange Vodacom Group SSF Equity Future Nov 2019</td><td>Johannesburg Stock Exchange</td><td>VODQX9^1</td><td>Equity Future</td><td>DC</td><td>21/11/2019 12:00:00 AM</td><td>[\r\n",
       "  &quot;VODJ.J&quot;\r\n",
       "]</td></tr><tr><td>Johannesburg Stock Exchange Vodacom Group Limited Cash Settled SSF Equity Future Nov 2019</td><td>Johannesburg Stock Exchange</td><td>VODSX9^1</td><td>Equity Future</td><td>DC</td><td>21/11/2019 12:00:00 AM</td><td>[\r\n",
       "  &quot;VODJ.J&quot;\r\n",
       "]</td></tr></tbody></table>"
      ]
     },
     "execution_count": 6,
     "metadata": {},
     "output_type": "execute_result"
    }
   ],
   "source": [
    "var filter = \"TickerSymbol eq 'vod' and ExpiryDate lt 2019-12-01 and ExpiryDate ge 2019-11-01\";\n",
    "var select = \"DTSubjectName, ExchangeName, RIC, RCSAssetCategoryLeaf, AssetState, ExpiryDate, UnderlyingQuoteRIC\";\n",
    "var response = Search.Definition(Search.View.DerivativeQuotes).Filter(filter)\n",
    "                                                              .Select(select)\n",
    "                                                              .GetData();\n",
    "response.Data.Hits"
   ]
  },
  {
   "cell_type": "markdown",
   "metadata": {},
   "source": [
    "#### Example - Expired Crude Oil Futures in the last year"
   ]
  },
  {
   "cell_type": "code",
   "execution_count": 7,
   "metadata": {},
   "outputs": [],
   "source": [
    "// Build expiry date range expression\n",
    "var dateOneYearAgo = DateTime.Now.AddYears(-1);\n",
    "var dateRange = $\"ExpiryDate ge {dateOneYearAgo:yyyy-MM-dd} and ExpiryDate lt {DateTime.Now:yyyy-MM-dd}\";"
   ]
  },
  {
   "cell_type": "code",
   "execution_count": 8,
   "metadata": {},
   "outputs": [
    {
     "data": {
      "text/html": [
       "<table><thead><th>DTSubjectName</th><th>RIC</th><th>ExpiryDate</th><th>RCSUnderlyingProductLeaf</th></thead><tbody><tr><td>NYMEX WTI Light Sweet Crude Oil Calendar Swap US Monthly  Dec 2020</td><td>CLCALMZ0</td><td>30/11/2020 12:00:00 AM</td><td>Crude Oil</td></tr><tr><td>NYMEX WTI Light Sweet Crude Oil Calendar Swap US Monthly  Nov 2020</td><td>CLCALMX0</td><td>31/10/2020 12:00:00 AM</td><td>Crude Oil</td></tr><tr><td>NYMEX WTI Light Sweet Crude Oil Calendar Swap US Monthly  Oct 2020</td><td>CLCALMV0</td><td>30/09/2020 12:00:00 AM</td><td>Crude Oil</td></tr><tr><td>NYMEX WTI Light Sweet Crude Oil Calendar Swap US Quarterly  Dec 2020</td><td>CLCALQZ0</td><td>30/09/2020 12:00:00 AM</td><td>Crude Oil</td></tr><tr><td>NYMEX WTI Light Sweet Crude Oil Calendar Swap US Monthly  Sep 2020</td><td>CLCALMU0</td><td>31/08/2020 12:00:00 AM</td><td>Crude Oil</td></tr><tr><td>NYMEX WTI Light Sweet Crude Oil Calendar Swap US Monthly  Aug 2020</td><td>CLCALMQ0</td><td>31/07/2020 12:00:00 AM</td><td>Crude Oil</td></tr><tr><td>NYMEX WTI Light Sweet Crude Oil Calendar Swap US Monthly  Jul 2020</td><td>CLCALMN0</td><td>30/06/2020 12:00:00 AM</td><td>Crude Oil</td></tr><tr><td>NYMEX WTI Light Sweet Crude Oil Calendar Swap US Quarterly  Sep 2020</td><td>CLCALQU0</td><td>30/06/2020 12:00:00 AM</td><td>Crude Oil</td></tr><tr><td>NYMEX WTI Light Sweet Crude Oil Calendar Swap US Monthly  Jun 2020</td><td>CLCALMM0</td><td>31/05/2020 12:00:00 AM</td><td>Crude Oil</td></tr><tr><td>NYMEX WTI Light Sweet Crude Oil Calendar Swap US Monthly  May 2020</td><td>CLCALMK0</td><td>30/04/2020 12:00:00 AM</td><td>Crude Oil</td></tr><tr><td>NYMEX WTI Light Sweet Crude Oil Calendar Swap US Monthly  Apr 2020</td><td>CLCALMJ0</td><td>31/03/2020 12:00:00 AM</td><td>Crude Oil</td></tr><tr><td>NYMEX WTI Light Sweet Crude Oil Calendar Swap US Quarterly  Jun 2020</td><td>CLCALQM0</td><td>31/03/2020 12:00:00 AM</td><td>Crude Oil</td></tr><tr><td>NYMEX WTI Light Sweet Crude Oil Calendar Swap US Monthly  Mar 2020</td><td>CLCALMH0</td><td>29/02/2020 12:00:00 AM</td><td>Crude Oil</td></tr><tr><td>NYMEX WTI Light Sweet Crude Oil Calendar Swap US Monthly  Feb 2020</td><td>CLCALMG0</td><td>31/01/2020 12:00:00 AM</td><td>Crude Oil</td></tr><tr><td>NYMEX WTI Crude Oil Calendar Swap US Yearly Dec 2020</td><td>CLCALYZ0</td><td>31/12/2019 12:00:00 AM</td><td>Crude Oil</td></tr><tr><td>NYMEX WTI Light Sweet Crude Oil Calendar Swap US Monthly  Jan 2020</td><td>CLCALMF0</td><td>31/12/2019 12:00:00 AM</td><td>Crude Oil</td></tr><tr><td>NYMEX WTI Light Sweet Crude Oil Calendar Swap US Quarterly  Mar 2020</td><td>CLCALQH0</td><td>31/12/2019 12:00:00 AM</td><td>Crude Oil</td></tr><tr><td>WTI Future Assessments Spread Quarterly Mar 2020</td><td>WTICRDSDQH0</td><td>19/12/2019 12:00:00 AM</td><td>Crude Oil</td></tr></tbody></table>"
      ]
     },
     "execution_count": 8,
     "metadata": {},
     "output_type": "execute_result"
    }
   ],
   "source": [
    "filter = $@\"RCSUnderlyingProductName xeq 'Energy' and\n",
    "            SearchAllCategoryv3 eq 'Commodities' and\n",
    "            RCSAssetCategoryName eq 'Derivative\\Future' and RCSUnderlyingProductName eq 'Crude Oil' and\n",
    "            ExchangeName xeq 'Source is a Refinitiv Contributor' and {dateRange}\";\n",
    "response = Search.Definition(Search.View.SearchAll).Filter(filter)\n",
    "                                                   .OrderBy(\"ExpiryDate desc\")\n",
    "                                                   .Top(30)\n",
    "                                                   .Select(\"DTSubjectName, RIC, ExpiryDate, RCSUnderlyingProductLeaf\")\n",
    "                                                   .GetData();\n",
    "response.Data.Hits"
   ]
  },
  {
   "cell_type": "markdown",
   "metadata": {},
   "source": [
    "#### Example - Expired Electricity Futures in the last year"
   ]
  },
  {
   "cell_type": "code",
   "execution_count": 25,
   "metadata": {},
   "outputs": [
    {
     "data": {
      "text/html": [
       "<table><thead><th>DTSubjectName</th><th>RIC</th><th>ExpiryDate</th><th>RCSUnderlyingProductLeaf</th></thead><tbody><tr><td>TRC France Baseload Power Fair Value Day Ahead 2</td><td>TRFRBFVDc2</td><td>12/12/2020 12:00:00 AM</td><td>Baseload</td></tr><tr><td>Germany vs Austria Baseload Power Fair Value Spread Balance of Month (BOM) Jan 2020</td><td>TRDEATBFVBMF0</td><td>31/01/2020 12:00:00 AM</td><td>Baseload</td></tr><tr><td>TRPC Electricity Great Britain Peakload Monthly Jan 2020</td><td>TRGBPMF0</td><td>27/12/2019 12:00:00 AM</td><td>Peakload</td></tr></tbody></table>"
      ]
     },
     "execution_count": 25,
     "metadata": {},
     "output_type": "execute_result"
    }
   ],
   "source": [
    "filter = $@\"SearchAllCategoryv3 eq 'Commodities' and\n",
    "            RCSUnderlyingProductName eq 'Power' and\n",
    "            ExchangeName xeq 'Source is a Refinitiv Contributor' and {dateRange}\";\n",
    "response = Search.Definition(Search.View.SearchAll).Filter(filter)\n",
    "                                                   .OrderBy(\"ExpiryDate desc\")\n",
    "                                                   .Top(30)\n",
    "                                                   .Select(\"DTSubjectName, RIC, ExpiryDate, RCSUnderlyingProductLeaf\")\n",
    "                                                   .GetData();\n",
    "response.Data.Hits"
   ]
  }
 ],
 "metadata": {
  "kernelspec": {
   "display_name": ".NET (C#)",
   "language": "C#",
   "name": ".net-csharp"
  },
  "language_info": {
   "file_extension": ".cs",
   "mimetype": "text/x-csharp",
   "name": "C#",
   "pygments_lexer": "csharp",
   "version": "8.0"
  }
 },
 "nbformat": 4,
 "nbformat_minor": 4
}
