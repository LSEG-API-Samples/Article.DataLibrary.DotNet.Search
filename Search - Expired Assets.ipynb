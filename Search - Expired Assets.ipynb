{
 "cells": [
  {
   "cell_type": "markdown",
   "metadata": {},
   "source": [
    "## Expired Futures\n",
    "When searching for an expired asset, you will need to specify the date range based on the ExpiryDate property."
   ]
  },
  {
   "cell_type": "markdown",
   "metadata": {},
   "source": [
    "#### NuGet Packages"
   ]
  },
  {
   "cell_type": "code",
   "execution_count": 1,
   "metadata": {},
   "outputs": [
    {
     "data": {
      "text/html": [
       "\r\n",
       "<div>\r\n",
       "    <div id='dotnet-interactive-this-cell-17144.Microsoft.DotNet.Interactive.Http.HttpPort' style='display: none'>\r\n",
       "        The below script needs to be able to find the current output cell; this is an easy method to get it.\r\n",
       "    </div>\r\n",
       "    <script type='text/javascript'>\r\n",
       "async function probeAddresses(probingAddresses) {\r\n",
       "    function timeout(ms, promise) {\r\n",
       "        return new Promise(function (resolve, reject) {\r\n",
       "            setTimeout(function () {\r\n",
       "                reject(new Error('timeout'))\r\n",
       "            }, ms)\r\n",
       "            promise.then(resolve, reject)\r\n",
       "        })\r\n",
       "    }\r\n",
       "\r\n",
       "    if (Array.isArray(probingAddresses)) {\r\n",
       "        for (let i = 0; i < probingAddresses.length; i++) {\r\n",
       "\r\n",
       "            let rootUrl = probingAddresses[i];\r\n",
       "\r\n",
       "            if (!rootUrl.endsWith('/')) {\r\n",
       "                rootUrl = `${rootUrl}/`;\r\n",
       "            }\r\n",
       "\r\n",
       "            try {\r\n",
       "                let response = await timeout(1000, fetch(`${rootUrl}discovery`, {\r\n",
       "                    method: 'POST',\r\n",
       "                    cache: 'no-cache',\r\n",
       "                    mode: 'cors',\r\n",
       "                    timeout: 1000,\r\n",
       "                    headers: {\r\n",
       "                        'Content-Type': 'text/plain'\r\n",
       "                    },\r\n",
       "                    body: probingAddresses[i]\r\n",
       "                }));\r\n",
       "\r\n",
       "                if (response.status == 200) {\r\n",
       "                    return rootUrl;\r\n",
       "                }\r\n",
       "            }\r\n",
       "            catch (e) { }\r\n",
       "        }\r\n",
       "    }\r\n",
       "}\r\n",
       "\r\n",
       "function loadDotnetInteractiveApi() {\r\n",
       "    probeAddresses([\"http://10.46.221.112:1000/\", \"http://192.168.0.8:1000/\", \"http://172.20.224.1:1000/\", \"http://127.0.0.1:1000/\"])\r\n",
       "        .then((root) => {\r\n",
       "        // use probing to find host url and api resources\r\n",
       "        // load interactive helpers and language services\r\n",
       "        let dotnetInteractiveRequire = require.config({\r\n",
       "        context: '17144.Microsoft.DotNet.Interactive.Http.HttpPort',\r\n",
       "                paths:\r\n",
       "            {\r\n",
       "                'dotnet-interactive': `${root}resources`\r\n",
       "                }\r\n",
       "        }) || require;\r\n",
       "\r\n",
       "            window.dotnetInteractiveRequire = dotnetInteractiveRequire;\r\n",
       "\r\n",
       "            window.configureRequireFromExtension = function(extensionName, extensionCacheBuster) {\r\n",
       "                let paths = {};\r\n",
       "                paths[extensionName] = `${root}extensions/${extensionName}/resources/`;\r\n",
       "                \r\n",
       "                let internalRequire = require.config({\r\n",
       "                    context: extensionCacheBuster,\r\n",
       "                    paths: paths,\r\n",
       "                    urlArgs: `cacheBuster=${extensionCacheBuster}`\r\n",
       "                    }) || require;\r\n",
       "\r\n",
       "                return internalRequire\r\n",
       "            };\r\n",
       "        \r\n",
       "            dotnetInteractiveRequire([\r\n",
       "                    'dotnet-interactive/dotnet-interactive'\r\n",
       "                ],\r\n",
       "                function (dotnet) {\r\n",
       "                    dotnet.init(window);\r\n",
       "                },\r\n",
       "                function (error) {\r\n",
       "                    console.log(error);\r\n",
       "                }\r\n",
       "            );\r\n",
       "        })\r\n",
       "        .catch(error => {console.log(error);});\r\n",
       "    }\r\n",
       "\r\n",
       "// ensure `require` is available globally\r\n",
       "if ((typeof(require) !==  typeof(Function)) || (typeof(require.config) !== typeof(Function))) {\r\n",
       "    let require_script = document.createElement('script');\r\n",
       "    require_script.setAttribute('src', 'https://cdnjs.cloudflare.com/ajax/libs/require.js/2.3.6/require.min.js');\r\n",
       "    require_script.setAttribute('type', 'text/javascript');\r\n",
       "    \r\n",
       "    \r\n",
       "    require_script.onload = function() {\r\n",
       "        loadDotnetInteractiveApi();\r\n",
       "    };\r\n",
       "\r\n",
       "    document.getElementsByTagName('head')[0].appendChild(require_script);\r\n",
       "}\r\n",
       "else {\r\n",
       "    loadDotnetInteractiveApi();\r\n",
       "}\r\n",
       "\r\n",
       "    </script>\r\n",
       "</div>"
      ]
     },
     "metadata": {},
     "output_type": "display_data"
    },
    {
     "data": {
      "text/html": [
       "<div><div></div><div></div><div><strong>Installed Packages</strong><ul><li><span>Microsoft.Data.Analysis, 0.19.0</span></li><li><span>Refinitiv.Data.Content, 1.0.0-beta3</span></li></ul></div></div>"
      ]
     },
     "metadata": {},
     "output_type": "display_data"
    },
    {
     "data": {
      "text/markdown": [
       "Loading extensions from `Microsoft.Data.Analysis.Interactive.dll`"
      ]
     },
     "metadata": {},
     "output_type": "display_data"
    }
   ],
   "source": [
    "#r \"nuget:Refinitiv.Data.Content, 1.0.0-beta3\"\n",
    "#r \"nuget:Microsoft.Data.Analysis\""
   ]
  },
  {
   "cell_type": "code",
   "execution_count": 2,
   "metadata": {},
   "outputs": [],
   "source": [
    "using Newtonsoft.Json.Linq;\n",
    "using Refinitiv.Data.Content.SearchService;\n",
    "using Refinitiv.Data.Core;\n",
    "using Microsoft.Data.Analysis;\n",
    "using Microsoft.AspNetCore.Html;\n",
    "using System.Data;\n",
    "using System;\n",
    "using Microsoft.DotNet.Interactive.Formatting;\n",
    "using static Microsoft.DotNet.Interactive.Formatting.PocketViewTags;"
   ]
  },
  {
   "cell_type": "markdown",
   "metadata": {},
   "source": [
    "#### Table Output\n",
    "Helper routine to output data in a table format."
   ]
  },
  {
   "cell_type": "code",
   "execution_count": 3,
   "metadata": {},
   "outputs": [],
   "source": [
    "Formatter.Register<DataTable>((dt, writer) =>\n",
    "{\n",
    "    if (dt.Columns.Count > 0)\n",
    "    {\n",
    "        var rows = new List<ICollection<IHtmlContent>>();\n",
    "\n",
    "        // Process Each data row\n",
    "        foreach(var row in dt.Rows.Cast<DataRow>())\n",
    "        {\n",
    "            var cells = new List<IHtmlContent>();\n",
    "            foreach (var cell in row.ItemArray)\n",
    "            {\n",
    "                switch (cell)\n",
    "                {\n",
    "                    case null:\n",
    "                        break;\n",
    "                    case JValue val:\n",
    "                        cells.Add(td(val.ToString()));\n",
    "                        break;\n",
    "                    case IEnumerable<JToken> list:\n",
    "                        cells.Add(td($\"[{string.Join(\", \", list.Select(node => $\"{node}\"))}]\"));\n",
    "                        break;\n",
    "                    default:\n",
    "                        cells.Add(td(cell));\n",
    "                        break;\n",
    "                }                \n",
    "            }\n",
    "            rows.Add(cells);\n",
    "        }\n",
    "        \n",
    "        // Header\n",
    "        var headers = new List<IHtmlContent>();\n",
    "        foreach (DataColumn col in dt.Columns)\n",
    "            headers.Add(th(col.ColumnName) as IHtmlContent);\n",
    "\n",
    "        var t = table(thead(headers), tbody(rows.Select(r => tr(r))));\n",
    "        writer.Write(t);\n",
    "    }\n",
    "}, \"text/html\");"
   ]
  },
  {
   "cell_type": "code",
   "execution_count": 4,
   "metadata": {},
   "outputs": [
    {
     "name": "stdout",
     "output_type": "stream",
     "text": [
      "24/01/2022 11:55:14 AM:DesktopSession. (State: DesktopSession is Pending)\n",
      "24/01/2022 11:55:15 AM:DesktopSession. (Event: {\n",
      "  \"Contents\": \"Desktop Session Successfully Authenticated\"\n",
      "})\n",
      "24/01/2022 11:55:15 AM:DesktopSession. (State: DesktopSession is Opened)\n"
     ]
    }
   ],
   "source": [
    "// Create a session into the desktop\n",
    "DesktopSession.Definition().GetSession().OnState((s, state, msg) => Console.WriteLine($\"{DateTime.Now}:{msg}. (State: {state})\"))\n",
    "                                        .OnEvent((s, eventCode, msg) => Console.WriteLine($\"{DateTime.Now}:{msg}. (Event: {eventCode})\"))\n",
    "                                        .Open();"
   ]
  },
  {
   "cell_type": "markdown",
   "metadata": {},
   "source": [
    "#### Example - Expired Vodafone futures in the month of Nov 2019."
   ]
  },
  {
   "cell_type": "code",
   "execution_count": 5,
   "metadata": {},
   "outputs": [
    {
     "data": {
      "text/html": [
       "<table><thead><th>DTSubjectName</th><th>ExchangeName</th><th>RIC</th><th>RCSAssetCategoryLeaf</th><th>AssetState</th><th>ExpiryDate</th><th>UnderlyingQuoteRIC</th></thead><tbody><tr><td>Johannesburg Stock Exchange Vodacom Group SSF Equity Future Nov 2019</td><td>Johannesburg Stock Exchange</td><td>VODQX9^1</td><td>Equity Future</td><td>DC</td><td>21/11/2019 12:00:00 AM</td><td>[VODJ.J]</td></tr><tr><td>Johannesburg Stock Exchange Vodacom Group Limited Cash Settled SSF Equity Future Nov 2019</td><td>Johannesburg Stock Exchange</td><td>VODSX9^1</td><td>Equity Future</td><td>DC</td><td>21/11/2019 12:00:00 AM</td><td>[VODJ.J]</td></tr></tbody></table>"
      ]
     },
     "execution_count": 5,
     "metadata": {},
     "output_type": "execute_result"
    }
   ],
   "source": [
    "var filter = \"TickerSymbol eq 'vod' and ExpiryDate lt 2019-12-01 and ExpiryDate ge 2019-11-01\";\n",
    "var select = \"DTSubjectName, ExchangeName, RIC, RCSAssetCategoryLeaf, AssetState, ExpiryDate, UnderlyingQuoteRIC\";\n",
    "\n",
    "var response = Search.Definition(Search.View.DerivativeQuotes).Filter(filter)\n",
    "                                                              .Select(select)\n",
    "                                                              .GetData();\n",
    "response.Data.Table"
   ]
  },
  {
   "cell_type": "markdown",
   "metadata": {},
   "source": [
    "#### Example - Expired Crude Oil Futures in the last year"
   ]
  },
  {
   "cell_type": "code",
   "execution_count": 6,
   "metadata": {},
   "outputs": [],
   "source": [
    "// Build expiry date range expression\n",
    "var dateOneYearAgo = DateTime.Now.AddYears(-1);\n",
    "var dateRange = $\"ExpiryDate ge {dateOneYearAgo:yyyy-MM-dd} and ExpiryDate lt {DateTime.Now:yyyy-MM-dd}\";"
   ]
  },
  {
   "cell_type": "code",
   "execution_count": 7,
   "metadata": {},
   "outputs": [
    {
     "data": {
      "text/html": [
       "<table><thead><th>DTSubjectName</th><th>RIC</th><th>ExpiryDate</th><th>RCSUnderlyingProductLeaf</th></thead><tbody><tr><td>ICE Crude Oil Average Monthly</td><td>LCOAVGMU21</td><td>30/09/2021 12:00:00 AM</td><td>Crude Oil</td></tr><tr><td>ICE Crude Oil Average Quarterly</td><td>LCOAVGQU21</td><td>30/09/2021 12:00:00 AM</td><td>Crude Oil</td></tr><tr><td>NYMEX Light Sweet Crude Oil (WTI) Composite Energy Future Average Quarterly</td><td>CLAVGQU21</td><td>30/09/2021 12:00:00 AM</td><td>Crude Oil</td></tr><tr><td>TOCOM Crude Oil Full Session Energy Future Average Monthly</td><td>JCOAVGMU21</td><td>30/09/2021 12:00:00 AM</td><td>Crude Oil</td></tr><tr><td>TOCOM Crude Oil Full Session Energy Future Average Quarterly</td><td>JCOAVGQU21</td><td>30/09/2021 12:00:00 AM</td><td>Crude Oil</td></tr><tr><td>NYMEX Light Sweet Crude Oil (WTI) Composite Energy Future Average Monthly</td><td>CLAVGMU21</td><td>30/09/2021 12:00:00 AM</td><td>Crude Oil</td></tr><tr><td>ICE WTI Crude Futures Electronic Energy Future Average Monthly</td><td>WTCLAVGMU21</td><td>30/09/2021 12:00:00 AM</td><td>Crude Oil</td></tr><tr><td>ICE WTI Crude Futures Electronic Energy Future Average Quarterly</td><td>WTCLAVGQU21</td><td>30/09/2021 12:00:00 AM</td><td>Crude Oil</td></tr><tr><td>BFO Crude Oil Dated Swap Europe Average Quarterly</td><td>TBFODTDAVGQU21</td><td>30/09/2021 12:00:00 AM</td><td>Crude Oil</td></tr><tr><td>Dubai Crude Oil Swap Asia Average Quarterly</td><td>TDUBSGSWAVGQU21</td><td>30/09/2021 12:00:00 AM</td><td>Crude Oil</td></tr><tr><td>BFO Crude Oil Dated Swap Europe Average Monthly</td><td>TBFODTDAVGMU21</td><td>30/09/2021 12:00:00 AM</td><td>Crude Oil</td></tr><tr><td>Dubai Crude Oil Swap Asia Average Monthly</td><td>TDUBSGSWAVGMU21</td><td>30/09/2021 12:00:00 AM</td><td>Crude Oil</td></tr><tr><td>DME Oman Crude Oil Commodity Future Time Spread Nov 2021</td><td>TR1OQFVSDMX1</td><td>30/09/2021 12:00:00 AM</td><td>Crude Oil</td></tr><tr><td>Mediterranean Crude Slate Crack Refinery Margin Average September 2021</td><td>TMEDCSCRKAVGMU21</td><td>30/09/2021 12:00:00 AM</td><td>Crude Oil</td></tr><tr><td>North West Europe Crude Slate Crack Refinery Margin Average September 2021</td><td>TNWECSCRKAVGQU21</td><td>30/09/2021 12:00:00 AM</td><td>Crude Oil</td></tr><tr><td>PADD5 Crude Slate Crack Refinery Margin Average September 2021</td><td>TPD5CSCRKAVGMU21</td><td>30/09/2021 12:00:00 AM</td><td>Crude Oil</td></tr><tr><td>PADD3 Crude Slate Crack Refinery Margin Average September 2021</td><td>TPD3CSCRKAVGQU21</td><td>30/09/2021 12:00:00 AM</td><td>Crude Oil</td></tr><tr><td>Mediterranean Crude Slate Crack Refinery Margin Average September 2021</td><td>TMEDCSCRKAVGQU21</td><td>30/09/2021 12:00:00 AM</td><td>Crude Oil</td></tr><tr><td>PADD3 Crude Slate Crack Refinery Margin Average September 2021</td><td>TPD3CSCRKAVGMU21</td><td>30/09/2021 12:00:00 AM</td><td>Crude Oil</td></tr><tr><td>North West Europe Crude Slate Crack Refinery Margin Average September 2021</td><td>TNWECSCRKAVGMU21</td><td>30/09/2021 12:00:00 AM</td><td>Crude Oil</td></tr><tr><td>PADD5 Crude Slate Crack Refinery Margin Average September 2021</td><td>TPD5CSCRKAVGQU21</td><td>30/09/2021 12:00:00 AM</td><td>Crude Oil</td></tr><tr><td>TOCOM Crude Oil Full Session Energy Future Average Monthly</td><td>JCOAVGMQ21</td><td>31/08/2021 12:00:00 AM</td><td>Crude Oil</td></tr><tr><td>PADD3 Crude Slate Crack Refinery Margin Average August 2021</td><td>TPD3CSCRKAVGMQ21</td><td>31/08/2021 12:00:00 AM</td><td>Crude Oil</td></tr><tr><td>North West Europe Crude Slate Crack Refinery Margin Average August 2021</td><td>TNWECSCRKAVGMQ21</td><td>31/08/2021 12:00:00 AM</td><td>Crude Oil</td></tr><tr><td>PADD5 Crude Slate Crack Refinery Margin Average August 2021</td><td>TPD5CSCRKAVGMQ21</td><td>31/08/2021 12:00:00 AM</td><td>Crude Oil</td></tr><tr><td>SG Van Gogh Brent Blend-Refinery Margin Topping Sep 2021</td><td>SGMVANGOTOPMU1</td><td>31/08/2021 12:00:00 AM</td><td>Brent Crude</td></tr><tr><td>SG Van Gogh Brent Blend-Refinery Margin Coking Sep 2021</td><td>SGMVANGOCOKMU1</td><td>31/08/2021 12:00:00 AM</td><td>Brent Crude</td></tr><tr><td>SG Van Gogh Brent Blend-Refinery Margin Cracking Sep 2021</td><td>SGMVANGOCRKMU1</td><td>31/08/2021 12:00:00 AM</td><td>Brent Crude</td></tr><tr><td>TR DT VLCC Fr Fair Value from USGC US Saint James to Chittagong IN Vizag Month Sep 2021</td><td>TRTDSJM1VIZFVMU1</td><td>31/08/2021 12:00:00 AM</td><td>Crude Oil</td></tr><tr><td>TR DT Suezmax Fr FV from West Africa NG Qua Iboe to Chitgng IN Vizag Month Sep 2021</td><td>TRTDQIB2VIZFVMU1</td><td>31/08/2021 12:00:00 AM</td><td>Crude Oil</td></tr></tbody></table>"
      ]
     },
     "execution_count": 7,
     "metadata": {},
     "output_type": "execute_result"
    }
   ],
   "source": [
    "filter = $@\"RCSUnderlyingProductName xeq 'Energy' and\n",
    "            SearchAllCategoryv3 eq 'Commodities' and\n",
    "            RCSAssetCategoryName eq 'Derivative\\Future' and RCSUnderlyingProductName eq 'Crude Oil' and\n",
    "            ExchangeName xeq 'Source is a Refinitiv Contributor' and {dateRange}\";\n",
    "\n",
    "response = Search.Definition(Search.View.SearchAll).Filter(filter)\n",
    "                                                   .OrderBy(\"ExpiryDate desc\")\n",
    "                                                   .Top(30)\n",
    "                                                   .Select(\"DTSubjectName, RIC, ExpiryDate, RCSUnderlyingProductLeaf\")\n",
    "                                                   .GetData();\n",
    "response.Data.Table"
   ]
  },
  {
   "cell_type": "markdown",
   "metadata": {},
   "source": [
    "#### Example - Expired Electricity Futures in the last year"
   ]
  },
  {
   "cell_type": "code",
   "execution_count": 8,
   "metadata": {},
   "outputs": [
    {
     "data": {
      "text/html": [
       "<table><thead><th>DTSubjectName</th><th>RIC</th><th>ExpiryDate</th><th>RCSUnderlyingProductLeaf</th></thead><tbody><tr><td>Power Italy Baseload Fair Value Monthly Dec 2021</td><td>TRITBFVMZ1</td><td>30/11/2021 12:00:00 AM</td><td>Baseload</td></tr><tr><td>Power Germany Baseload Fair Value Monthly Dec 2021</td><td>TRDEBFVMZ1</td><td>30/11/2021 12:00:00 AM</td><td>Baseload</td></tr><tr><td>Power Nordic  Sundsvall Fair Value Monthly Dec 2021</td><td>TRSUNBFVMZ1</td><td>30/11/2021 12:00:00 AM</td><td>Power</td></tr><tr><td>Power Nordic  TROMSO Fair Value Monthly Dec 2021</td><td>TRTROBFVMZ1</td><td>30/11/2021 12:00:00 AM</td><td>Power</td></tr><tr><td>Power UK Baseload Fair Value Monthly Dec 2021</td><td>TRGBBFVMZ1</td><td>30/11/2021 12:00:00 AM</td><td>Baseload</td></tr><tr><td>Power Nordic  Oslo Fair Value Monthly Dec 2021</td><td>TROSLBFVMZ1</td><td>30/11/2021 12:00:00 AM</td><td>Power</td></tr><tr><td>Power Nordic Baseload Fair Value Monthly Dec 2021</td><td>TRNOBFVMZ1</td><td>30/11/2021 12:00:00 AM</td><td>Baseload</td></tr><tr><td>Power Nordic  Stockholm Fair Value Monthly Dec 2021</td><td>TRSTOBFVMZ1</td><td>30/11/2021 12:00:00 AM</td><td>Power</td></tr><tr><td>RFV JP TYO Power Fair Value Monthly Dec 2021</td><td>TRJPTYOBFVMZ1</td><td>30/11/2021 12:00:00 AM</td><td>Power</td></tr><tr><td>RFV JP KAN Power Fair Value Balance of Month Nov 2021</td><td>TRJPKANBFVBMX1</td><td>30/11/2021 12:00:00 AM</td><td>Power</td></tr><tr><td>Power Swiss Baseload Fair Value Monthly Dec 2021</td><td>TRCHBFVMZ1</td><td>30/11/2021 12:00:00 AM</td><td>Baseload</td></tr><tr><td>Power Nordic Aarhus Fair Value BOM Nov 2021</td><td>TRARHBFVBMX1</td><td>30/11/2021 12:00:00 AM</td><td>Power</td></tr><tr><td>Power Poland Baseload Fair Value Monthly Dec 2021</td><td>TRPLBFVMZ1</td><td>30/11/2021 12:00:00 AM</td><td>Baseload</td></tr><tr><td>Power Germany Baseload Fair Value BOM Nov 2021</td><td>TRDEBFVBMX1</td><td>30/11/2021 12:00:00 AM</td><td>Baseload</td></tr><tr><td>Power Nordic  Copenhagen Fair Value Monthly Dec 2021</td><td>TRCPHBFVMZ1</td><td>30/11/2021 12:00:00 AM</td><td>Power</td></tr><tr><td>Power Spain Baseload Fair Value BOM Nov 2021</td><td>TRESBFVBMX1</td><td>30/11/2021 12:00:00 AM</td><td>Baseload</td></tr><tr><td>Power Austria Baseload Fair Value Monthly Dec 2021</td><td>TRATBFVMZ1</td><td>30/11/2021 12:00:00 AM</td><td>Baseload</td></tr><tr><td>Power Nordic  Malmo Fair Value BOM Nov 2021</td><td>TRMALBFVBMX1</td><td>30/11/2021 12:00:00 AM</td><td>Power</td></tr><tr><td>Power Austria Baseload Fair Value Balance of Month Nov 2021</td><td>TRATBFVBMX1</td><td>30/11/2021 12:00:00 AM</td><td>Baseload</td></tr><tr><td>Power Nordic Latvian Fair Value Balance of Month Nov 2021</td><td>TRRIGBFVBMX1</td><td>30/11/2021 12:00:00 AM</td><td>Power</td></tr><tr><td>Power Netherlands Baseload Fair Value Monthly Dec 2021</td><td>TRNLBFVMZ1</td><td>30/11/2021 12:00:00 AM</td><td>Baseload</td></tr><tr><td>Power Hungary Baseload Fair Value Monthly Dec 2021</td><td>TRHUBFVMZ1</td><td>30/11/2021 12:00:00 AM</td><td>Baseload</td></tr><tr><td>Power Swiss Baseload Fair Value (BOM) Nov 2021</td><td>TRCHBFVBMX1</td><td>30/11/2021 12:00:00 AM</td><td>Baseload</td></tr><tr><td>Power Czech Republic Baseload Fair Value Monthly Dec 2021</td><td>TRCZBFVMZ1</td><td>30/11/2021 12:00:00 AM</td><td>Baseload</td></tr><tr><td>Power UK Baseload Fair Value BOM Nov 2021</td><td>TRGBBFVBMX1</td><td>30/11/2021 12:00:00 AM</td><td>Baseload</td></tr><tr><td>Power Hungary Baseload Fair Value BOM Nov 2021</td><td>TRHUBFVBMX1</td><td>30/11/2021 12:00:00 AM</td><td>Baseload</td></tr><tr><td>Power Italy Baseload Fair Value BOM Nov 2021</td><td>TRITBFVBMX1</td><td>30/11/2021 12:00:00 AM</td><td>Baseload</td></tr><tr><td>Power Nordic  Oslo Fair Value BOM Nov 2021</td><td>TROSLBFVBMX1</td><td>30/11/2021 12:00:00 AM</td><td>Power</td></tr><tr><td>RFV JP TYO Power Fair Value Balance of Month Nov 2021</td><td>TRJPTYOBFVBMX1</td><td>30/11/2021 12:00:00 AM</td><td>Power</td></tr><tr><td>Power Nordic  Copenhagen Fair Value BOM Nov 2021</td><td>TRCPHBFVBMX1</td><td>30/11/2021 12:00:00 AM</td><td>Power</td></tr></tbody></table>"
      ]
     },
     "execution_count": 8,
     "metadata": {},
     "output_type": "execute_result"
    }
   ],
   "source": [
    "filter = $@\"SearchAllCategoryv3 eq 'Commodities' and\n",
    "            RCSUnderlyingProductName eq 'Power' and\n",
    "            ExchangeName xeq 'Source is a Refinitiv Contributor' and {dateRange}\";\n",
    "\n",
    "response = Search.Definition(Search.View.SearchAll).Filter(filter)\n",
    "                                                   .OrderBy(\"ExpiryDate desc\")\n",
    "                                                   .Top(30)\n",
    "                                                   .Select(\"DTSubjectName, RIC, ExpiryDate, RCSUnderlyingProductLeaf\")\n",
    "                                                   .GetData();\n",
    "response.Data.Table"
   ]
  },
  {
   "cell_type": "code",
   "execution_count": null,
   "metadata": {},
   "outputs": [],
   "source": []
  }
 ],
 "metadata": {
  "kernelspec": {
   "display_name": ".NET (C#)",
   "language": "C#",
   "name": ".net-csharp"
  },
  "language_info": {
   "file_extension": ".cs",
   "mimetype": "text/x-csharp",
   "name": "C#",
   "pygments_lexer": "csharp",
   "version": "9.0"
  }
 },
 "nbformat": 4,
 "nbformat_minor": 4
}
