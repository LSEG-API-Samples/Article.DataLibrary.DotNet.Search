{
 "cells": [
  {
   "cell_type": "markdown",
   "metadata": {},
   "source": [
    "## Filter\n",
    "One of the most powerful parameters when defining a search is the ability to filter the results.  While a Query is more of an unstructured approach to search for text within documents, a Filter provides a well-defined structured approach when we know which properties we want to restrict our matching documents.\n",
    "\n",
    "The following examples will be using some of the popular properties as outlined within the \"Properties & Metadata\" notebook.  In addition, the selection of these properties was determined based on the discovery techniques used such as metadata and debugging."
   ]
  },
  {
   "cell_type": "markdown",
   "metadata": {},
   "source": [
    "#### NuGet Packages"
   ]
  },
  {
   "cell_type": "code",
   "execution_count": 1,
   "metadata": {},
   "outputs": [
    {
     "data": {
      "text/html": [
       "\r\n",
       "<div>\r\n",
       "    <div id='dotnet-interactive-this-cell-24436.Microsoft.DotNet.Interactive.Http.HttpPort' style='display: none'>\r\n",
       "        The below script needs to be able to find the current output cell; this is an easy method to get it.\r\n",
       "    </div>\r\n",
       "    <script type='text/javascript'>\r\n",
       "async function probeAddresses(probingAddresses) {\r\n",
       "    function timeout(ms, promise) {\r\n",
       "        return new Promise(function (resolve, reject) {\r\n",
       "            setTimeout(function () {\r\n",
       "                reject(new Error('timeout'))\r\n",
       "            }, ms)\r\n",
       "            promise.then(resolve, reject)\r\n",
       "        })\r\n",
       "    }\r\n",
       "\r\n",
       "    if (Array.isArray(probingAddresses)) {\r\n",
       "        for (let i = 0; i < probingAddresses.length; i++) {\r\n",
       "\r\n",
       "            let rootUrl = probingAddresses[i];\r\n",
       "\r\n",
       "            if (!rootUrl.endsWith('/')) {\r\n",
       "                rootUrl = `${rootUrl}/`;\r\n",
       "            }\r\n",
       "\r\n",
       "            try {\r\n",
       "                let response = await timeout(1000, fetch(`${rootUrl}discovery`, {\r\n",
       "                    method: 'POST',\r\n",
       "                    cache: 'no-cache',\r\n",
       "                    mode: 'cors',\r\n",
       "                    timeout: 1000,\r\n",
       "                    headers: {\r\n",
       "                        'Content-Type': 'text/plain'\r\n",
       "                    },\r\n",
       "                    body: probingAddresses[i]\r\n",
       "                }));\r\n",
       "\r\n",
       "                if (response.status == 200) {\r\n",
       "                    return rootUrl;\r\n",
       "                }\r\n",
       "            }\r\n",
       "            catch (e) { }\r\n",
       "        }\r\n",
       "    }\r\n",
       "}\r\n",
       "\r\n",
       "function loadDotnetInteractiveApi() {\r\n",
       "    probeAddresses([\"http://192.168.0.35:1015/\", \"http://127.0.0.1:1015/\"])\r\n",
       "        .then((root) => {\r\n",
       "        // use probing to find host url and api resources\r\n",
       "        // load interactive helpers and language services\r\n",
       "        let dotnetInteractiveRequire = require.config({\r\n",
       "        context: '24436.Microsoft.DotNet.Interactive.Http.HttpPort',\r\n",
       "                paths:\r\n",
       "            {\r\n",
       "                'dotnet-interactive': `${root}resources`\r\n",
       "                }\r\n",
       "        }) || require;\r\n",
       "\r\n",
       "            window.dotnetInteractiveRequire = dotnetInteractiveRequire;\r\n",
       "\r\n",
       "            window.configureRequireFromExtension = function(extensionName, extensionCacheBuster) {\r\n",
       "                let paths = {};\r\n",
       "                paths[extensionName] = `${root}extensions/${extensionName}/resources/`;\r\n",
       "                \r\n",
       "                let internalRequire = require.config({\r\n",
       "                    context: extensionCacheBuster,\r\n",
       "                    paths: paths,\r\n",
       "                    urlArgs: `cacheBuster=${extensionCacheBuster}`\r\n",
       "                    }) || require;\r\n",
       "\r\n",
       "                return internalRequire\r\n",
       "            };\r\n",
       "        \r\n",
       "            dotnetInteractiveRequire([\r\n",
       "                    'dotnet-interactive/dotnet-interactive'\r\n",
       "                ],\r\n",
       "                function (dotnet) {\r\n",
       "                    dotnet.init(window);\r\n",
       "                },\r\n",
       "                function (error) {\r\n",
       "                    console.log(error);\r\n",
       "                }\r\n",
       "            );\r\n",
       "        })\r\n",
       "        .catch(error => {console.log(error);});\r\n",
       "    }\r\n",
       "\r\n",
       "// ensure `require` is available globally\r\n",
       "if ((typeof(require) !==  typeof(Function)) || (typeof(require.config) !== typeof(Function))) {\r\n",
       "    let require_script = document.createElement('script');\r\n",
       "    require_script.setAttribute('src', 'https://cdnjs.cloudflare.com/ajax/libs/require.js/2.3.6/require.min.js');\r\n",
       "    require_script.setAttribute('type', 'text/javascript');\r\n",
       "    \r\n",
       "    \r\n",
       "    require_script.onload = function() {\r\n",
       "        loadDotnetInteractiveApi();\r\n",
       "    };\r\n",
       "\r\n",
       "    document.getElementsByTagName('head')[0].appendChild(require_script);\r\n",
       "}\r\n",
       "else {\r\n",
       "    loadDotnetInteractiveApi();\r\n",
       "}\r\n",
       "\r\n",
       "    </script>\r\n",
       "</div>"
      ]
     },
     "metadata": {},
     "output_type": "display_data"
    },
    {
     "data": {
      "text/plain": [
       "Installed package Microsoft.Data.Analysis version 0.4.0"
      ]
     },
     "metadata": {},
     "output_type": "display_data"
    },
    {
     "data": {
      "text/plain": [
       "Installed package Refinitiv.DataPlatform.Content version 1.0.0-alpha3"
      ]
     },
     "metadata": {},
     "output_type": "display_data"
    }
   ],
   "source": [
    "#r \"nuget:Refinitiv.DataPlatform.Content, 1.0.0-alpha3\"\n",
    "#r \"nuget:Microsoft.Data.Analysis\""
   ]
  },
  {
   "cell_type": "code",
   "execution_count": 2,
   "metadata": {},
   "outputs": [],
   "source": [
    "using Newtonsoft.Json.Linq;\n",
    "using Refinitiv.DataPlatform.Content.SearchService;\n",
    "using Refinitiv.DataPlatform.Core;\n",
    "using Microsoft.Data.Analysis;\n",
    "using Microsoft.AspNetCore.Html;\n",
    "using System.Linq;\n",
    "using System;"
   ]
  },
  {
   "cell_type": "markdown",
   "metadata": {},
   "source": [
    "#### Table Output\n",
    "Helper routine to output data in a table format."
   ]
  },
  {
   "cell_type": "code",
   "execution_count": 3,
   "metadata": {},
   "outputs": [],
   "source": [
    "Formatter.Register<IList<JObject>>((hits, writer) =>\n",
    "{\n",
    "    if (hits.Count > 0)\n",
    "    {\n",
    "        var fields = new List<String>();\n",
    "        var rows = new List<ICollection<IHtmlContent>>();\n",
    "        var data = new Dictionary<string, IHtmlContent>();\n",
    "\n",
    "        foreach(var hit in hits)\n",
    "        {\n",
    "            var cells = new List<IHtmlContent>();\n",
    "            foreach (var val in hit.Properties())\n",
    "            {\n",
    "                if ( !fields.Any(item => item.Equals(val.Name)) )\n",
    "                    fields.Add(val.Name);\n",
    "                data[val.Name] = td(val.Value.ToString());\n",
    "            }\n",
    "            rows.Add(new List<IHtmlContent>(data.Values));\n",
    "            data.Keys.ToList().ForEach(x => data[x] = td(\"\"));\n",
    "        }\n",
    "        \n",
    "        var headers = new List<IHtmlContent>();\n",
    "        headers.AddRange(fields.Select(c => (IHtmlContent)th(c)));\n",
    "\n",
    "        var t = table(thead(headers), tbody(rows.Select(r => tr(r))));\n",
    "        writer.Write(t);\n",
    "    }\n",
    "}, \"text/html\");"
   ]
  },
  {
   "cell_type": "code",
   "execution_count": 4,
   "metadata": {},
   "outputs": [
    {
     "name": "stdout",
     "output_type": "stream",
     "text": [
      "17/12/2020 12:20:15 PM:Session is Pending. (State: Pending)\n",
      "17/12/2020 12:20:16 PM:{\n",
      "  \"Contents\": \"Desktop Session Successfully Authenticated\"\n",
      "}. (Event: SessionAuthenticationSuccess)\n",
      "17/12/2020 12:20:16 PM:Session is Opened. (State: Opened)\n"
     ]
    }
   ],
   "source": [
    "// Create a session into the desktop\n",
    "var session = CoreFactory.CreateSession(new DesktopSession.Params()\n",
    "                            .AppKey(\"Your API Key here\")\n",
    "                            .OnState((s, state, msg) => Console.WriteLine($\"{DateTime.Now}:{msg}. (State: {state})\"))\n",
    "                            .OnEvent((s, eventCode, msg) => Console.WriteLine($\"{DateTime.Now}:{msg}. (Event: {eventCode})\")));\n",
    "session.Open();"
   ]
  },
  {
   "cell_type": "markdown",
   "metadata": {},
   "source": [
    "#### Example - Query vs Filter\n",
    "As you become more familiar with Search, you will realize there are a number of different paths you can take to arrive at the same destination."
   ]
  },
  {
   "cell_type": "code",
   "execution_count": 5,
   "metadata": {},
   "outputs": [
    {
     "data": {
      "text/html": [
       "<table><thead><th>DocumentTitle</th><th>RIC</th><th>ISIN</th><th>CUSIP</th><th>SEDOL</th><th>PermID</th></thead><tbody><tr><td>AstraZeneca PLC, Plain Vanilla Fixed Coupon Bond, TRACE Eligible AZN 2.375 12-Jun-2022</td><td>046353AQ1=</td><td>US046353AQ14</td><td>046353AQ1</td><td>BF4SNM7</td><td>46645702869</td></tr></tbody></table>"
      ]
     },
     "execution_count": 5,
     "metadata": {},
     "output_type": "execute_result"
    }
   ],
   "source": [
    "var response = Search.Definition(Search.View.Instruments).Query(\"US046353AQ14\")\n",
    "                                                         .Select(\"DocumentTitle, RIC, ISIN, CUSIP, SEDOL, PermID\")\n",
    "                                                         .GetData();\n",
    "response.Data.Hits"
   ]
  },
  {
   "cell_type": "code",
   "execution_count": 6,
   "metadata": {},
   "outputs": [
    {
     "data": {
      "text/html": [
       "<table><thead><th>DocumentTitle</th><th>RIC</th><th>ISIN</th><th>CUSIP</th><th>SEDOL</th><th>PermID</th></thead><tbody><tr><td>AstraZeneca PLC, Plain Vanilla Fixed Coupon Bond, TRACE Eligible AZN 2.375 12-Jun-2022</td><td>046353AQ1=</td><td>US046353AQ14</td><td>046353AQ1</td><td>BF4SNM7</td><td>46645702869</td></tr></tbody></table>"
      ]
     },
     "execution_count": 6,
     "metadata": {},
     "output_type": "execute_result"
    }
   ],
   "source": [
    "// Retrieve the document(s) for the same ISIN using a Filter\n",
    "response = Search.Definition(Search.View.Instruments).Filter(\"ISIN eq 'US046353AQ14'\")\n",
    "                                                     .Select(\"DocumentTitle, RIC, ISIN, CUSIP, SEDOL, PermID\")\n",
    "                                                     .GetData();\n",
    "response.Data.Hits"
   ]
  },
  {
   "cell_type": "code",
   "execution_count": 7,
   "metadata": {},
   "outputs": [
    {
     "data": {
      "text/html": [
       "<table><thead><th>DocumentTitle</th><th>RIC</th><th>ISIN</th><th>CUSIP</th><th>SEDOL</th><th>PermID</th></thead><tbody><tr><td>AstraZeneca PLC, Plain Vanilla Fixed Coupon Bond, TRACE Eligible AZN 2.375 12-Jun-2022</td><td>046353AQ1=</td><td>US046353AQ14</td><td>046353AQ1</td><td>BF4SNM7</td><td>46645702869</td></tr></tbody></table>"
      ]
     },
     "execution_count": 7,
     "metadata": {},
     "output_type": "execute_result"
    }
   ],
   "source": [
    "// If you are provided a code but are not sure if the code is an ISIN, SEDOL, CUSIP etc, \n",
    "// try using the 'CodeResolutionBase' property.\n",
    "// Note: I'm using the CUSIP for the same instrument within the Filter\n",
    "response = Search.Definition(Search.View.Instruments).Filter(\"CodeResolutionBase eq '046353AQ1'\")\n",
    "                                                     .Select(\"DocumentTitle, RIC, ISIN, CUSIP, SEDOL, PermID\")\n",
    "                                                     .GetData();\n",
    "response.Data.Hits"
   ]
  },
  {
   "cell_type": "markdown",
   "metadata": {},
   "source": [
    "#### Example - Apple Equities"
   ]
  },
  {
   "cell_type": "code",
   "execution_count": 8,
   "metadata": {
    "scrolled": true
   },
   "outputs": [
    {
     "data": {
      "text/html": [
       "<table><thead><th>RIC</th><th>CompositeDescriptiveName</th><th>ExchangeCode</th><th>ExchangeName</th><th>AssetType</th></thead><tbody><tr><td>AAPL.O</td><td>Apple Ord Shs APPLE ORD</td><td>NSQ</td><td>NASDAQ Global Select Consolidated</td><td>[\r\n",
       "  &quot;EQUITY&quot;\r\n",
       "]</td></tr><tr><td>AAPLEUR.xbo</td><td>Apple Ord Shs APPLE ORD APPLE INC</td><td>XBO</td><td>MiFID Composite Cross Market Service</td><td>[\r\n",
       "  &quot;EQUITY&quot;\r\n",
       "]</td></tr><tr><td>AAPL.OQ</td><td>Apple Ord Shs APPLE ORD</td><td>NSM</td><td>NASDAQ Stock Exchange Global Select Market</td><td>[\r\n",
       "  &quot;EQUITY&quot;\r\n",
       "]</td></tr><tr><td>AAPL.DG</td><td>Apple Ord Shs APPLE ORD</td><td>GCD</td><td>Cboe EDGX Exchange - Nasdaq Global Select Market</td><td>[\r\n",
       "  &quot;EQUITY&quot;\r\n",
       "]</td></tr><tr><td>AAPL.Z</td><td>Apple Ord Shs APPLE ORD APPLE INC</td><td>GCZ</td><td>Cboe BZX Exchange - Nasdaq Global Select Market</td><td>[\r\n",
       "  &quot;EQUITY&quot;\r\n",
       "]</td></tr><tr><td>AAPL.B</td><td>Apple Ord Shs APPLE ORD</td><td>GSB</td><td>Boston SE when trading NASDAQ Global Select Market</td><td>[\r\n",
       "  &quot;EQUITY&quot;\r\n",
       "]</td></tr><tr><td>AAPLE.MI</td><td>Apple Ord Shs APPLE ORD</td><td>MIL</td><td>Milan Stock Exchange</td><td>[\r\n",
       "  &quot;EQUITY&quot;\r\n",
       "]</td></tr><tr><td>AAPL.ZY</td><td>Apple Ord Shs APPLE ORD APPLE INC</td><td>GCY</td><td>Cboe BYX Exchange - Nasdaq Global Select Market</td><td>[\r\n",
       "  &quot;EQUITY&quot;\r\n",
       "]</td></tr><tr><td>AAPL.PH</td><td>Apple Ord Shs APPLE ORD APPLE INC</td><td>GSX</td><td>NASDAQ OMX PHLX Global Select Market</td><td>[\r\n",
       "  &quot;EQUITY&quot;\r\n",
       "]</td></tr><tr><td>AAPL.DY</td><td>Apple Ord Shs APPLE ORD</td><td>GDA</td><td>Cboe EDGA Exchange - Nasdaq Global Select Market</td><td>[\r\n",
       "  &quot;EQUITY&quot;\r\n",
       "]</td></tr></tbody></table>"
      ]
     },
     "execution_count": 8,
     "metadata": {},
     "output_type": "execute_result"
    }
   ],
   "source": [
    "// Within the view (EquityQuotes), select all documents where the term 'AAPL' is within the ticker symbol.  For each, \n",
    "// ensure the type of asset is an 'equity' and that each asset is in an active state.  I chose to filter out the \n",
    "// AssetState of 'DC' (De-activated) as my criteria.\n",
    "//\n",
    "// Note: An alternative to \"AssetType eq 'equity'\" could be to use: \"RCSAssetCategoryLeaf eq 'Ordinary Share'\"\n",
    "var filter = \"AssetType eq 'equity' and AssetState ne 'DC' and TickerSymbol eq 'AAPL'\";\n",
    "var select = \"RIC, CompositeDescriptiveName, ExchangeCode, ExchangeName, AssetType\";\n",
    "\n",
    "response = Search.Definition(Search.View.EquityQuotes).Filter(filter)\n",
    "                                                      .Select(select)\n",
    "                                                      .GetData();\n",
    "response.Data.Hits"
   ]
  },
  {
   "cell_type": "markdown",
   "metadata": {},
   "source": [
    "#### Example - Vessels\n",
    "List all Very Large Gas Containers (VLGC) that are in service within the last week."
   ]
  },
  {
   "cell_type": "code",
   "execution_count": 9,
   "metadata": {},
   "outputs": [],
   "source": [
    "// Build date range expression for the location of the vessel for the last 7 days\n",
    "var date7DaysAgo = DateTime.Now.AddDays(-7);\n",
    "var dateRange = @$\"LocationTimestamp ge {date7DaysAgo:yyyy-MM-dd} and LocationTimestamp lt {DateTime.Now:yyyy-MM-dd}\";"
   ]
  },
  {
   "cell_type": "code",
   "execution_count": 10,
   "metadata": {
    "scrolled": true
   },
   "outputs": [
    {
     "data": {
      "text/html": [
       "<table><thead><th>RIC</th><th>SynonymSearchAll</th><th>DTSource</th><th>LocationTimestamp</th><th>IMO</th><th>Latitude</th><th>Longitude</th><th>LocationDestination</th></thead><tbody><tr><td>C}KY7309466539</td><td>Chinese Liquefied Petroleum Gas Very Large Gas Carrier</td><td>South China Sea|Canton Tanker Zone</td><td>13/12/2020 2:25:30 PM</td><td>9002908</td><td>23.280416488647</td><td>117.701065063477</td><td>SOHAR_OMAN [Sohar]</td></tr><tr><td>C}KY7309480678</td><td>Indian Liquefied Petroleum Gas Very Large Gas Carrier</td><td>Arabia Sea|West Coast India Tanker Zone</td><td>16/12/2020 7:14:52 PM</td><td>9208227</td><td>21.725820541382</td><td>66.14054107666</td><td>MUMBAI:INDIA [Mumbai]</td></tr><tr><td>C}KY7309491970</td><td>Egyptian Liquefied Petroleum Gas Very Large Gas Carrier</td><td>Red Sea|Suez Canal Tanker Zone|Egypt</td><td>13/12/2020 6:14:32 PM</td><td>9350288</td><td>28.748943328857</td><td>33.149505615234</td><td>WADI FEIRAN [Wadi Feiran Oil Terminal]</td></tr><tr><td>C}KY7309491971</td><td>Egyptian Liquefied Petroleum Gas Very Large Gas Carrier</td><td>Red Sea|Suez Canal Tanker Zone|Egypt</td><td>14/12/2020 5:32:42 AM</td><td>9350290</td><td>29.597896575928</td><td>32.366004943848</td><td>SA YNB [Yanbu]</td></tr><tr><td>C}KY7309529540</td><td>Indonesian India Liquefied Petroleum Gas Very Large Gas Carrier</td><td>Java Sea|Lawi-Lawi Terminal Tanker Zone</td><td>14/12/2020 10:17:11 PM</td><td>9643348</td><td>-7.585949897766</td><td>114.007713317871</td><td>KALBUT,SITUBONDO</td></tr><tr><td>C}KY7309586097</td><td>India Indonesian Liquefied Petroleum Gas Very Large Gas Carrier Qatari</td><td>West Indian Ocean|Colombo Tanker Zone</td><td>16/12/2020 1:16:14 PM</td><td>9685217</td><td>8.1711769104</td><td>76.636680603027</td><td>RAS LAFFAN,QATAR [Ras Laffan]</td></tr><tr><td>C}KY7309627013</td><td>Liquefied Petroleum Gas Very Large Gas Carrier</td><td>Gulf of Guinea|West Africa Tanker Zone</td><td>12/12/2020 5:20:07 PM</td><td>9710397</td><td>-1.550691723824</td><td>6.165096759796</td><td>BONNY [Bonny Inshore Terminal]</td></tr><tr><td>C}KX7309826634</td><td>Egyptian Liquefied Petroleum Gas Very Large Gas Carrier Indian</td><td>Arabia Sea|Aden Tanker Zone</td><td>16/12/2020 4:12:28 AM</td><td>9762118</td><td>14.120151519775</td><td>57.563789367676</td><td>MUNDRA [Mundra]</td></tr><tr><td>C}KY7309843662</td><td>Indian India Liquefied Petroleum Gas Very Large Gas Carrier</td><td>Bay of Bengal|Chittagong Tanker Zone</td><td>15/12/2020 2:31:21 AM</td><td>9800099</td><td>21.638631820679</td><td>87.901611328125</td><td>HALDIA,INDIA [Haldia]</td></tr><tr><td>C}KY7309844039</td><td>Korean Liquefied Petroleum Gas Very Large Gas Carrier</td><td>Caribbean Sea|Caribbean Tanker Zone</td><td>14/12/2020 6:31:52 PM</td><td>9797864</td><td>9.619471549988</td><td>-79.944976806641</td><td>PABLB [Balboa]</td></tr><tr><td>C}KY7309451481</td><td>India Liquefied Petroleum Gas Very Large Gas Carrier</td><td>East Indian Ocean|Colombo Tanker Zone</td><td>14/12/2020 3:54:12 AM</td><td>8519966</td><td>6.023099899292</td><td>81.463752746582</td><td>IN DMQ</td></tr><tr><td>C}KY7309461813</td><td>Indonesian India Liquefied Petroleum Gas Very Large Gas Carrier</td><td>Indonesia|East Indian Ocean|Singapore Tanker Zone</td><td>16/12/2020 3:25:06 PM</td><td>8910897</td><td>-5.546188354492</td><td>104.583480834961</td><td>SMB-ID</td></tr><tr><td>C}KY7309478328</td><td>Algerian Liquefied Petroleum Gas Very Large Gas Carrier</td><td>West Med|West Med Tanker Zone|Algeria</td><td>15/12/2020 10:48:59 AM</td><td>9176369</td><td>35.932102203369</td><td>-0.184118330479</td><td>PTSET-&gt;DZAZW [Arzew]</td></tr><tr><td>C}KY7309481757</td><td>Indian India Liquefied Petroleum Gas Very Large Gas Carrier</td><td>Bay of Bengal|Chittagong Tanker Zone</td><td>16/12/2020 11:27:01 AM</td><td>9223540</td><td>21.031595230103</td><td>87.846588134766</td><td>HALDIA [Haldia]</td></tr><tr><td>C}KY7309482943</td><td>India Liquefied Petroleum Gas Very Large Gas Carrier</td><td>Bay of Bengal|Chittagong Tanker Zone</td><td>10/12/2020 9:01:07 AM</td><td>9238284</td><td>21.851600646973</td><td>91.688316345215</td><td>BD CGP [Chittagong]</td></tr><tr><td>C}KY7309483098</td><td>Kuwaiti Liquefied Petroleum Gas Very Large Gas Carrier Indian</td><td>Arabia Sea</td><td>16/12/2020 2:24:02 PM</td><td>9240419</td><td>20.715799331665</td><td>62.90495300293</td><td>ENNORE INDIA [Ennore]</td></tr><tr><td>C}KY7309488246</td><td>Egyptian Liquefied Petroleum Gas Very Large Gas Carrier</td><td>Red Sea|Suez Canal Tanker Zone|Egypt</td><td>14/12/2020 3:51:53 AM</td><td>9306548</td><td>29.642141342163</td><td>32.358818054199</td><td>EG AIS [Ain Sukhna Terminal]</td></tr><tr><td>C}KY7309489512</td><td>Egyptian Liquefied Petroleum Gas Very Large Gas Carrier</td><td>Arabia Sea|Aden Tanker Zone|Oman</td><td>16/12/2020 4:35:57 PM</td><td>9321225</td><td>19.663333892822</td><td>57.71618270874</td><td>DUQM, OMAN</td></tr><tr><td>C}KY7309491638</td><td>American US USA Mexican American United States USA Liquefied Petroleum Gas Very Large Gas Carrier</td><td>Caribbean Sea|Bahamas Tanker Zone|Dominican Republic</td><td>16/12/2020 12:07:08 PM</td><td>9346134</td><td>18.440191268921</td><td>-69.252479553223</td><td>JM KIN&gt;&gt;DO SPM</td></tr><tr><td>C}KY7309492184</td><td>Indian Liquefied Petroleum Gas Very Large Gas Carrier</td><td>Bay of Bengal|Chittagong Tanker Zone</td><td>16/12/2020 11:22:43 AM</td><td>9352963</td><td>17.092554092407</td><td>86.301414489746</td><td>IN HAL [Haldia]</td></tr><tr><td>C}KY7309492328</td><td>Mexican Chinese Liquefied Petroleum Gas Very Large Gas Carrier American United States USA American US USA</td><td>Gulf of Mexico|East Mexico Tanker Zone</td><td>16/12/2020 7:46:38 AM</td><td>9354624</td><td>22.375207901001</td><td>-86.378959655762</td><td>HOUSTON USA [Houston]</td></tr><tr><td>C}KY7309494295</td><td>Indian India Liquefied Petroleum Gas Very Large Gas Carrier</td><td>Bay of Bengal|Chittagong Tanker Zone</td><td>15/12/2020 10:04:23 AM</td><td>9377781</td><td>21.008153915405</td><td>87.879333496094</td><td>HALDIA [Haldia]</td></tr><tr><td>C}KY7309497049</td><td>Chinese Korean Japanese Liquefied Petroleum Gas Very Large Gas Carrier</td><td>East China Sea|Korea Tanker Zone</td><td>13/12/2020 6:13:27 AM</td><td>9409302</td><td>37.025260925293</td><td>126.21028137207</td><td>KR PTK [Okke]</td></tr><tr><td>C}KY7309502991</td><td>Liquefied Petroleum Gas Very Large Gas Carrier</td><td>Red Sea|Suez Canal Tanker Zone</td><td>15/12/2020 6:52:54 AM</td><td>9479929</td><td>28.653467178345</td><td>33.036449432373</td><td>YANBU [Yanbu]</td></tr><tr><td>C}KY7309506527</td><td>Chinese Japanese Liquefied Petroleum Gas Very Large Gas Carrier</td><td>East China Sea|Japan Tanker Zone</td><td>16/12/2020 4:26:37 PM</td><td>9522415</td><td>26.554878234863</td><td>128.46549987793</td><td>JP MIZ [Mizushima]</td></tr><tr><td>C}KY7309527017</td><td>Chinese Japanese Korean Liquefied Petroleum Gas Very Large Gas Carrier</td><td>South China Sea|Manila Tanker Zone</td><td>16/12/2020 7:18:42 AM</td><td>9608300</td><td>16.885808944702</td><td>119.160423278809</td><td>SARTA [Ras Tanura]</td></tr><tr><td>C}KY7309530448</td><td>Indian Egyptian Liquefied Petroleum Gas Very Large Gas Carrier</td><td>West Bengal|Chittagong Tanker Zone|Ganges and Brahmaputra River System|India</td><td>16/12/2020 11:51:30 PM</td><td>9656747</td><td>22.028165817261</td><td>88.096664428711</td><td>IN ENR&gt;IN HAL</td></tr><tr><td>C}KY7309634727</td><td>Indian Qatari India Liquefied Petroleum Gas Very Large Gas Carrier</td><td>Bay of Bengal|Madras Tanker Zone|India</td><td>16/12/2020 2:01:30 PM</td><td>9714393</td><td>13.26854133606</td><td>80.347770690918</td><td>IN ENR [Ennore]</td></tr><tr><td>C}KY7309692374</td><td>Japanese Liquefied Petroleum Gas Very Large Gas Carrier</td><td>North Pacific Ocean (Japan)|Japan Tanker Zone</td><td>16/12/2020 7:17:43 AM</td><td>9689926</td><td>23.896678924561</td><td>125.507553100586</td><td>SG PBG [Singapore]</td></tr><tr><td>C}KY7309692815</td><td>Chinese Korean Liquefied Petroleum Gas Very Large Gas Carrier</td><td>Gulf of Oman|Arabian Gulf Tanker Zone</td><td>13/12/2020 12:52:31 PM</td><td>9702027</td><td>25.250883102417</td><td>56.54626083374</td><td>CN TXG [Xingang]</td></tr><tr><td>C}KY7309709011</td><td>Japanese Liquefied Petroleum Gas Very Large Gas Carrier</td><td>East Sea / Sea of Japan|Japan Tanker Zone</td><td>16/12/2020 1:52:08 AM</td><td>9726073</td><td>37.187816619873</td><td>137.358093261719</td><td>JPNNO [Nanao]</td></tr><tr><td>C}KY7309709012</td><td>Liquefied Petroleum Gas Very Large Gas Carrier</td><td>Arabia Sea</td><td>16/12/2020 4:29:41 AM</td><td>9726085</td><td>17.779037475586</td><td>67.161224365234</td><td>SAKAI</td></tr><tr><td>C}KG7309753315</td><td>Liquefied Petroleum Gas Very Large Gas Carrier</td><td>Java Sea|Singapore Tanker Zone|Singapore Strait Waypoint</td><td>14/12/2020 8:35:10 AM</td><td>9703837</td><td>1.297591686249</td><td>104.354080200195</td><td>SGSIN&gt;CNNSA</td></tr><tr><td>C}KG7309759322</td><td>American US USA American United States USA Liquefied Petroleum Gas Very Large Gas Carrier</td><td>South Atlantic Ocean</td><td>14/12/2020 9:18:18 AM</td><td>9686388</td><td>-9.139225006104</td><td>-22.262844085693</td><td>TANJUNGUBAN</td></tr><tr><td>C}KX7309823811</td><td>Liquefied Petroleum Gas Very Large Gas Carrier</td><td>Java Sea|Singapore Tanker Zone</td><td>11/12/2020 6:50:10 PM</td><td>9735282</td><td>1.404386639595</td><td>104.476104736328</td><td>SGP EOPL [Singapore]</td></tr><tr><td>C}KY7309836737</td><td>Mexican American US USA American United States USA Liquefied Petroleum Gas Very Large Gas Carrier</td><td>Caribbean Sea|East Mexico Tanker Zone</td><td>15/12/2020 12:21:13 AM</td><td>9780732</td><td>15.779528617859</td><td>-88.063743591309</td><td>HNOMO</td></tr><tr><td>C}KY7309843284</td><td>Chinese Japanese Liquefied Petroleum Gas Very Large Gas Carrier Korean nihon</td><td>East China Sea|Shanghai Tanker Zone</td><td>12/12/2020 1:02:44 AM</td><td>9773234</td><td>32.330165863037</td><td>127.788986206055</td><td>KRUSN [Ulsan]</td></tr><tr><td>C}KY7309843647</td><td>Chinese Korean Liquefied Petroleum Gas Very Large Gas Carrier Roll-on/Roll-off  | Chinese Korean Liquefied Petroleum Gas Very Large Gas Carrier Roll on Roll off</td><td>East China Sea|Korea Tanker Zone</td><td>10/12/2020 6:41:48 PM</td><td>9780641</td><td>34.461864471436</td><td>127.93350982666</td><td>PABAL</td></tr><tr><td>C}KY7309900459</td><td>Japanese American US USA Liquefied Petroleum Gas Very Large Gas Carrier Korean</td><td>East Sea / Sea of Japan|Japan Tanker Zone</td><td>12/12/2020 11:28:23 PM</td><td>9855941</td><td>38.293613433838</td><td>133.626113891602</td><td>KR USN [Ulsan]</td></tr><tr><td>C}KY7309432434</td><td>Egyptian Liquefied Petroleum Gas Very Large Gas Carrier</td><td>Red Sea|Suez Canal Tanker Zone|Suez Canal Waypoint|Egypt</td><td>16/12/2020 12:00:19 PM</td><td>7420089</td><td>29.716999053955</td><td>32.6208152771</td><td>OPL SUEZ [Suez]</td></tr><tr><td>C}KY7309461339</td><td>Chinese Liquefied Petroleum Gas Very Large Gas Carrier</td><td>East China Sea|Shanghai Tanker Zone</td><td>16/12/2020 12:18:30 PM</td><td>8902371</td><td>30.284505844116</td><td>122.552803039551</td><td>CNZOS [Zhoushan]</td></tr><tr><td>C}KY7309461917</td><td>Liquefied Petroleum Gas Very Large Gas Carrier</td><td>Gulf of Oman|Arabian Gulf Tanker Zone</td><td>11/12/2020 1:09:39 AM</td><td>8912546</td><td>25.844535827637</td><td>54.933486938477</td><td>OM_KHS [Khasab]</td></tr><tr><td>C}KY7309462259</td><td>Indonesian India Liquefied Petroleum Gas Very Large Gas Carrier</td><td>Indonesia|East Indian Ocean|Singapore Tanker Zone</td><td>16/12/2020 3:23:03 PM</td><td>8917807</td><td>-5.595766544342</td><td>104.609237670898</td><td>TLK SEMANGKA.LAMPUNG</td></tr><tr><td>C}KY7309466680</td><td>Indian Liquefied Petroleum Gas Very Large Gas Carrier</td><td>Arabia Sea|West Coast India Tanker Zone</td><td>16/12/2020 12:52:22 PM</td><td>9005065</td><td>17.206733703613</td><td>69.474449157715</td><td>ZUHAI;CHINA</td></tr><tr><td>C}KY7309468992</td><td>Liquefied Petroleum Gas Very Large Gas Carrier</td><td>Gulf of Oman|Arabian Gulf Tanker Zone</td><td>14/12/2020 5:11:43 PM</td><td>9041655</td><td>24.567979812622</td><td>56.705348968506</td><td>SOHAR,OMAN [Sohar]</td></tr><tr><td>C}KY7309479735</td><td>Liquefied Petroleum Gas Very Large Gas Carrier</td><td>Gulf of Oman|Arabian Gulf Tanker Zone</td><td>13/12/2020 12:25:31 AM</td><td>9194969</td><td>27.070625305176</td><td>52.234798431396</td><td>KHASAB [Khasab]</td></tr><tr><td>C}KY7309479771</td><td>Liquefied Petroleum Gas Very Large Gas Carrier</td><td>Caribbean Sea|Bahamas Tanker Zone|Dominican Republic</td><td>12/12/2020 11:36:28 AM</td><td>9195494</td><td>18.37140083313</td><td>-70.620750427246</td><td>OCOA BAY</td></tr><tr><td>C}KY7309482942</td><td>Indian Qatari Liquefied Petroleum Gas Very Large Gas Carrier</td><td>Arabia Sea|West Coast India Tanker Zone</td><td>15/12/2020 2:59:05 PM</td><td>9238272</td><td>19.12314414978</td><td>72.53596496582</td><td>MUMBAI INDIA [Mumbai]</td></tr><tr><td>C}KY7309486846</td><td>Chinese Korean Liquefied Petroleum Gas Very Large Gas Carrier</td><td>East China Sea|Korea Tanker Zone</td><td>16/12/2020 11:51:34 PM</td><td>9290270</td><td>37.576999664307</td><td>122.977851867676</td><td>SINGAPORE [Singapore]</td></tr><tr><td>C}KY7309491932</td><td>Chinese Korean Japanese Liquefied Petroleum Gas Very Large Gas Carrier</td><td>East China Sea|Korea Tanker Zone</td><td>11/12/2020 2:32:53 PM</td><td>9349784</td><td>37.898784637451</td><td>122.733596801758</td><td>CJK 2 CHINA</td></tr><tr><td>C}KY7309846678</td><td>American US USA American United States USA Liquefied Petroleum Gas Very Large Gas Carrier Turkish</td><td>East Med Sea|East Med Tanker Zone</td><td>15/12/2020 4:24:24 AM</td><td>9789154</td><td>36.32689666748</td><td>32.105171203613</td><td>TRALA [Alanya]</td></tr></tbody></table>"
      ]
     },
     "execution_count": 10,
     "metadata": {},
     "output_type": "execute_result"
    }
   ],
   "source": [
    "// In this example, I'm utilizing the 'in' clause to identify which specific ratings I'm interested in within \n",
    "// the Automobile sector.\n",
    "filter = $\"RCSAssetTypeLeaf eq 'VLGC' and VesselStatus eq 'IN SERVICE' and {dateRange}\";\n",
    "select = \"RIC, SynonymSearchAll, DTSource, LocationTimestamp, IMO,Latitude, Longitude, LocationDestination\";\n",
    "\n",
    "response = Search.Definition(Search.View.VesselPhysicalAssets).Filter(filter)\n",
    "                                                              .Select(select)\n",
    "                                                              .Top(100)\n",
    "                                                              .GetData();\n",
    "response.Data.Hits"
   ]
  },
  {
   "cell_type": "markdown",
   "metadata": {},
   "source": [
    "#### Example - Floating Rate Notes\n",
    "Retrieve all floating rate notes (floating coupon) in the healthcare sector which are issued in Euros.  For each, ensure the coupon rate is great than 2 and our Moody's rating is greater than 'Baa1'.\n",
    "\n",
    "To determine the rating, we apply the following logic utilizing the RatingsScope property - which is a nested property providing additional details:\n",
    "\n",
    "- RatingsScope(RatingType eq 'MIS' and CurrentRatingRank lt 10)\n",
    "\n",
    "The RatingType of 'MIS' refers to the \"Moody's Long-term Issuer Rating\".\n",
    "The CurrentRatingRank < 10 instructs search to look for ratings less than 10 ('Baa1').  **Note**: The lower the rank, the better the rating."
   ]
  },
  {
   "cell_type": "code",
   "execution_count": 11,
   "metadata": {
    "scrolled": true
   },
   "outputs": [
    {
     "data": {
      "text/html": [
       "<table><thead><th>CouponCurrency</th><th>IssuerName</th><th>IssueDate</th><th>RIC</th><th>CouponRate</th><th>ISIN</th><th>Ticker</th><th>RCSTRBC2012Leaf</th></thead><tbody><tr><td>EUR</td><td>Sanofi FR</td><td>01/07/1983 12:00:00 AM</td><td>FR0000140022=</td><td>15.5</td><td>FR0000140022</td><td>SASY</td><td>Pharmaceuticals (NEC)</td></tr><tr><td>EUR</td><td>Sanofi FR</td><td>01/10/1987 12:00:00 AM</td><td>AVEPpaEUR.MIp</td><td>15.5</td><td>FR0000047656</td><td>SASY</td><td>Pharmaceuticals (NEC)</td></tr></tbody></table>"
      ]
     },
     "execution_count": 11,
     "metadata": {},
     "output_type": "execute_result"
    }
   ],
   "source": [
    "filter = @\"CouponRate gt 2 and\n",
    "           RatingsScope(RatingType eq 'MIS' and CurrentRatingRank lt 10) and\n",
    "           RCSCouponTypeName eq 'Floating Coupon' and\n",
    "           IsActive eq true and\n",
    "           RCSTRBC2012Name eq 'Healthcare' and\n",
    "           RCSCurrencyLeaf xeq 'Euro'\";\n",
    "select = \"CouponCurrency, IssuerName, IssueDate, RIC, CouponRate, ISIN, Ticker, RCSTRBC2012Leaf, MaturityDate, AssetState\";\n",
    "\n",
    "response = Search.Definition(Search.View.GovCorpInstruments).Filter(filter)\n",
    "                                                            .Select(select)\n",
    "                                                            .GetData();\n",
    "response.Data.Hits"
   ]
  },
  {
   "cell_type": "markdown",
   "metadata": {},
   "source": [
    "#### Example - Outstanding Green Bonds\n",
    "List the outstanding Green Bonds for Telefonica."
   ]
  },
  {
   "cell_type": "code",
   "execution_count": 12,
   "metadata": {
    "scrolled": true
   },
   "outputs": [
    {
     "data": {
      "text/html": [
       "<table><thead><th>DocumentTitle</th><th>RIC</th><th>CouponRate</th><th>ISIN</th><th>IssuerTicker</th><th>DebtTypeDescription</th><th>FaceOutstanding</th></thead><tbody><tr><td>Telefonica Europe BV, Bond, TEF 2.502</td><td>ES210981985=</td><td>2.502</td><td>XS2109819859</td><td>TEFBV</td><td>Junior Subordinated Note</td><td>500000000</td></tr><tr><td>Telefonica Emisiones SAU, Plain Vanilla Fixed Coupon Bond, TEF 1.069 05-Feb-2024</td><td>ES194600445=</td><td>1.069</td><td>XS1946004451</td><td>TEFEMI</td><td>Senior Note</td><td>1000000000</td></tr></tbody></table>"
      ]
     },
     "execution_count": 12,
     "metadata": {},
     "output_type": "execute_result"
    }
   ],
   "source": [
    "select = @\"ssuerName, DocumentTitle, RIC, CouponRate, ISIN, IssuerTicker, DebtTypeDescription, \n",
    "           AmountOutstanding, FaceOutstanding\";\n",
    "\n",
    "response = Search.Definition(Search.View.GovCorpInstruments).Filter(\"IssuerName eq 'Telefonica' and IsGreenBond eq true\")\n",
    "                                                            .Select(select)\n",
    "                                                            .GetData();\n",
    "response.Data.Hits"
   ]
  },
  {
   "cell_type": "markdown",
   "metadata": {},
   "source": [
    "#### Example - Equity Index listing in the U.S.A"
   ]
  },
  {
   "cell_type": "code",
   "execution_count": 13,
   "metadata": {},
   "outputs": [
    {
     "data": {
      "text/html": [
       "<table><thead><th>DocumentTitle</th><th>RIC</th><th>RCSTRBC2012Leaf</th></thead><tbody><tr><td>Dow Jones Industrial Average Index, Equity Index</td><td>.DJI</td><td>Trade &amp; Business Publishing</td></tr><tr><td>S&amp;P 500 Index - CBOE, Equity Index</td><td>.SPX</td><td>Magazine Publishing</td></tr><tr><td>NASDAQ 100 Index, Equity Index</td><td>.NDX</td><td>UK Investment Trusts</td></tr><tr><td>NASDAQ Composite Index, Equity Index</td><td>.IXIC</td><td>Financial &amp; Commodity Market Operators &amp; Service Providers (NEC)</td></tr><tr><td>Refinitiv United States Price Return Index, Equity Index</td><td>.TRXFLDUSP</td><td>Professional Information Services (NEC)</td></tr><tr><td>Dow Jones Transport Average Index, Equity Index</td><td>.DJT</td><td>Trade &amp; Business Publishing</td></tr><tr><td>Dow Jones Composite Index, Equity Index</td><td>.DJA</td><td>Trade &amp; Business Publishing</td></tr><tr><td>Dow Jones Utility Average Index, Equity Index</td><td>.DJU</td><td>Trade &amp; Business Publishing</td></tr><tr><td>S&amp;P 600 Small Cap Index, Equity Index</td><td>.SPCY</td><td>Magazine Publishing</td></tr><tr><td>S&amp;P 500 Index - CME, Equity Index</td><td>.INX</td><td>Magazine Publishing</td></tr></tbody></table>"
      ]
     },
     "execution_count": 13,
     "metadata": {},
     "output_type": "execute_result"
    }
   ],
   "source": [
    "// Based on the Asset Category (Equity Index), list the top 10 indexes within the USA.\n",
    "filter = \"RCSIndexCountryGroupLeaf xeq 'United States' and RCSAssetCategoryLeaf xeq 'Equity Index'\";\n",
    "\n",
    "response = Search.Definition(Search.View.IndexInstruments).Filter(filter)\n",
    "                                                          .Select(\"DocumentTitle, RIC, RCSTRBC2012Leaf\")\n",
    "                                                          .GetData();\n",
    "response.Data.Hits"
   ]
  },
  {
   "cell_type": "markdown",
   "metadata": {},
   "source": [
    "#### Example - Search for Brazil global sovereign bonds in USD with a duration greater than 1"
   ]
  },
  {
   "cell_type": "code",
   "execution_count": 14,
   "metadata": {
    "scrolled": true
   },
   "outputs": [
    {
     "data": {
      "text/html": [
       "<table><thead><th>RIC</th><th>ISIN</th><th>MaturityDate</th><th>CouponRate</th><th>IndustrySector</th><th>FaceOutstandingUSD</th><th>OptionAdjustedDuration</th></thead><tbody><tr><td>105756BU3=</td><td>US105756BU30</td><td>05/01/2023 12:00:00 AM</td><td>2.625</td><td>SOVERGRN</td><td>2150000000</td><td>1.975992</td></tr><tr><td>BR012631375=</td><td>US105756AR10</td><td>15/04/2024 12:00:00 AM</td><td>8.875</td><td>SOVERGRN</td><td>1029030000</td><td>2.939399</td></tr><tr><td>BR017244388=</td><td>US105756AZ36</td><td>15/04/2024 12:00:00 AM</td><td>8.875</td><td>SOVERGRN</td><td>85557000</td><td>2.939399</td></tr><tr><td>105756BV1=</td><td>US105756BV13</td><td>07/01/2025 12:00:00 AM</td><td>4.25</td><td>SOVERGRN</td><td>4300000000</td><td>3.682713</td></tr><tr><td>BR021210641=</td><td>US105756BF62</td><td>04/02/2025 12:00:00 AM</td><td>8.75</td><td>SOVERGRN</td><td>688201000</td><td>3.496739</td></tr><tr><td>105756CD0=</td><td>US105756CD06</td><td>06/06/2025 12:00:00 AM</td><td>2.875</td><td>SOVERGRN</td><td>1750000000</td><td>4.183824</td></tr><tr><td>105756BX7=</td><td>US105756BX78</td><td>07/04/2026 12:00:00 AM</td><td>6</td><td>SOVERGRN</td><td>2176245000</td><td>4.593229</td></tr><tr><td>105756AE0=</td><td>US105756AE07</td><td>15/05/2027 12:00:00 AM</td><td>10.125</td><td>SOVERGRN</td><td>765023000</td><td>5.040152</td></tr><tr><td>105756BZ2=</td><td>US105756BZ27</td><td>13/01/2028 12:00:00 AM</td><td>4.625</td><td>SOVERGRN</td><td>3000000000</td><td>5.808703</td></tr><tr><td>105756CA6=</td><td>US105756CA66</td><td>30/05/2029 12:00:00 AM</td><td>4.5</td><td>SOVERGRN</td><td>2000000000</td><td>6.912554</td></tr></tbody></table>"
      ]
     },
     "execution_count": 14,
     "metadata": {},
     "output_type": "execute_result"
    }
   ],
   "source": [
    "filter = @\"RCSIssuerCountryLeaf eq 'Brazil' and\n",
    "           RCSCurrencyLeaf eq 'US Dollar' and\n",
    "           RCSTRBC2012Leaf eq 'Government & Government Finance' and\n",
    "           OptionAdjustedDuration gt 1\";\n",
    "select = \"RIC, ISIN, MaturityDate, CouponRate, IndustrySector, FaceOutstandingUSD, OptionAdjustedDuration\";\n",
    "\n",
    "response = Search.Definition(Search.View.FixedIncomeInstruments).Filter(filter)\n",
    "                                                                .Select(select)\n",
    "                                                                .GetData();\n",
    "response.Data.Hits"
   ]
  },
  {
   "cell_type": "code",
   "execution_count": 15,
   "metadata": {},
   "outputs": [
    {
     "data": {
      "text/html": [
       "<table><thead><th>RIC</th><th>ISIN</th><th>MaturityDate</th><th>CouponRate</th><th>IndustrySector</th><th>FaceOutstandingUSD</th><th>OptionAdjustedDuration</th></thead><tbody><tr><td>105756BU3=</td><td>US105756BU30</td><td>05/01/2023 12:00:00 AM</td><td>2.625</td><td>SOVERGRN</td><td>2150000000</td><td>1.975992</td></tr><tr><td>BR012631375=</td><td>US105756AR10</td><td>15/04/2024 12:00:00 AM</td><td>8.875</td><td>SOVERGRN</td><td>1029030000</td><td>2.939399</td></tr><tr><td>BR017244388=</td><td>US105756AZ36</td><td>15/04/2024 12:00:00 AM</td><td>8.875</td><td>SOVERGRN</td><td>85557000</td><td>2.939399</td></tr><tr><td>105756BV1=</td><td>US105756BV13</td><td>07/01/2025 12:00:00 AM</td><td>4.25</td><td>SOVERGRN</td><td>4300000000</td><td>3.682713</td></tr><tr><td>BR021210641=</td><td>US105756BF62</td><td>04/02/2025 12:00:00 AM</td><td>8.75</td><td>SOVERGRN</td><td>688201000</td><td>3.496739</td></tr><tr><td>105756CD0=</td><td>US105756CD06</td><td>06/06/2025 12:00:00 AM</td><td>2.875</td><td>SOVERGRN</td><td>1750000000</td><td>4.183824</td></tr><tr><td>105756BX7=</td><td>US105756BX78</td><td>07/04/2026 12:00:00 AM</td><td>6</td><td>SOVERGRN</td><td>2176245000</td><td>4.593229</td></tr><tr><td>105756AE0=</td><td>US105756AE07</td><td>15/05/2027 12:00:00 AM</td><td>10.125</td><td>SOVERGRN</td><td>765023000</td><td>5.040152</td></tr><tr><td>105756BZ2=</td><td>US105756BZ27</td><td>13/01/2028 12:00:00 AM</td><td>4.625</td><td>SOVERGRN</td><td>3000000000</td><td>5.808703</td></tr><tr><td>105756CA6=</td><td>US105756CA66</td><td>30/05/2029 12:00:00 AM</td><td>4.5</td><td>SOVERGRN</td><td>2000000000</td><td>6.912554</td></tr></tbody></table>"
      ]
     },
     "execution_count": 15,
     "metadata": {},
     "output_type": "execute_result"
    }
   ],
   "source": [
    "// Alternatively, you have the option of trying it this way which will render the same results\n",
    "filter = @\"IssuerCountryName eq 'Brazil' and\n",
    "           OptionAdjustedDuration gt 1 and\n",
    "           Currency eq 'USD' and IndustrySectorDescription eq 'Sovereign'\";\n",
    "select = \"RIC, ISIN, MaturityDate, CouponRate, IndustrySector, FaceOutstandingUSD, OptionAdjustedDuration\";\n",
    "\n",
    "response = Search.Definition(Search.View.FixedIncomeInstruments).Filter(filter)\n",
    "                                                                .Select(select)\n",
    "                                                                .GetData();\n",
    "response.Data.Hits"
   ]
  },
  {
   "cell_type": "markdown",
   "metadata": {},
   "source": [
    "#### Example - Top executives"
   ]
  },
  {
   "cell_type": "code",
   "execution_count": 16,
   "metadata": {},
   "outputs": [
    {
     "data": {
      "text/html": [
       "<table><thead><th>FullName</th><th>PrimaryTitleAsReported</th><th>PrimaryOfficerDirector</th><th>OfficerDirectorActiveCompanies</th><th>PrimaryOfficerDirectorRIC</th></thead><tbody><tr><td>John Wendell Thompson</td><td>Independent Non-Executive Chairman of the Board</td><td>Microsoft Corp</td><td>[\r\n",
       "  &quot;User Replay Ltd&quot;,\r\n",
       "  &quot;Crystal Decisions Inc&quot;,\r\n",
       "  &quot;Commerce Decisions Ltd&quot;,\r\n",
       "  &quot;Illumina Inc&quot;,\r\n",
       "  &quot;Microsoft Corp&quot;\r\n",
       "]</td><td>MSFT.O</td></tr><tr><td>Satya Nadella</td><td>Chief Executive Officer, Director</td><td>Microsoft Corp</td><td>[\r\n",
       "  &quot;Starbucks Corp&quot;,\r\n",
       "  &quot;Chandler Insurance Company Ltd&quot;,\r\n",
       "  &quot;Microsoft Corp&quot;\r\n",
       "]</td><td>MSFT.O</td></tr><tr><td>Art D. Levinson</td><td>Independent Chairman of the Board</td><td>Apple Inc</td><td>[\r\n",
       "  &quot;Apple Inc&quot;,\r\n",
       "  &quot;Genentech Inc&quot;\r\n",
       "]</td><td>AAPL.O</td></tr><tr><td>Tim D. Cook</td><td>Chief Executive Officer, Director</td><td>Apple Inc</td><td>[\r\n",
       "  &quot;Apple Inc&quot;,\r\n",
       "  &quot;Nike Inc&quot;\r\n",
       "]</td><td>AAPL.O</td></tr><tr><td>Jeff P. Bezos</td><td>Chairman of the Board, President, Chief Executive Officer</td><td>Amazon.com Inc</td><td>[\r\n",
       "  &quot;Institute For Advanced Study&quot;,\r\n",
       "  &quot;Amazon.com Inc&quot;\r\n",
       "]</td><td>AMZN.O</td></tr><tr><td>Keith Brian Alexander</td><td>Director</td><td>Amazon.com Inc</td><td>[\r\n",
       "  &quot;Amazon.com Inc&quot;,\r\n",
       "  &quot;Ironnet Cybersecurity Inc&quot;\r\n",
       "]</td><td>AMZN.O</td></tr><tr><td>Jon J. Rubinstein</td><td>Independent Director</td><td>Amazon.com Inc</td><td>[\r\n",
       "  &quot;Palm Inc&quot;,\r\n",
       "  &quot;Amazon.com Inc&quot;\r\n",
       "]</td><td>AMZN.O</td></tr><tr><td>Sundar Pichai</td><td>Chief Executive Officer, Director</td><td>Alphabet Inc</td><td>[\r\n",
       "  &quot;Alphabet Inc&quot;,\r\n",
       "  &quot;Ruba  Inc (Fka  Kudo  Inc)&quot;\r\n",
       "]</td><td>GOOGL.O</td></tr><tr><td>Roger W. Ferguson</td><td>Independent Director</td><td>Alphabet Inc</td><td>[\r\n",
       "  &quot;Teachers Insurance and Annuity Association of America&quot;,\r\n",
       "  &quot;Audax Health Solutions LLC&quot;,\r\n",
       "  &quot;Alphabet Inc&quot;,\r\n",
       "  &quot;International Flavors &amp; Fragrances Inc&quot;,\r\n",
       "  &quot;General Mills Inc&quot;,\r\n",
       "  &quot;Memorial Sloan-Kettering Cancer Center&quot;\r\n",
       "]</td><td>GOOGL.O</td></tr><tr><td>Mark Zuckerberg</td><td>Chairman of the Board, Chief Executive Officer, Founder</td><td>Facebook Inc</td><td>[\r\n",
       "  &quot;Facebook Inc&quot;\r\n",
       "]</td><td>FB.O</td></tr><tr><td>Dustin A. Moskovitz</td><td>Venture Economics Executive</td><td>Facebook Inc</td><td>[\r\n",
       "  &quot;Facebook Inc&quot;,\r\n",
       "  &quot;Asana Inc&quot;\r\n",
       "]</td><td>FB.O</td></tr><tr><td>Adam D&#39;Angelo</td><td>Venture Economics Executive</td><td>Facebook Inc</td><td>[\r\n",
       "  &quot;Facebook Inc&quot;,\r\n",
       "  &quot;Quora Inc&quot;\r\n",
       "]</td><td>FB.O</td></tr><tr><td>Warren Edward Buffett</td><td>Chairman of the Board, Chief Executive Officer</td><td>Berkshire Hathaway Inc</td><td>[\r\n",
       "  &quot;Grinnell College&quot;,\r\n",
       "  &quot;Bill &amp; Melinda Gates Foundation Trust&quot;,\r\n",
       "  &quot;Berkshire Hathaway Inc&quot;,\r\n",
       "  &quot;Kraft Heinz Intermediate Corporation II&quot;,\r\n",
       "  &quot;Lubrizol Corp&quot;,\r\n",
       "  &quot;Kraft Heinz Foods Co&quot;,\r\n",
       "  &quot;Berkshire Hathaway Energy Co&quot;\r\n",
       "]</td><td>BRKa</td></tr><tr><td>Gregory E. Abel</td><td>Vice Chairman � Non Insurance Operations, Director</td><td>Berkshire Hathaway Inc</td><td>[\r\n",
       "  &quot;Northern Electric PLC&quot;,\r\n",
       "  &quot;Berkshire Hathaway Inc&quot;,\r\n",
       "  &quot;Northern Powergrid Holdings Co&quot;,\r\n",
       "  &quot;Kraft Heinz Intermediate Corporation II&quot;,\r\n",
       "  &quot;Pacificorp&quot;,\r\n",
       "  &quot;Berkshire Hathaway Energy Co&quot;,\r\n",
       "  &quot;Kraft Heinz Co&quot;\r\n",
       "]</td><td>BRKa</td></tr><tr><td>Steve B. Burke</td><td>Independent Director</td><td>Berkshire Hathaway Inc</td><td>[\r\n",
       "  &quot;Berkshire Hathaway Inc&quot;,\r\n",
       "  &quot;NBCUniversal Media LLC&quot;,\r\n",
       "  &quot;JP Morgan Investment Management Inc&quot;,\r\n",
       "  &quot;JPMorgan Chase &amp; Co&quot;\r\n",
       "]</td><td>BRKa</td></tr><tr><td>Daniel Zhang</td><td>Chairman of the Board, Chief Executive Officer</td><td>Alibaba Group Holding Ltd</td><td>[\r\n",
       "  &quot;Weibo Corp&quot;,\r\n",
       "  &quot;Alibaba Group Holding Ltd&quot;,\r\n",
       "  &quot;Sun Art Retail Group Ltd&quot;\r\n",
       "]</td><td>BABA.K</td></tr><tr><td>Fan Jiang</td><td>President - Taobao and Tmall</td><td>Alibaba Group Holding Ltd</td><td>[\r\n",
       "  &quot;Alibaba Group Holding Ltd&quot;,\r\n",
       "  &quot;Umeng Technology Ltd&quot;\r\n",
       "]</td><td>BABA.K</td></tr><tr><td>Huateng Ma</td><td>Executive Chairman of the Board, Chief Executive Officer</td><td>Tencent Holdings Ltd</td><td>[\r\n",
       "  &quot;Tencent Holdings Ltd&quot;,\r\n",
       "  &quot;Tencent Technology Beijing Co Ltd&quot;\r\n",
       "]</td><td>0700.HK</td></tr><tr><td>Al Francis Kelly</td><td>Chairman of the Board, Chief Executive Officer</td><td>Visa Inc</td><td>[\r\n",
       "  &quot;Visa Inc&quot;\r\n",
       "]</td><td>V</td></tr><tr><td>Alex Gorsky</td><td>Chairman of the Board, Chief Executive Officer</td><td>Johnson &amp; Johnson</td><td>[\r\n",
       "  &quot;Johnson &amp; Johnson Services Inc&quot;,\r\n",
       "  &quot;Ethicon Inc&quot;,\r\n",
       "  &quot;Johnson &amp; Johnson&quot;,\r\n",
       "  &quot;International Business Machines Corp&quot;\r\n",
       "]</td><td>JNJ</td></tr></tbody></table>"
      ]
     },
     "execution_count": 16,
     "metadata": {},
     "output_type": "execute_result"
    }
   ],
   "source": [
    "// Using the People View, we can utilize the OfficerDirector property, which contains a number of nested or sub-properties \n",
    "// that allow me to perform a more fine-grained search against active people that have been assigned a title code of \n",
    "// CEO (Chief Executive Officer). The results are listed based on a default rank defined by the search service.\n",
    "filter = \"OfficerDirector(RoleTitleCode eq 'CEO' and RoleStatus eq 'Active')\";\n",
    "select = @\"FullName, PrimaryTitleAsReported, PrimaryOfficerDirector, RIC, \n",
    "           OfficerDirectorActiveCompanies, PrimaryOfficerDirectorRIC\";\n",
    "           \n",
    "response = Search.Definition(Search.View.People).Filter(filter)\n",
    "                                                .Select(select)\n",
    "                                                .Top(20)\n",
    "                                                .GetData();\n",
    "response.Data.Hits"
   ]
  },
  {
   "cell_type": "code",
   "execution_count": null,
   "metadata": {},
   "outputs": [],
   "source": []
  }
 ],
 "metadata": {
  "kernelspec": {
   "display_name": ".NET (C#)",
   "language": "C#",
   "name": ".net-csharp"
  },
  "language_info": {
   "file_extension": ".cs",
   "mimetype": "text/x-csharp",
   "name": "C#",
   "pygments_lexer": "csharp",
   "version": "8.0"
  }
 },
 "nbformat": 4,
 "nbformat_minor": 4
}
