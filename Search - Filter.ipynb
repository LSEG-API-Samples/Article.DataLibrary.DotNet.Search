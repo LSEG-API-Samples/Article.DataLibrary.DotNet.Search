{
 "cells": [
  {
   "cell_type": "markdown",
   "metadata": {},
   "source": [
    "## Filter\n",
    "One of the most powerful parameters when defining a search is the ability to filter the results.  While a Query is more of an unstructured approach to search for text within documents, a Filter provides a well-defined structured approach when we know which properties we want to restrict our matching documents.\n",
    "\n",
    "The following examples will be using some of the popular properties as outlined within the \"Properties & Metadata\" notebook.  In addition, the selection of these properties was determined based on the discovery techniques used such as metadata and debugging."
   ]
  },
  {
   "cell_type": "markdown",
   "metadata": {},
   "source": [
    "#### NuGet Packages"
   ]
  },
  {
   "cell_type": "code",
   "execution_count": 1,
   "metadata": {},
   "outputs": [
    {
     "data": {
      "text/html": [
       "\r\n",
       "<div>\r\n",
       "    <div id='dotnet-interactive-this-cell-15452.Microsoft.DotNet.Interactive.Http.HttpPort' style='display: none'>\r\n",
       "        The below script needs to be able to find the current output cell; this is an easy method to get it.\r\n",
       "    </div>\r\n",
       "    <script type='text/javascript'>\r\n",
       "async function probeAddresses(probingAddresses) {\r\n",
       "    function timeout(ms, promise) {\r\n",
       "        return new Promise(function (resolve, reject) {\r\n",
       "            setTimeout(function () {\r\n",
       "                reject(new Error('timeout'))\r\n",
       "            }, ms)\r\n",
       "            promise.then(resolve, reject)\r\n",
       "        })\r\n",
       "    }\r\n",
       "\r\n",
       "    if (Array.isArray(probingAddresses)) {\r\n",
       "        for (let i = 0; i < probingAddresses.length; i++) {\r\n",
       "\r\n",
       "            let rootUrl = probingAddresses[i];\r\n",
       "\r\n",
       "            if (!rootUrl.endsWith('/')) {\r\n",
       "                rootUrl = `${rootUrl}/`;\r\n",
       "            }\r\n",
       "\r\n",
       "            try {\r\n",
       "                let response = await timeout(1000, fetch(`${rootUrl}discovery`, {\r\n",
       "                    method: 'POST',\r\n",
       "                    cache: 'no-cache',\r\n",
       "                    mode: 'cors',\r\n",
       "                    timeout: 1000,\r\n",
       "                    headers: {\r\n",
       "                        'Content-Type': 'text/plain'\r\n",
       "                    },\r\n",
       "                    body: probingAddresses[i]\r\n",
       "                }));\r\n",
       "\r\n",
       "                if (response.status == 200) {\r\n",
       "                    return rootUrl;\r\n",
       "                }\r\n",
       "            }\r\n",
       "            catch (e) { }\r\n",
       "        }\r\n",
       "    }\r\n",
       "}\r\n",
       "\r\n",
       "function loadDotnetInteractiveApi() {\r\n",
       "    probeAddresses([\"http://192.168.0.35:1000/\", \"http://127.0.0.1:1000/\"])\r\n",
       "        .then((root) => {\r\n",
       "        // use probing to find host url and api resources\r\n",
       "        // load interactive helpers and language services\r\n",
       "        let dotnetInteractiveRequire = require.config({\r\n",
       "        context: '15452.Microsoft.DotNet.Interactive.Http.HttpPort',\r\n",
       "                paths:\r\n",
       "            {\r\n",
       "                'dotnet-interactive': `${root}resources`\r\n",
       "                }\r\n",
       "        }) || require;\r\n",
       "\r\n",
       "            window.dotnetInteractiveRequire = dotnetInteractiveRequire;\r\n",
       "\r\n",
       "            window.configureRequireFromExtension = function(extensionName, extensionCacheBuster) {\r\n",
       "                let paths = {};\r\n",
       "                paths[extensionName] = `${root}extensions/${extensionName}/resources/`;\r\n",
       "                \r\n",
       "                let internalRequire = require.config({\r\n",
       "                    context: extensionCacheBuster,\r\n",
       "                    paths: paths,\r\n",
       "                    urlArgs: `cacheBuster=${extensionCacheBuster}`\r\n",
       "                    }) || require;\r\n",
       "\r\n",
       "                return internalRequire\r\n",
       "            };\r\n",
       "        \r\n",
       "            dotnetInteractiveRequire([\r\n",
       "                    'dotnet-interactive/dotnet-interactive'\r\n",
       "                ],\r\n",
       "                function (dotnet) {\r\n",
       "                    dotnet.init(window);\r\n",
       "                },\r\n",
       "                function (error) {\r\n",
       "                    console.log(error);\r\n",
       "                }\r\n",
       "            );\r\n",
       "        })\r\n",
       "        .catch(error => {console.log(error);});\r\n",
       "    }\r\n",
       "\r\n",
       "// ensure `require` is available globally\r\n",
       "if ((typeof(require) !==  typeof(Function)) || (typeof(require.config) !== typeof(Function))) {\r\n",
       "    let require_script = document.createElement('script');\r\n",
       "    require_script.setAttribute('src', 'https://cdnjs.cloudflare.com/ajax/libs/require.js/2.3.6/require.min.js');\r\n",
       "    require_script.setAttribute('type', 'text/javascript');\r\n",
       "    \r\n",
       "    \r\n",
       "    require_script.onload = function() {\r\n",
       "        loadDotnetInteractiveApi();\r\n",
       "    };\r\n",
       "\r\n",
       "    document.getElementsByTagName('head')[0].appendChild(require_script);\r\n",
       "}\r\n",
       "else {\r\n",
       "    loadDotnetInteractiveApi();\r\n",
       "}\r\n",
       "\r\n",
       "    </script>\r\n",
       "</div>"
      ]
     },
     "metadata": {},
     "output_type": "display_data"
    },
    {
     "data": {
      "text/plain": [
       "Installed package Microsoft.Data.Analysis version 0.4.0"
      ]
     },
     "metadata": {},
     "output_type": "display_data"
    },
    {
     "data": {
      "text/plain": [
       "Installed package Refinitiv.DataPlatform.Content version 1.0.0-alpha3"
      ]
     },
     "metadata": {},
     "output_type": "display_data"
    }
   ],
   "source": [
    "#r \"nuget:Refinitiv.DataPlatform.Content, 1.0.0-alpha3\"\n",
    "#r \"nuget:Microsoft.Data.Analysis\""
   ]
  },
  {
   "cell_type": "code",
   "execution_count": 2,
   "metadata": {},
   "outputs": [],
   "source": [
    "using Newtonsoft.Json.Linq;\n",
    "using Refinitiv.DataPlatform.Content.SearchService;\n",
    "using Refinitiv.DataPlatform.Core;\n",
    "using Microsoft.Data.Analysis;\n",
    "using Microsoft.AspNetCore.Html;\n",
    "using System.Linq;\n",
    "using System;"
   ]
  },
  {
   "cell_type": "markdown",
   "metadata": {},
   "source": [
    "#### Table Output\n",
    "Helper routine to output data in a table format."
   ]
  },
  {
   "cell_type": "code",
   "execution_count": 3,
   "metadata": {},
   "outputs": [],
   "source": [
    "Formatter.Register<IList<JObject>>((hits, writer) =>\n",
    "{\n",
    "    if (hits.Count > 0)\n",
    "    {\n",
    "        var fields = new List<String>();\n",
    "        var rows = new List<ICollection<IHtmlContent>>();\n",
    "        var data = new Dictionary<string, IHtmlContent>();\n",
    "\n",
    "        foreach(var hit in hits)\n",
    "        {\n",
    "            var cells = new List<IHtmlContent>();\n",
    "            foreach (var val in hit.Properties())\n",
    "            {\n",
    "                if ( !fields.Any(item => item.Equals(val.Name)) )\n",
    "                    fields.Add(val.Name);\n",
    "                data[val.Name] = td(val.Value.ToString());\n",
    "            }\n",
    "            rows.Add(new List<IHtmlContent>(data.Values));\n",
    "            data.Keys.ToList().ForEach(x => data[x] = td(\"\"));\n",
    "        }\n",
    "        \n",
    "        var headers = new List<IHtmlContent>();\n",
    "        headers.AddRange(fields.Select(c => (IHtmlContent)th(c)));\n",
    "\n",
    "        var t = table(thead(headers), tbody(rows.Select(r => tr(r))));\n",
    "        writer.Write(t);\n",
    "    }\n",
    "}, \"text/html\");"
   ]
  },
  {
   "cell_type": "code",
   "execution_count": 4,
   "metadata": {},
   "outputs": [
    {
     "name": "stdout",
     "output_type": "stream",
     "text": [
      "21/12/2020 10:33:57 AM:Session is Pending. (State: Pending)\n",
      "21/12/2020 10:33:58 AM:{\n",
      "  \"Contents\": \"Desktop Session Successfully Authenticated\"\n",
      "}. (Event: SessionAuthenticationSuccess)\n",
      "21/12/2020 10:33:58 AM:Session is Opened. (State: Opened)\n"
     ]
    }
   ],
   "source": [
    "// Create a session into the desktop\n",
    "var session = CoreFactory.CreateSession(new DesktopSession.Params()\n",
    "                            .AppKey(\"Your API Key here\")\n",
    "                            .OnState((s, state, msg) => Console.WriteLine($\"{DateTime.Now}:{msg}. (State: {state})\"))\n",
    "                            .OnEvent((s, eventCode, msg) => Console.WriteLine($\"{DateTime.Now}:{msg}. (Event: {eventCode})\")));\n",
    "session.Open();"
   ]
  },
  {
   "cell_type": "markdown",
   "metadata": {},
   "source": [
    "#### Example - Query vs Filter\n",
    "As you become more familiar with Search, you will realize there are a number of different paths you can take to arrive at the same destination."
   ]
  },
  {
   "cell_type": "code",
   "execution_count": 8,
   "metadata": {},
   "outputs": [
    {
     "data": {
      "text/html": [
       "<table><thead><th>DocumentTitle</th><th>RIC</th><th>ISIN</th><th>CUSIP</th><th>SEDOL</th><th>PermID</th></thead><tbody><tr><td>AstraZeneca PLC, Plain Vanilla Fixed Coupon Bond, TRACE Eligible AZN 2.375 12-Jun-2022</td><td>046353AQ1=</td><td>US046353AQ14</td><td>046353AQ1</td><td>BF4SNM7</td><td>46645702869</td></tr></tbody></table>"
      ]
     },
     "execution_count": 8,
     "metadata": {},
     "output_type": "execute_result"
    }
   ],
   "source": [
    "var response = Search.Definition(Search.View.Instruments).Query(\"US046353AQ14\")\n",
    "                                                         .Select(\"DocumentTitle, RIC, ISIN, CUSIP, SEDOL, PermID\")\n",
    "                                                         .GetData();\n",
    "response.Data.Hits"
   ]
  },
  {
   "cell_type": "code",
   "execution_count": 6,
   "metadata": {},
   "outputs": [
    {
     "data": {
      "text/html": [
       "<table><thead><th>DocumentTitle</th><th>RIC</th><th>ISIN</th><th>CUSIP</th><th>SEDOL</th><th>PermID</th></thead><tbody><tr><td>AstraZeneca PLC, Plain Vanilla Fixed Coupon Bond, TRACE Eligible AZN 2.375 12-Jun-2022</td><td>046353AQ1=</td><td>US046353AQ14</td><td>046353AQ1</td><td>BF4SNM7</td><td>46645702869</td></tr></tbody></table>"
      ]
     },
     "execution_count": 6,
     "metadata": {},
     "output_type": "execute_result"
    }
   ],
   "source": [
    "// Retrieve the document(s) for the same ISIN using a Filter\n",
    "response = Search.Definition(Search.View.Instruments).Filter(\"ISIN eq 'US046353AQ14'\")\n",
    "                                                     .Select(\"DocumentTitle, RIC, ISIN, CUSIP, SEDOL, PermID\")\n",
    "                                                     .GetData();\n",
    "response.Data.Hits"
   ]
  },
  {
   "cell_type": "code",
   "execution_count": 7,
   "metadata": {},
   "outputs": [
    {
     "data": {
      "text/html": [
       "<table><thead><th>DocumentTitle</th><th>RIC</th><th>ISIN</th><th>CUSIP</th><th>SEDOL</th><th>PermID</th></thead><tbody><tr><td>AstraZeneca PLC, Plain Vanilla Fixed Coupon Bond, TRACE Eligible AZN 2.375 12-Jun-2022</td><td>046353AQ1=</td><td>US046353AQ14</td><td>046353AQ1</td><td>BF4SNM7</td><td>46645702869</td></tr></tbody></table>"
      ]
     },
     "execution_count": 7,
     "metadata": {},
     "output_type": "execute_result"
    }
   ],
   "source": [
    "// If you are provided a code but are not sure if the code is an ISIN, SEDOL, CUSIP etc, \n",
    "// try using the 'CodeResolutionBase' property.\n",
    "// Note: I'm using the CUSIP for the same instrument within the Filter\n",
    "response = Search.Definition(Search.View.Instruments).Filter(\"CodeResolutionBase eq '046353AQ1'\")\n",
    "                                                     .Select(\"DocumentTitle, RIC, ISIN, CUSIP, SEDOL, PermID\")\n",
    "                                                     .GetData();\n",
    "response.Data.Hits"
   ]
  },
  {
   "cell_type": "markdown",
   "metadata": {},
   "source": [
    "#### Example - Apple Equities"
   ]
  },
  {
   "cell_type": "code",
   "execution_count": 9,
   "metadata": {
    "scrolled": true
   },
   "outputs": [
    {
     "data": {
      "text/html": [
       "<table><thead><th>RIC</th><th>CompositeDescriptiveName</th><th>ExchangeCode</th><th>ExchangeName</th><th>AssetType</th></thead><tbody><tr><td>AAPL.O</td><td>Apple Ord Shs APPLE ORD</td><td>NSQ</td><td>NASDAQ Global Select Consolidated</td><td>[\r\n",
       "  &quot;EQUITY&quot;\r\n",
       "]</td></tr><tr><td>AAPLEUR.xbo</td><td>Apple Ord Shs APPLE ORD APPLE INC</td><td>XBO</td><td>MiFID Composite Cross Market Service</td><td>[\r\n",
       "  &quot;EQUITY&quot;\r\n",
       "]</td></tr><tr><td>AAPL.OQ</td><td>Apple Ord Shs APPLE ORD</td><td>NSM</td><td>NASDAQ Stock Exchange Global Select Market</td><td>[\r\n",
       "  &quot;EQUITY&quot;\r\n",
       "]</td></tr><tr><td>AAPL.DG</td><td>Apple Ord Shs APPLE ORD</td><td>GCD</td><td>Cboe EDGX Exchange - Nasdaq Global Select Market</td><td>[\r\n",
       "  &quot;EQUITY&quot;\r\n",
       "]</td></tr><tr><td>AAPL.Z</td><td>Apple Ord Shs APPLE ORD APPLE INC</td><td>GCZ</td><td>Cboe BZX Exchange - Nasdaq Global Select Market</td><td>[\r\n",
       "  &quot;EQUITY&quot;\r\n",
       "]</td></tr><tr><td>AAPL.B</td><td>Apple Ord Shs APPLE ORD</td><td>GSB</td><td>Boston SE when trading NASDAQ Global Select Market</td><td>[\r\n",
       "  &quot;EQUITY&quot;\r\n",
       "]</td></tr><tr><td>AAPLE.MI</td><td>Apple Ord Shs APPLE ORD</td><td>MIL</td><td>Milan Stock Exchange</td><td>[\r\n",
       "  &quot;EQUITY&quot;\r\n",
       "]</td></tr><tr><td>AAPL.ZY</td><td>Apple Ord Shs APPLE ORD APPLE INC</td><td>GCY</td><td>Cboe BYX Exchange - Nasdaq Global Select Market</td><td>[\r\n",
       "  &quot;EQUITY&quot;\r\n",
       "]</td></tr><tr><td>AAPL.DY</td><td>Apple Ord Shs APPLE ORD</td><td>GDA</td><td>Cboe EDGA Exchange - Nasdaq Global Select Market</td><td>[\r\n",
       "  &quot;EQUITY&quot;\r\n",
       "]</td></tr><tr><td>AAPL.PH</td><td>Apple Ord Shs APPLE ORD APPLE INC</td><td>GSX</td><td>NASDAQ OMX PHLX Global Select Market</td><td>[\r\n",
       "  &quot;EQUITY&quot;\r\n",
       "]</td></tr></tbody></table>"
      ]
     },
     "execution_count": 9,
     "metadata": {},
     "output_type": "execute_result"
    }
   ],
   "source": [
    "// Within the view (EquityQuotes), select all documents where the term 'AAPL' is within the ticker symbol.  For each, \n",
    "// ensure the type of asset is an 'equity' and that each asset is in an active state.  I chose to filter out the \n",
    "// AssetState of 'DC' (De-activated) as my criteria.\n",
    "//\n",
    "// Note: An alternative to \"AssetType eq 'equity'\" could be to use: \"RCSAssetCategoryLeaf eq 'Ordinary Share'\"\n",
    "var filter = \"AssetType eq 'equity' and AssetState ne 'DC' and TickerSymbol eq 'AAPL'\";\n",
    "var select = \"RIC, CompositeDescriptiveName, ExchangeCode, ExchangeName, AssetType\";\n",
    "\n",
    "response = Search.Definition(Search.View.EquityQuotes).Filter(filter)\n",
    "                                                      .Select(select)\n",
    "                                                      .GetData();\n",
    "response.Data.Hits"
   ]
  },
  {
   "cell_type": "markdown",
   "metadata": {},
   "source": [
    "#### Example - Vessels\n",
    "List all Very Large Gas Containers (VLGC) that are in service within the last week."
   ]
  },
  {
   "cell_type": "code",
   "execution_count": 5,
   "metadata": {},
   "outputs": [
    {
     "data": {
      "text/plain": [
       "LocationTimestamp ge 2020-12-14 and LocationTimestamp lt 2020-12-21"
      ]
     },
     "execution_count": 5,
     "metadata": {},
     "output_type": "execute_result"
    }
   ],
   "source": [
    "// Build date range expression for the location of the vessel for the last 7 days\n",
    "var date7DaysAgo = DateTime.Now.AddDays(-7);\n",
    "var dateRange = @$\"LocationTimestamp ge {date7DaysAgo:yyyy-MM-dd} and LocationTimestamp lt {DateTime.Now:yyyy-MM-dd}\";\n",
    "dateRange"
   ]
  },
  {
   "cell_type": "code",
   "execution_count": 10,
   "metadata": {
    "scrolled": true
   },
   "outputs": [
    {
     "data": {
      "text/html": [
       "<table><thead><th>RIC</th><th>SynonymSearchAll</th><th>DTSource</th><th>LocationTimestamp</th><th>IMO</th><th>Latitude</th><th>Longitude</th><th>LocationDestination</th></thead><tbody><tr><td>C}KY7309466539</td><td>Chinese Liquefied Petroleum Gas Very Large Gas Carrier</td><td>Java Sea|Singapore Tanker Zone</td><td>20/12/2020 8:10:46 AM</td><td>9002908</td><td>2.403069972992</td><td>101.733062744141</td><td>KHASAB [Khasab]</td></tr><tr><td>C}KY7309491970</td><td>Egyptian Liquefied Petroleum Gas Very Large Gas Carrier</td><td>Red Sea|Suez Canal Tanker Zone|Egypt</td><td>18/12/2020 5:59:44 PM</td><td>9350288</td><td>28.742584228516</td><td>33.152103424072</td><td>WADI FEIRAN [Wadi Feiran Oil Terminal]</td></tr><tr><td>C}KY7309491971</td><td>Egyptian Liquefied Petroleum Gas Very Large Gas Carrier</td><td>Red Sea|Suez Canal Tanker Zone|Egypt</td><td>14/12/2020 5:32:42 AM</td><td>9350290</td><td>29.597896575928</td><td>32.366004943848</td><td>SA YNB [Yanbu]</td></tr><tr><td>C}KY7309529540</td><td>Indonesian India Liquefied Petroleum Gas Very Large Gas Carrier</td><td>Java Sea|Lawi-Lawi Terminal Tanker Zone</td><td>20/12/2020 1:25:45 AM</td><td>9643348</td><td>-7.586550235748</td><td>114.009086608887</td><td>KALBUT,SITUBONDO</td></tr><tr><td>C}KY7309827069</td><td>Chinese Japanese American US USA Canadian Liquefied Petroleum Gas Very Large Gas Carrier Korean</td><td>East China Sea|Japan Tanker Zone</td><td>20/12/2020 11:22:32 PM</td><td>9733337</td><td>30.582277297974</td><td>130.27099609375</td><td>YEOSU S.KOREA [Yeosu (Yosu)]</td></tr><tr><td>C}KY7309843663</td><td>Qatari Chinese Liquefied Petroleum Gas Very Large Gas Carrier</td><td>Java Sea|Singapore Tanker Zone</td><td>18/12/2020 4:12:37 AM</td><td>9795543</td><td>1.398763298988</td><td>104.465003967285</td><td>NINGBO, CHINA [Ningbo and Zhoushan]</td></tr><tr><td>C}KY7309844136</td><td>Indonesian American US USA India American United States USA Liquefied Petroleum Gas Very Large Gas Carrier</td><td>Indonesia|East Java|Java Sea|Lawi-Lawi Terminal Tanker Zone</td><td>20/12/2020 3:08:49 AM</td><td>9752723</td><td>-7.598721504211</td><td>113.992958068848</td><td>KALBUT,INDONESIA</td></tr><tr><td>C}KY7309878957</td><td>Japanese Korean Chinese Liquefied Petroleum Gas Very Large Gas Carrier</td><td>East Sea / Sea of Japan|Korea Tanker Zone|Korea Strait Waypoint</td><td>20/12/2020 5:20:46 PM</td><td>9849289</td><td>34.82462310791</td><td>129.191375732422</td><td>PA BLB [Balboa]</td></tr><tr><td>C}KG7309934187</td><td>Chinese Japanese Liquefied Petroleum Gas Very Large Gas Carrier Korean</td><td>East China Sea|Japan Tanker Zone</td><td>20/12/2020 6:25:24 AM</td><td>9889552</td><td>30.588535308838</td><td>130.092483520508</td><td>YOSU [Yeosu (Yosu)]</td></tr><tr><td>C}KY7309466679</td><td>Chinese Liquefied Petroleum Gas Very Large Gas Carrier</td><td>Java Sea|Singapore Tanker Zone</td><td>18/12/2020 1:33:22 AM</td><td>9005053</td><td>1.357450008392</td><td>104.419586181641</td><td>OMKHS&gt;CNDGG [Dongguan]</td></tr><tr><td>C}KY7309473669</td><td>Chinese Liquefied Petroleum Gas Very Large Gas Carrier</td><td>East China Sea|Shanghai Tanker Zone</td><td>18/12/2020 10:55:16 PM</td><td>9114581</td><td>25.635473251343</td><td>120.604621887207</td><td>CN JIX</td></tr><tr><td>C}KY7309475170</td><td>Liquefied Petroleum Gas Very Large Gas Carrier</td><td>Gulf of Oman|Arabian Gulf Tanker Zone</td><td>17/12/2020 10:42:49 PM</td><td>9134294</td><td>25.852041244507</td><td>54.930255889893</td><td>SOHAR [Sohar]</td></tr><tr><td>C}KL7309478067</td><td>India Indian Liquefied Petroleum Gas Very Large Gas Carrier</td><td>East Indian Ocean|Colombo Tanker Zone</td><td>20/12/2020 1:29:22 PM</td><td>9172636</td><td>5.728496551514</td><td>80.743019104004</td><td>INHAL [Haldia]</td></tr><tr><td>C}KY7309478328</td><td>Algerian Liquefied Petroleum Gas Very Large Gas Carrier</td><td>West Med|West Med Tanker Zone|Algeria</td><td>20/12/2020 10:09:21 PM</td><td>9176369</td><td>35.824073791504</td><td>-0.258418321609</td><td>PTSET-&gt;DZAZW [Arzew]</td></tr><tr><td>C}KY7309481757</td><td>Indian Liquefied Petroleum Gas Very Large Gas Carrier</td><td>Chittagong Tanker Zone|Ganges and Brahmaputra River System</td><td>20/12/2020 7:03:32 AM</td><td>9223540</td><td>21.874393463135</td><td>87.99503326416</td><td>HALDIA [Haldia]</td></tr><tr><td>C}KY7309482452</td><td>Qatari Liquefied Petroleum Gas Very Large Gas Carrier Indian</td><td>Gulf of Oman|Arabian Gulf Tanker Zone</td><td>18/12/2020 3:41:05 AM</td><td>9232515</td><td>25.423892974854</td><td>56.938758850098</td><td>NEW MANGLORE&gt;INDIA</td></tr><tr><td>C}KY7309488352</td><td>Indian India Liquefied Petroleum Gas Very Large Gas Carrier</td><td>Bay of Bengal|Chittagong Tanker Zone</td><td>18/12/2020 1:19:22 PM</td><td>9307750</td><td>17.615451812744</td><td>83.446029663086</td><td>VIZAG,INDIA [Visakhapatnam]</td></tr><tr><td>C}KY7309492106</td><td>India Indian Liquefied Petroleum Gas Very Large Gas Carrier Qatari</td><td>West Indian Ocean|West Coast India Tanker Zone</td><td>20/12/2020 11:32:10 PM</td><td>9351919</td><td>9.645668029785</td><td>75.431846618652</td><td>QA RLF [Ras Laffan]</td></tr><tr><td>C}KY7309495164</td><td>Chinese Japanese Liquefied Petroleum Gas Very Large Gas Carrier Korean</td><td>East China Sea|Japan Tanker Zone</td><td>20/12/2020 5:17:02 PM</td><td>9387762</td><td>30.597278594971</td><td>130.152374267578</td><td>CN YNT [Yantai]</td></tr><tr><td>C}KY7309497049</td><td>Chinese Korean Japanese Liquefied Petroleum Gas Very Large Gas Carrier</td><td>East China Sea|Korea Tanker Zone</td><td>20/12/2020 12:34:12 AM</td><td>9409302</td><td>37.112995147705</td><td>126.350646972656</td><td>KR PTK [Okke]</td></tr><tr><td>C}KY7309497589</td><td>India Indian Liquefied Petroleum Gas Very Large Gas Carrier</td><td>West Indian Ocean|West Coast India Tanker Zone</td><td>20/12/2020 1:33:38 PM</td><td>9415686</td><td>8.476235389709</td><td>75.64168548584</td><td>VIZAG,INDIA [Visakhapatnam]</td></tr><tr><td>C}KY7309502991</td><td>Egyptian Liquefied Petroleum Gas Very Large Gas Carrier</td><td>Red Sea|Suez Canal Tanker Zone|Egypt</td><td>20/12/2020 9:05:24 AM</td><td>9479929</td><td>28.712900161743</td><td>33.170650482178</td><td>YANBU [Yanbu]</td></tr><tr><td>C}KY7309634726</td><td>Chinese Japanese American US USA Liquefied Petroleum Gas Very Large Gas Carrier</td><td>East China Sea|Japan Tanker Zone</td><td>17/12/2020 11:05:01 AM</td><td>9714381</td><td>30.939575195312</td><td>130.165985107422</td><td>PA BLB&gt;KR USN</td></tr><tr><td>C}KY7309634727</td><td>Indian India Liquefied Petroleum Gas Very Large Gas Carrier</td><td>Bay of Bengal|Chittagong Tanker Zone</td><td>20/12/2020 9:47:30 PM</td><td>9714393</td><td>20.981473922729</td><td>87.92170715332</td><td>IN HAL [Haldia]</td></tr><tr><td>C}KY7309692813</td><td>Japanese Liquefied Petroleum Gas Very Large Gas Carrier Korean</td><td>North Pacific Ocean (Japan)|Japan Tanker Zone</td><td>20/12/2020 7:50:13 PM</td><td>9702003</td><td>28.789026260376</td><td>134.71858215332</td><td>KR PTK [Okke]</td></tr><tr><td>C}KY7309692815</td><td>India Chinese Korean Liquefied Petroleum Gas Very Large Gas Carrier</td><td>East Indian Ocean</td><td>20/12/2020 6:44:43 PM</td><td>9702027</td><td>6.072826862335</td><td>91.01496887207</td><td>CN TXG [Xingang]</td></tr><tr><td>C}KY7309692816</td><td>Chinese Liquefied Petroleum Gas Very Large Gas Carrier</td><td>South China Sea|Canton Tanker Zone</td><td>19/12/2020 10:49:42 AM</td><td>9702039</td><td>21.132705688477</td><td>108.204032897949</td><td>CNFAN &gt;PABLB [Balboa]</td></tr><tr><td>C}KY7309709010</td><td>Chinese Liquefied Petroleum Gas Very Large Gas Carrier</td><td>Java Sea|Singapore Tanker Zone|Singapore Strait Waypoint|Singapore</td><td>17/12/2020 12:20:50 AM</td><td>9726061</td><td>1.297263383865</td><td>103.678512573242</td><td>YHQ3</td></tr><tr><td>C}KY7309709011</td><td>Japanese Liquefied Petroleum Gas Very Large Gas Carrier</td><td>North Pacific Ocean (Japan)|Taiwan Tanker Zone</td><td>20/12/2020 8:46:37 PM</td><td>9726073</td><td>22.358642578125</td><td>123.234649658203</td><td>JPNNO [Nanao]</td></tr><tr><td>C}KY7309709012</td><td>India Indian Liquefied Petroleum Gas Very Large Gas Carrier</td><td>East Indian Ocean|Colombo Tanker Zone</td><td>20/12/2020 11:47:22 AM</td><td>9726085</td><td>5.935183525085</td><td>86.759735107422</td><td>SAKAI</td></tr><tr><td>C}KG7309759322</td><td>American US USA American United States USA Liquefied Petroleum Gas Very Large Gas Carrier</td><td>South Atlantic Ocean</td><td>14/12/2020 9:18:18 AM</td><td>9686388</td><td>-9.139225006104</td><td>-22.262844085693</td><td>TANJUNGUBAN</td></tr><tr><td>C}KX7309792201</td><td>India Liquefied Petroleum Gas Very Large Gas Carrier</td><td>West Indian Ocean|Colombo Tanker Zone</td><td>20/12/2020 7:14:23 AM</td><td>9723681</td><td>8.359041213989</td><td>76.469833374023</td><td>AE FJR [Fujairah]</td></tr><tr><td>C}KX7309865866</td><td>Mexican American US USA American United States USA Liquefied Petroleum Gas Very Large Gas Carrier</td><td>Veracruz|Gulf of Mexico|East Mexico Tanker Zone|Mexico</td><td>19/12/2020 7:00:15 PM</td><td>9794288</td><td>18.124032974243</td><td>-94.403251647949</td><td>MX PAJ</td></tr><tr><td>C}KY7309908768</td><td>Indian Liquefied Petroleum Gas Very Large Gas Carrier Chinese</td><td>Borneo Sea|Singapore Tanker Zone</td><td>20/12/2020 10:19:23 PM</td><td>9867102</td><td>3.434163331985</td><td>105.220527648926</td><td>&gt;CN FAN [Fangcheng]</td></tr><tr><td>C}KY7309432434</td><td>Egyptian Liquefied Petroleum Gas Very Large Gas Carrier</td><td>Red Sea|Suez Canal Tanker Zone|Suez Canal Waypoint|Egypt</td><td>20/12/2020 12:09:48 PM</td><td>7420089</td><td>29.713882446289</td><td>32.620849609375</td><td>OPL SUEZ [Suez]</td></tr><tr><td>C}KY7309461339</td><td>Chinese Liquefied Petroleum Gas Very Large Gas Carrier</td><td>South China Sea|Shanghai Tanker Zone|Taiwan Strait Waypoint</td><td>19/12/2020 9:09:02 AM</td><td>8902371</td><td>24.930063247681</td><td>119.893226623535</td><td>NIPAH INDONESIA</td></tr><tr><td>C}KY7309461918</td><td>Chinese Liquefied Petroleum Gas Very Large Gas Carrier</td><td>East China Sea|Shanghai Tanker Zone</td><td>20/12/2020 10:10:49 AM</td><td>8912558</td><td>30.436908721924</td><td>122.775840759277</td><td>SGP PGBG [Singapore]</td></tr><tr><td>C}KY7309469666</td><td>Chinese Liquefied Petroleum Gas Very Large Gas Carrier</td><td>South China Sea|Canton Tanker Zone</td><td>18/12/2020 8:12:40 AM</td><td>9052331</td><td>22.35710144043</td><td>119.448295593262</td><td>AE KLF [Khor Fakkan]</td></tr><tr><td>C}KY7309471957</td><td>Vietnamese Thai Liquefied Petroleum Gas Very Large Gas Carrier</td><td>Gulf of Oman|Arabian Gulf Tanker Zone</td><td>17/12/2020 6:12:19 AM</td><td>9088536</td><td>26.338977813721</td><td>56.138805389404</td><td>KHASAB [Khasab]</td></tr><tr><td>C}KY7309486846</td><td>Chinese Korean Liquefied Petroleum Gas Very Large Gas Carrier</td><td>East China Sea|Korea Tanker Zone</td><td>16/12/2020 11:51:34 PM</td><td>9290270</td><td>37.576999664307</td><td>122.977851867676</td><td>SINGAPORE [Singapore]</td></tr></tbody></table>"
      ]
     },
     "execution_count": 10,
     "metadata": {},
     "output_type": "execute_result"
    }
   ],
   "source": [
    "// Show the location of each vessel and some general details such as location, destination and coordinates.\n",
    "filter = $\"RCSAssetTypeLeaf eq 'VLGC' and VesselStatus eq 'IN SERVICE' and {dateRange}\";\n",
    "select = \"RIC, SynonymSearchAll, DTSource, LocationTimestamp, IMO,Latitude, Longitude, LocationDestination\";\n",
    "\n",
    "response = Search.Definition(Search.View.VesselPhysicalAssets).Filter(filter)\n",
    "                                                              .Select(select)\n",
    "                                                              .Top(100)\n",
    "                                                              .GetData();\n",
    "response.Data.Hits"
   ]
  },
  {
   "cell_type": "markdown",
   "metadata": {},
   "source": [
    "#### Example - Floating Rate Notes\n",
    "Retrieve all floating rate notes (floating coupon) in the healthcare sector which are issued in Euros.  For each, ensure the coupon rate is great than 2 and our Moody's rating is greater than 'Baa1'.\n",
    "\n",
    "To determine the rating, we apply the following logic utilizing the RatingsScope property - which is a nested property providing additional details:\n",
    "\n",
    "- RatingsScope(RatingType eq 'MIS' and CurrentRatingRank lt 10)\n",
    "\n",
    "The RatingType of 'MIS' refers to the \"Moody's Long-term Issuer Rating\".\n",
    "The CurrentRatingRank < 10 instructs search to look for ratings less than 10 ('Baa1').  **Note**: The lower the rank, the better the rating."
   ]
  },
  {
   "cell_type": "code",
   "execution_count": 11,
   "metadata": {
    "scrolled": true
   },
   "outputs": [
    {
     "data": {
      "text/html": [
       "<table><thead><th>CouponCurrency</th><th>IssuerName</th><th>IssueDate</th><th>RIC</th><th>CouponRate</th><th>ISIN</th><th>Ticker</th><th>RCSTRBC2012Leaf</th></thead><tbody><tr><td>EUR</td><td>Sanofi FR</td><td>01/07/1983 12:00:00 AM</td><td>FR0000140022=</td><td>15.5</td><td>FR0000140022</td><td>SASY</td><td>Pharmaceuticals (NEC)</td></tr><tr><td>EUR</td><td>Sanofi FR</td><td>01/10/1987 12:00:00 AM</td><td>AVEPpaEUR.MIp</td><td>15.5</td><td>FR0000047656</td><td>SASY</td><td>Pharmaceuticals (NEC)</td></tr></tbody></table>"
      ]
     },
     "execution_count": 11,
     "metadata": {},
     "output_type": "execute_result"
    }
   ],
   "source": [
    "filter = @\"CouponRate gt 2 and\n",
    "           RatingsScope(RatingType eq 'MIS' and CurrentRatingRank lt 10) and\n",
    "           RCSCouponTypeName eq 'Floating Coupon' and\n",
    "           IsActive eq true and\n",
    "           RCSTRBC2012Name eq 'Healthcare' and\n",
    "           RCSCurrencyLeaf xeq 'Euro'\";\n",
    "select = \"CouponCurrency, IssuerName, IssueDate, RIC, CouponRate, ISIN, Ticker, RCSTRBC2012Leaf, MaturityDate, AssetState\";\n",
    "\n",
    "response = Search.Definition(Search.View.GovCorpInstruments).Filter(filter)\n",
    "                                                            .Select(select)\n",
    "                                                            .GetData();\n",
    "response.Data.Hits"
   ]
  },
  {
   "cell_type": "markdown",
   "metadata": {},
   "source": [
    "#### Example - Outstanding Green Bonds\n",
    "List the outstanding Green Bonds for Telefonica."
   ]
  },
  {
   "cell_type": "code",
   "execution_count": 12,
   "metadata": {
    "scrolled": true
   },
   "outputs": [
    {
     "data": {
      "text/html": [
       "<table><thead><th>DocumentTitle</th><th>RIC</th><th>CouponRate</th><th>ISIN</th><th>IssuerTicker</th><th>DebtTypeDescription</th><th>FaceOutstanding</th></thead><tbody><tr><td>Telefonica Europe BV, Bond, TEF 2.502</td><td>ES210981985=</td><td>2.502</td><td>XS2109819859</td><td>TEFBV</td><td>Junior Subordinated Note</td><td>500000000</td></tr><tr><td>Telefonica Emisiones SAU, Plain Vanilla Fixed Coupon Bond, TEF 1.069 05-Feb-2024</td><td>ES194600445=</td><td>1.069</td><td>XS1946004451</td><td>TEFEMI</td><td>Senior Note</td><td>1000000000</td></tr></tbody></table>"
      ]
     },
     "execution_count": 12,
     "metadata": {},
     "output_type": "execute_result"
    }
   ],
   "source": [
    "select = @\"ssuerName, DocumentTitle, RIC, CouponRate, ISIN, IssuerTicker, DebtTypeDescription, \n",
    "           AmountOutstanding, FaceOutstanding\";\n",
    "\n",
    "response = Search.Definition(Search.View.GovCorpInstruments).Filter(\"IssuerName eq 'Telefonica' and IsGreenBond eq true\")\n",
    "                                                            .Select(select)\n",
    "                                                            .GetData();\n",
    "response.Data.Hits"
   ]
  },
  {
   "cell_type": "markdown",
   "metadata": {},
   "source": [
    "#### Example - Equity Index listing in the U.S.A"
   ]
  },
  {
   "cell_type": "code",
   "execution_count": 13,
   "metadata": {},
   "outputs": [
    {
     "data": {
      "text/html": [
       "<table><thead><th>DocumentTitle</th><th>RIC</th><th>RCSTRBC2012Leaf</th></thead><tbody><tr><td>Dow Jones Industrial Average Index, Equity Index</td><td>.DJI</td><td>Trade &amp; Business Publishing</td></tr><tr><td>S&amp;P 500 Index - CBOE, Equity Index</td><td>.SPX</td><td>Magazine Publishing</td></tr><tr><td>NASDAQ 100 Index, Equity Index</td><td>.NDX</td><td>UK Investment Trusts</td></tr><tr><td>NASDAQ Composite Index, Equity Index</td><td>.IXIC</td><td>Financial &amp; Commodity Market Operators &amp; Service Providers (NEC)</td></tr><tr><td>Refinitiv United States Price Return Index, Equity Index</td><td>.TRXFLDUSP</td><td>Professional Information Services (NEC)</td></tr><tr><td>Dow Jones Transport Average Index, Equity Index</td><td>.DJT</td><td>Trade &amp; Business Publishing</td></tr><tr><td>Dow Jones Composite Index, Equity Index</td><td>.DJA</td><td>Trade &amp; Business Publishing</td></tr><tr><td>Dow Jones Utility Average Index, Equity Index</td><td>.DJU</td><td>Trade &amp; Business Publishing</td></tr><tr><td>S&amp;P 600 Small Cap Index, Equity Index</td><td>.SPCY</td><td>Magazine Publishing</td></tr><tr><td>S&amp;P 500 Index - CME, Equity Index</td><td>.INX</td><td>Magazine Publishing</td></tr></tbody></table>"
      ]
     },
     "execution_count": 13,
     "metadata": {},
     "output_type": "execute_result"
    }
   ],
   "source": [
    "// Based on the Asset Category (Equity Index), list the top 10 indexes within the USA.\n",
    "filter = \"RCSIndexCountryGroupLeaf xeq 'United States' and RCSAssetCategoryLeaf xeq 'Equity Index'\";\n",
    "\n",
    "response = Search.Definition(Search.View.IndexInstruments).Filter(filter)\n",
    "                                                          .Select(\"DocumentTitle, RIC, RCSTRBC2012Leaf\")\n",
    "                                                          .GetData();\n",
    "response.Data.Hits"
   ]
  },
  {
   "cell_type": "markdown",
   "metadata": {},
   "source": [
    "#### Example - Search for Brazil global sovereign bonds in USD with a duration greater than 1"
   ]
  },
  {
   "cell_type": "code",
   "execution_count": 14,
   "metadata": {
    "scrolled": true
   },
   "outputs": [
    {
     "data": {
      "text/html": [
       "<table><thead><th>RIC</th><th>ISIN</th><th>MaturityDate</th><th>CouponRate</th><th>IndustrySector</th><th>FaceOutstandingUSD</th><th>OptionAdjustedDuration</th></thead><tbody><tr><td>105756BU3=</td><td>US105756BU30</td><td>05/01/2023 12:00:00 AM</td><td>2.625</td><td>SOVERGRN</td><td>2150000000</td><td>1.975992</td></tr><tr><td>BR012631375=</td><td>US105756AR10</td><td>15/04/2024 12:00:00 AM</td><td>8.875</td><td>SOVERGRN</td><td>1029030000</td><td>2.939399</td></tr><tr><td>BR017244388=</td><td>US105756AZ36</td><td>15/04/2024 12:00:00 AM</td><td>8.875</td><td>SOVERGRN</td><td>85557000</td><td>2.939399</td></tr><tr><td>105756BV1=</td><td>US105756BV13</td><td>07/01/2025 12:00:00 AM</td><td>4.25</td><td>SOVERGRN</td><td>4300000000</td><td>3.682713</td></tr><tr><td>BR021210641=</td><td>US105756BF62</td><td>04/02/2025 12:00:00 AM</td><td>8.75</td><td>SOVERGRN</td><td>688201000</td><td>3.496739</td></tr><tr><td>105756CD0=</td><td>US105756CD06</td><td>06/06/2025 12:00:00 AM</td><td>2.875</td><td>SOVERGRN</td><td>1750000000</td><td>4.183824</td></tr><tr><td>105756BX7=</td><td>US105756BX78</td><td>07/04/2026 12:00:00 AM</td><td>6</td><td>SOVERGRN</td><td>2176245000</td><td>4.593229</td></tr><tr><td>105756AE0=</td><td>US105756AE07</td><td>15/05/2027 12:00:00 AM</td><td>10.125</td><td>SOVERGRN</td><td>765023000</td><td>5.040152</td></tr><tr><td>105756BZ2=</td><td>US105756BZ27</td><td>13/01/2028 12:00:00 AM</td><td>4.625</td><td>SOVERGRN</td><td>3000000000</td><td>5.808703</td></tr><tr><td>105756CA6=</td><td>US105756CA66</td><td>30/05/2029 12:00:00 AM</td><td>4.5</td><td>SOVERGRN</td><td>2000000000</td><td>6.912554</td></tr></tbody></table>"
      ]
     },
     "execution_count": 14,
     "metadata": {},
     "output_type": "execute_result"
    }
   ],
   "source": [
    "filter = @\"RCSIssuerCountryLeaf eq 'Brazil' and\n",
    "           RCSCurrencyLeaf eq 'US Dollar' and\n",
    "           RCSTRBC2012Leaf eq 'Government & Government Finance' and\n",
    "           OptionAdjustedDuration gt 1\";\n",
    "select = \"RIC, ISIN, MaturityDate, CouponRate, IndustrySector, FaceOutstandingUSD, OptionAdjustedDuration\";\n",
    "\n",
    "response = Search.Definition(Search.View.FixedIncomeInstruments).Filter(filter)\n",
    "                                                                .Select(select)\n",
    "                                                                .GetData();\n",
    "response.Data.Hits"
   ]
  },
  {
   "cell_type": "code",
   "execution_count": 15,
   "metadata": {},
   "outputs": [
    {
     "data": {
      "text/html": [
       "<table><thead><th>RIC</th><th>ISIN</th><th>MaturityDate</th><th>CouponRate</th><th>IndustrySector</th><th>FaceOutstandingUSD</th><th>OptionAdjustedDuration</th></thead><tbody><tr><td>105756BU3=</td><td>US105756BU30</td><td>05/01/2023 12:00:00 AM</td><td>2.625</td><td>SOVERGRN</td><td>2150000000</td><td>1.975992</td></tr><tr><td>BR012631375=</td><td>US105756AR10</td><td>15/04/2024 12:00:00 AM</td><td>8.875</td><td>SOVERGRN</td><td>1029030000</td><td>2.939399</td></tr><tr><td>BR017244388=</td><td>US105756AZ36</td><td>15/04/2024 12:00:00 AM</td><td>8.875</td><td>SOVERGRN</td><td>85557000</td><td>2.939399</td></tr><tr><td>105756BV1=</td><td>US105756BV13</td><td>07/01/2025 12:00:00 AM</td><td>4.25</td><td>SOVERGRN</td><td>4300000000</td><td>3.682713</td></tr><tr><td>BR021210641=</td><td>US105756BF62</td><td>04/02/2025 12:00:00 AM</td><td>8.75</td><td>SOVERGRN</td><td>688201000</td><td>3.496739</td></tr><tr><td>105756CD0=</td><td>US105756CD06</td><td>06/06/2025 12:00:00 AM</td><td>2.875</td><td>SOVERGRN</td><td>1750000000</td><td>4.183824</td></tr><tr><td>105756BX7=</td><td>US105756BX78</td><td>07/04/2026 12:00:00 AM</td><td>6</td><td>SOVERGRN</td><td>2176245000</td><td>4.593229</td></tr><tr><td>105756AE0=</td><td>US105756AE07</td><td>15/05/2027 12:00:00 AM</td><td>10.125</td><td>SOVERGRN</td><td>765023000</td><td>5.040152</td></tr><tr><td>105756BZ2=</td><td>US105756BZ27</td><td>13/01/2028 12:00:00 AM</td><td>4.625</td><td>SOVERGRN</td><td>3000000000</td><td>5.808703</td></tr><tr><td>105756CA6=</td><td>US105756CA66</td><td>30/05/2029 12:00:00 AM</td><td>4.5</td><td>SOVERGRN</td><td>2000000000</td><td>6.912554</td></tr></tbody></table>"
      ]
     },
     "execution_count": 15,
     "metadata": {},
     "output_type": "execute_result"
    }
   ],
   "source": [
    "// Alternatively, you have the option of trying it this way which will render the same results\n",
    "filter = @\"IssuerCountryName eq 'Brazil' and\n",
    "           OptionAdjustedDuration gt 1 and\n",
    "           Currency eq 'USD' and IndustrySectorDescription eq 'Sovereign'\";\n",
    "select = \"RIC, ISIN, MaturityDate, CouponRate, IndustrySector, FaceOutstandingUSD, OptionAdjustedDuration\";\n",
    "\n",
    "response = Search.Definition(Search.View.FixedIncomeInstruments).Filter(filter)\n",
    "                                                                .Select(select)\n",
    "                                                                .GetData();\n",
    "response.Data.Hits"
   ]
  },
  {
   "cell_type": "markdown",
   "metadata": {},
   "source": [
    "#### Example - Top executives"
   ]
  },
  {
   "cell_type": "code",
   "execution_count": 16,
   "metadata": {},
   "outputs": [
    {
     "data": {
      "text/html": [
       "<table><thead><th>FullName</th><th>PrimaryTitleAsReported</th><th>PrimaryOfficerDirector</th><th>OfficerDirectorActiveCompanies</th><th>PrimaryOfficerDirectorRIC</th></thead><tbody><tr><td>John Wendell Thompson</td><td>Independent Non-Executive Chairman of the Board</td><td>Microsoft Corp</td><td>[\r\n",
       "  &quot;User Replay Ltd&quot;,\r\n",
       "  &quot;Crystal Decisions Inc&quot;,\r\n",
       "  &quot;Commerce Decisions Ltd&quot;,\r\n",
       "  &quot;Illumina Inc&quot;,\r\n",
       "  &quot;Microsoft Corp&quot;\r\n",
       "]</td><td>MSFT.O</td></tr><tr><td>Satya Nadella</td><td>Chief Executive Officer, Director</td><td>Microsoft Corp</td><td>[\r\n",
       "  &quot;Starbucks Corp&quot;,\r\n",
       "  &quot;Chandler Insurance Company Ltd&quot;,\r\n",
       "  &quot;Microsoft Corp&quot;\r\n",
       "]</td><td>MSFT.O</td></tr><tr><td>Art D. Levinson</td><td>Independent Chairman of the Board</td><td>Apple Inc</td><td>[\r\n",
       "  &quot;Apple Inc&quot;,\r\n",
       "  &quot;Genentech Inc&quot;\r\n",
       "]</td><td>AAPL.O</td></tr><tr><td>Tim D. Cook</td><td>Chief Executive Officer, Director</td><td>Apple Inc</td><td>[\r\n",
       "  &quot;Apple Inc&quot;,\r\n",
       "  &quot;Nike Inc&quot;\r\n",
       "]</td><td>AAPL.O</td></tr><tr><td>Jeff P. Bezos</td><td>Chairman of the Board, President, Chief Executive Officer</td><td>Amazon.com Inc</td><td>[\r\n",
       "  &quot;Institute For Advanced Study&quot;,\r\n",
       "  &quot;Amazon.com Inc&quot;\r\n",
       "]</td><td>AMZN.O</td></tr><tr><td>Keith Brian Alexander</td><td>Director</td><td>Amazon.com Inc</td><td>[\r\n",
       "  &quot;Amazon.com Inc&quot;,\r\n",
       "  &quot;Ironnet Cybersecurity Inc&quot;\r\n",
       "]</td><td>AMZN.O</td></tr><tr><td>Jon J. Rubinstein</td><td>Independent Director</td><td>Amazon.com Inc</td><td>[\r\n",
       "  &quot;Palm Inc&quot;,\r\n",
       "  &quot;Amazon.com Inc&quot;\r\n",
       "]</td><td>AMZN.O</td></tr><tr><td>Sundar Pichai</td><td>Chief Executive Officer, Director</td><td>Alphabet Inc</td><td>[\r\n",
       "  &quot;Alphabet Inc&quot;,\r\n",
       "  &quot;Ruba  Inc (Fka  Kudo  Inc)&quot;\r\n",
       "]</td><td>GOOGL.O</td></tr><tr><td>Roger W. Ferguson</td><td>Independent Director</td><td>Alphabet Inc</td><td>[\r\n",
       "  &quot;Teachers Insurance and Annuity Association of America&quot;,\r\n",
       "  &quot;Audax Health Solutions LLC&quot;,\r\n",
       "  &quot;Alphabet Inc&quot;,\r\n",
       "  &quot;International Flavors &amp; Fragrances Inc&quot;,\r\n",
       "  &quot;General Mills Inc&quot;,\r\n",
       "  &quot;Memorial Sloan-Kettering Cancer Center&quot;\r\n",
       "]</td><td>GOOGL.O</td></tr><tr><td>Mark Zuckerberg</td><td>Chairman of the Board, Chief Executive Officer, Founder</td><td>Facebook Inc</td><td>[\r\n",
       "  &quot;Facebook Inc&quot;\r\n",
       "]</td><td>FB.O</td></tr><tr><td>Dustin A. Moskovitz</td><td>Venture Economics Executive</td><td>Facebook Inc</td><td>[\r\n",
       "  &quot;Facebook Inc&quot;,\r\n",
       "  &quot;Asana Inc&quot;\r\n",
       "]</td><td>FB.O</td></tr><tr><td>Adam D&#39;Angelo</td><td>Venture Economics Executive</td><td>Facebook Inc</td><td>[\r\n",
       "  &quot;Facebook Inc&quot;,\r\n",
       "  &quot;Quora Inc&quot;\r\n",
       "]</td><td>FB.O</td></tr><tr><td>Warren Edward Buffett</td><td>Chairman of the Board, Chief Executive Officer</td><td>Berkshire Hathaway Inc</td><td>[\r\n",
       "  &quot;Grinnell College&quot;,\r\n",
       "  &quot;Bill &amp; Melinda Gates Foundation Trust&quot;,\r\n",
       "  &quot;Berkshire Hathaway Inc&quot;,\r\n",
       "  &quot;Kraft Heinz Intermediate Corporation II&quot;,\r\n",
       "  &quot;Lubrizol Corp&quot;,\r\n",
       "  &quot;Kraft Heinz Foods Co&quot;,\r\n",
       "  &quot;Berkshire Hathaway Energy Co&quot;\r\n",
       "]</td><td>BRKa</td></tr><tr><td>Gregory E. Abel</td><td>Vice Chairman � Non Insurance Operations, Director</td><td>Berkshire Hathaway Inc</td><td>[\r\n",
       "  &quot;Northern Electric PLC&quot;,\r\n",
       "  &quot;Berkshire Hathaway Inc&quot;,\r\n",
       "  &quot;Northern Powergrid Holdings Co&quot;,\r\n",
       "  &quot;Kraft Heinz Intermediate Corporation II&quot;,\r\n",
       "  &quot;Pacificorp&quot;,\r\n",
       "  &quot;Berkshire Hathaway Energy Co&quot;,\r\n",
       "  &quot;Kraft Heinz Co&quot;\r\n",
       "]</td><td>BRKa</td></tr><tr><td>Steve B. Burke</td><td>Independent Director</td><td>Berkshire Hathaway Inc</td><td>[\r\n",
       "  &quot;Berkshire Hathaway Inc&quot;,\r\n",
       "  &quot;NBCUniversal Media LLC&quot;,\r\n",
       "  &quot;JP Morgan Investment Management Inc&quot;,\r\n",
       "  &quot;JPMorgan Chase &amp; Co&quot;\r\n",
       "]</td><td>BRKa</td></tr><tr><td>Daniel Zhang</td><td>Chairman of the Board, Chief Executive Officer</td><td>Alibaba Group Holding Ltd</td><td>[\r\n",
       "  &quot;Weibo Corp&quot;,\r\n",
       "  &quot;Alibaba Group Holding Ltd&quot;,\r\n",
       "  &quot;Sun Art Retail Group Ltd&quot;\r\n",
       "]</td><td>BABA.K</td></tr><tr><td>Fan Jiang</td><td>President - Taobao and Tmall</td><td>Alibaba Group Holding Ltd</td><td>[\r\n",
       "  &quot;Alibaba Group Holding Ltd&quot;,\r\n",
       "  &quot;Umeng Technology Ltd&quot;\r\n",
       "]</td><td>BABA.K</td></tr><tr><td>Huateng Ma</td><td>Executive Chairman of the Board, Chief Executive Officer</td><td>Tencent Holdings Ltd</td><td>[\r\n",
       "  &quot;Tencent Holdings Ltd&quot;,\r\n",
       "  &quot;Tencent Technology Beijing Co Ltd&quot;\r\n",
       "]</td><td>0700.HK</td></tr><tr><td>Al Francis Kelly</td><td>Chairman of the Board, Chief Executive Officer</td><td>Visa Inc</td><td>[\r\n",
       "  &quot;Visa Inc&quot;\r\n",
       "]</td><td>V</td></tr><tr><td>Alex Gorsky</td><td>Chairman of the Board, Chief Executive Officer</td><td>Johnson &amp; Johnson</td><td>[\r\n",
       "  &quot;Johnson &amp; Johnson Services Inc&quot;,\r\n",
       "  &quot;Ethicon Inc&quot;,\r\n",
       "  &quot;Johnson &amp; Johnson&quot;,\r\n",
       "  &quot;International Business Machines Corp&quot;\r\n",
       "]</td><td>JNJ</td></tr></tbody></table>"
      ]
     },
     "execution_count": 16,
     "metadata": {},
     "output_type": "execute_result"
    }
   ],
   "source": [
    "// Using the People View, we can utilize the OfficerDirector property, which contains a number of nested or sub-properties \n",
    "// that allow me to perform a more fine-grained search against active people that have been assigned a title code of \n",
    "// CEO (Chief Executive Officer). The results are listed based on a default rank defined by the search service.\n",
    "filter = \"OfficerDirector(RoleTitleCode eq 'CEO' and RoleStatus eq 'Active')\";\n",
    "select = @\"FullName, PrimaryTitleAsReported, PrimaryOfficerDirector, RIC, \n",
    "           OfficerDirectorActiveCompanies, PrimaryOfficerDirectorRIC\";\n",
    "           \n",
    "response = Search.Definition(Search.View.People).Filter(filter)\n",
    "                                                .Select(select)\n",
    "                                                .Top(20)\n",
    "                                                .GetData();\n",
    "response.Data.Hits"
   ]
  },
  {
   "cell_type": "code",
   "execution_count": null,
   "metadata": {},
   "outputs": [],
   "source": []
  }
 ],
 "metadata": {
  "kernelspec": {
   "display_name": ".NET (C#)",
   "language": "C#",
   "name": ".net-csharp"
  },
  "language_info": {
   "file_extension": ".cs",
   "mimetype": "text/x-csharp",
   "name": "C#",
   "pygments_lexer": "csharp",
   "version": "8.0"
  }
 },
 "nbformat": 4,
 "nbformat_minor": 4
}
