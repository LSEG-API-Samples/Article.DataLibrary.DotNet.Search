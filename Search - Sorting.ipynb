{
 "cells": [
  {
   "cell_type": "markdown",
   "metadata": {},
   "source": [
    "## Sorting and Grouping\n",
    "The Search service offers the ability to organize your result set in different ways.  Whether you choose to sort based on a specific property, group properties or boost the result set, you have the option to override the default ordering returned. In addition, you can also use navigation to organize your buckets of data returned.\n",
    "\n",
    "By default, the result set will provide some basic ranking, depending on the type of query or filter performed.  "
   ]
  },
  {
   "cell_type": "markdown",
   "metadata": {},
   "source": [
    "#### NuGet Packages"
   ]
  },
  {
   "cell_type": "code",
   "execution_count": 1,
   "metadata": {},
   "outputs": [
    {
     "data": {
      "text/html": [
       "\r\n",
       "<div>\r\n",
       "    <div id='dotnet-interactive-this-cell-24312.Microsoft.DotNet.Interactive.Http.HttpPort' style='display: none'>\r\n",
       "        The below script needs to be able to find the current output cell; this is an easy method to get it.\r\n",
       "    </div>\r\n",
       "    <script type='text/javascript'>\r\n",
       "async function probeAddresses(probingAddresses) {\r\n",
       "    function timeout(ms, promise) {\r\n",
       "        return new Promise(function (resolve, reject) {\r\n",
       "            setTimeout(function () {\r\n",
       "                reject(new Error('timeout'))\r\n",
       "            }, ms)\r\n",
       "            promise.then(resolve, reject)\r\n",
       "        })\r\n",
       "    }\r\n",
       "\r\n",
       "    if (Array.isArray(probingAddresses)) {\r\n",
       "        for (let i = 0; i < probingAddresses.length; i++) {\r\n",
       "\r\n",
       "            let rootUrl = probingAddresses[i];\r\n",
       "\r\n",
       "            if (!rootUrl.endsWith('/')) {\r\n",
       "                rootUrl = `${rootUrl}/`;\r\n",
       "            }\r\n",
       "\r\n",
       "            try {\r\n",
       "                let response = await timeout(1000, fetch(`${rootUrl}discovery`, {\r\n",
       "                    method: 'POST',\r\n",
       "                    cache: 'no-cache',\r\n",
       "                    mode: 'cors',\r\n",
       "                    timeout: 1000,\r\n",
       "                    headers: {\r\n",
       "                        'Content-Type': 'text/plain'\r\n",
       "                    },\r\n",
       "                    body: probingAddresses[i]\r\n",
       "                }));\r\n",
       "\r\n",
       "                if (response.status == 200) {\r\n",
       "                    return rootUrl;\r\n",
       "                }\r\n",
       "            }\r\n",
       "            catch (e) { }\r\n",
       "        }\r\n",
       "    }\r\n",
       "}\r\n",
       "\r\n",
       "function loadDotnetInteractiveApi() {\r\n",
       "    probeAddresses([\"http://192.168.0.6:2054/\", \"http://127.0.0.1:2054/\"])\r\n",
       "        .then((root) => {\r\n",
       "        // use probing to find host url and api resources\r\n",
       "        // load interactive helpers and language services\r\n",
       "        let dotnetInteractiveRequire = require.config({\r\n",
       "        context: '24312.Microsoft.DotNet.Interactive.Http.HttpPort',\r\n",
       "                paths:\r\n",
       "            {\r\n",
       "                'dotnet-interactive': `${root}resources`\r\n",
       "                }\r\n",
       "        }) || require;\r\n",
       "\r\n",
       "            window.dotnetInteractiveRequire = dotnetInteractiveRequire;\r\n",
       "\r\n",
       "            window.configureRequireFromExtension = function(extensionName, extensionCacheBuster) {\r\n",
       "                let paths = {};\r\n",
       "                paths[extensionName] = `${root}extensions/${extensionName}/resources/`;\r\n",
       "                \r\n",
       "                let internalRequire = require.config({\r\n",
       "                    context: extensionCacheBuster,\r\n",
       "                    paths: paths,\r\n",
       "                    urlArgs: `cacheBuster=${extensionCacheBuster}`\r\n",
       "                    }) || require;\r\n",
       "\r\n",
       "                return internalRequire\r\n",
       "            };\r\n",
       "        \r\n",
       "            dotnetInteractiveRequire([\r\n",
       "                    'dotnet-interactive/dotnet-interactive'\r\n",
       "                ],\r\n",
       "                function (dotnet) {\r\n",
       "                    dotnet.init(window);\r\n",
       "                },\r\n",
       "                function (error) {\r\n",
       "                    console.log(error);\r\n",
       "                }\r\n",
       "            );\r\n",
       "        })\r\n",
       "        .catch(error => {console.log(error);});\r\n",
       "    }\r\n",
       "\r\n",
       "// ensure `require` is available globally\r\n",
       "if ((typeof(require) !==  typeof(Function)) || (typeof(require.config) !== typeof(Function))) {\r\n",
       "    let require_script = document.createElement('script');\r\n",
       "    require_script.setAttribute('src', 'https://cdnjs.cloudflare.com/ajax/libs/require.js/2.3.6/require.min.js');\r\n",
       "    require_script.setAttribute('type', 'text/javascript');\r\n",
       "    \r\n",
       "    \r\n",
       "    require_script.onload = function() {\r\n",
       "        loadDotnetInteractiveApi();\r\n",
       "    };\r\n",
       "\r\n",
       "    document.getElementsByTagName('head')[0].appendChild(require_script);\r\n",
       "}\r\n",
       "else {\r\n",
       "    loadDotnetInteractiveApi();\r\n",
       "}\r\n",
       "\r\n",
       "    </script>\r\n",
       "</div>"
      ]
     },
     "metadata": {},
     "output_type": "display_data"
    },
    {
     "data": {
      "text/html": [
       "<div><div></div><div></div><div><strong>Installed Packages</strong><ul><li><span>Microsoft.Data.Analysis, 0.20.1</span></li><li><span>Refinitiv.Data.Content, 1.0.0-beta4</span></li></ul></div></div>"
      ]
     },
     "metadata": {},
     "output_type": "display_data"
    },
    {
     "data": {
      "text/plain": [
       "Loading extensions from `C:\\Users\\U8007876\\.nuget\\packages\\microsoft.data.analysis\\0.20.1\\interactive-extensions\\dotnet\\Microsoft.Data.Analysis.Interactive.dll`"
      ]
     },
     "metadata": {},
     "output_type": "display_data"
    }
   ],
   "source": [
    "#r \"nuget:Refinitiv.Data.Content, 1.0.0-beta4\"\n",
    "#r \"nuget:Microsoft.Data.Analysis\""
   ]
  },
  {
   "cell_type": "code",
   "execution_count": 2,
   "metadata": {},
   "outputs": [],
   "source": [
    "using Newtonsoft.Json.Linq;\n",
    "using Refinitiv.Data.Content.SearchService;\n",
    "using Refinitiv.Data.Core;\n",
    "using Microsoft.Data.Analysis;\n",
    "using Microsoft.AspNetCore.Html;\n",
    "using System.Data;\n",
    "using System;\n",
    "using Microsoft.DotNet.Interactive.Formatting;\n",
    "using static Microsoft.DotNet.Interactive.Formatting.PocketViewTags;"
   ]
  },
  {
   "cell_type": "markdown",
   "metadata": {},
   "source": [
    "#### Table Output\n",
    "Helper routine to output data in a table format."
   ]
  },
  {
   "cell_type": "code",
   "execution_count": 3,
   "metadata": {},
   "outputs": [],
   "source": [
    "Formatter.Register<DataTable>((dt, writer) =>\n",
    "{\n",
    "    if (dt.Columns.Count > 0)\n",
    "    {\n",
    "        var rows = new List<ICollection<IHtmlContent>>();\n",
    "\n",
    "        // Process Each data row\n",
    "        foreach(var row in dt.Rows.Cast<DataRow>())\n",
    "        {\n",
    "            var cells = new List<IHtmlContent>();\n",
    "            foreach (var cell in row.ItemArray)\n",
    "            {\n",
    "                switch (cell)\n",
    "                {\n",
    "                    case null:\n",
    "                        break;\n",
    "                    case JValue val:\n",
    "                        cells.Add(td(val.ToString()));\n",
    "                        break;\n",
    "                    case IEnumerable<JToken> list:\n",
    "                        cells.Add(td($\"[{string.Join(\", \", list.Select(node => $\"{node}\"))}]\"));\n",
    "                        break;\n",
    "                    default:\n",
    "                        cells.Add(td(cell));\n",
    "                        break;\n",
    "                }                \n",
    "            }\n",
    "            rows.Add(cells);\n",
    "        }\n",
    "        \n",
    "        // Header\n",
    "        var headers = new List<IHtmlContent>();\n",
    "        foreach (DataColumn col in dt.Columns)\n",
    "            headers.Add(th(col.ColumnName) as IHtmlContent);\n",
    "\n",
    "        var t = table(thead(headers), tbody(rows.Select(r => tr(r))));\n",
    "        writer.Write(t);\n",
    "    }\n",
    "}, \"text/html\");"
   ]
  },
  {
   "cell_type": "code",
   "execution_count": 4,
   "metadata": {},
   "outputs": [
    {
     "name": "stdout",
     "output_type": "stream",
     "text": [
      "2023-02-21 4:05:34 PM:DesktopSession. (State: DesktopSession is Pending)\n",
      "2023-02-21 4:05:36 PM:DesktopSession. (Event: {\n",
      "  \"Contents\": \"Desktop Session Successfully Authenticated\"\n",
      "})\n",
      "2023-02-21 4:05:36 PM:DesktopSession. (State: DesktopSession is Opened)\n"
     ]
    }
   ],
   "source": [
    "// Create a session into the desktop\n",
    "DesktopSession.Definition().GetSession().OnState((s, state, msg) => Console.WriteLine($\"{DateTime.Now}:{msg}. (State: {state})\"))\n",
    "                                        .OnEvent((s, eventCode, msg) => Console.WriteLine($\"{DateTime.Now}:{msg}. (Event: {eventCode})\"))\n",
    "                                        .Open();"
   ]
  },
  {
   "cell_type": "markdown",
   "metadata": {},
   "source": [
    "#### Example - Default ranking and how to boost results\n",
    "To demonstrate default sorting, I'm going to search for documents that match a specific ticker. This will result in the documents ranked based on the relevancy and scores assigned to each document.\n",
    "\n",
    "Search for Vodafone (VOD) against the ticker:"
   ]
  },
  {
   "cell_type": "code",
   "execution_count": 5,
   "metadata": {},
   "outputs": [
    {
     "data": {
      "text/html": [
       "<table><thead><th>BusinessEntity</th><th>DocumentTitle</th><th>PermID</th><th>PI</th><th>RIC</th><th>RCSExchangeCountryLeaf</th></thead><tbody><tr><td>QUOTExEQUITY</td><td>Vodafone Group PLC, Ordinary Share, London Stock Exchange</td><td>55836053361</td><td>1049261</td><td>VOD.L</td><td>United Kingdom</td></tr><tr><td>QUOTExEQUITY</td><td>Vodacom Group Ltd, Ordinary Share, Johannesburg Stock Exchange</td><td>55849756323</td><td>59938825</td><td>VODJ.J</td><td>South Africa</td></tr><tr><td>QUOTExEQUITY</td><td>Johannesburg Stock Exchange Vodacom Group Limited Cash Settled SSF Equity Future Continuation 1, Equity Future, ZAR, Johannesburg Stock Exchange</td><td>21508525903</td><td>113268320</td><td>VODSc1</td><td>South Africa</td></tr><tr><td>QUOTExEQUITY</td><td>Johannesburg Stock Exchange Can Do VODX Vodacom Equity Future Continuation 1, Equity Future, ZAR, Johannesburg Stock Exchange</td><td>21534036541</td><td>148452798</td><td>VODXFLc1</td><td>South Africa</td></tr><tr><td>QUOTExEQUITY</td><td>Johannesburg Stock Exchange Vodacom Group CFD Equity Future Continuation 1, Equity Future, ZAR, Johannesburg Stock Exchange</td><td>21600821292</td><td>244233208</td><td>VODCFDc1</td><td>South Africa</td></tr><tr><td>QUOTExEQUITY</td><td>Johannesburg Stock Exchange Vodacom Group Limited Cash Settled CFD Sabor Equity Future Continuation 1, Equity Future, ZAR, Johannesburg Stock Exchange</td><td>21693141305</td><td>363600087</td><td>VODSCFDc1</td><td>South Africa</td></tr><tr><td>QUOTExEQUITY</td><td>Johannesburg Stock Exchange Vodacom Group Ltd SSF Cash Settled Dividend Neutral Equity Future Continuation 1, Equity Future, ZAR, Johannesburg Stock Exchange</td><td>21707726176</td><td>381845837</td><td>VODTc1</td><td>South Africa</td></tr><tr><td>QUOTExEQUITY</td><td>Johannesburg Stock Exchange Vodafone Group PLC Dividend Neutral Equity Future Continuation 1, Equity Future, ZAR, Johannesburg Stock Exchange</td><td>21481060885</td><td>53826719</td><td>VODDc1</td><td>South Africa</td></tr><tr><td>QUOTExEQUITY</td><td>Johannesburg Stock Exchange Vodafone Group PLC IDX Equity Future Continuation 1, Equity Future, ZAR, Johannesburg Stock Exchange</td><td>21481060918</td><td>53826752</td><td>VODGc1</td><td>South Africa</td></tr><tr><td>QUOTExEQUITY</td><td>Johannesburg Stock Exchange Vodacom Group SSF Equity Future Continuation 1, Equity Future, ZAR, Johannesburg Stock Exchange</td><td>21481084690</td><td>60188651</td><td>VODQc1</td><td>South Africa</td></tr></tbody></table>"
      ]
     },
     "execution_count": 5,
     "metadata": {},
     "output_type": "execute_result"
    }
   ],
   "source": [
    "var response = Search.Definition(Search.View.SearchAll).Filter(\"TickerSymbol eq 'VOD'\")\n",
    "                                                       .Select(\"_, RCSExchangeCountryLeaf\")\n",
    "                                                       .GetData();\n",
    "response.Data.Table"
   ]
  },
  {
   "cell_type": "markdown",
   "metadata": {},
   "source": [
    "The above output ranked the common share 'VOD.L', listed within the UK, at the top.  This is largely due to the fact that 'VOD.L' is the most significant or liquid asset in the list.  However, if I decide to override this default ranking by specifying that I want to show the listed documents within the Unitied States at the top, I can do this \n",
    "by applying a *Boost* parameter."
   ]
  },
  {
   "cell_type": "code",
   "execution_count": 6,
   "metadata": {},
   "outputs": [
    {
     "data": {
      "text/html": [
       "<table><thead><th>BusinessEntity</th><th>DocumentTitle</th><th>PermID</th><th>PI</th><th>RIC</th><th>RCSExchangeCountryLeaf</th></thead><tbody><tr><td>QUOTExEQUITY</td><td>Vodafone Group PLC, Depository Receipt, NASDAQ Global Select Consolidated</td><td>55839401038</td><td>726233</td><td>VOD.O</td><td>United States</td></tr><tr><td>QUOTExEQUITY</td><td>Vodafone Group PLC, Depository Receipt, NASDAQ Stock Exchange Global Select Market</td><td>55835364259</td><td>1092283</td><td>VOD.OQ</td><td>United States</td></tr><tr><td>QUOTExEQUITY</td><td>Vodafone Group PLC, Depository Receipt, Cboe BZX Exchange - Nasdaq Global Select Market</td><td>55845638958</td><td>53705532</td><td>VOD.Z</td><td>United States</td></tr><tr><td>QUOTExEQUITY</td><td>Vodafone Group PLC, Depository Receipt, Cboe EDGX Exchange - Nasdaq Global Select Market</td><td>21475045362</td><td>73238578</td><td>VOD.DG</td><td>United States</td></tr><tr><td>QUOTExEQUITY</td><td>Vodafone Group PLC, Depository Receipt, Boston SE when trading NASDAQ Global Select Market</td><td>55846134804</td><td>55957391</td><td>VOD.B</td><td>United States</td></tr><tr><td>QUOTExEQUITY</td><td>Vodafone Group PLC, Depository Receipt, NYSE Arca when trading NASDAQ Global Select Market</td><td>55837254988</td><td>754172</td><td>VOD.P</td><td>United States</td></tr><tr><td>QUOTExEQUITY</td><td>Vodafone Group PLC, Depository Receipt, Cboe BYX Exchange - Nasdaq Global Select Market</td><td>21475122433</td><td>76383634</td><td>VOD.ZY</td><td>United States</td></tr><tr><td>QUOTExEQUITY</td><td>Vodafone Group PLC, Depository Receipt, Cboe EDGA Exchange - Nasdaq Global Select Market</td><td>21475045135</td><td>73240457</td><td>VOD.DY</td><td>United States</td></tr><tr><td>QUOTExEQUITY</td><td>Vodafone Group PLC, Depository Receipt, NASDAQ OMX PHLX Global Select Market</td><td>21475115114</td><td>76271998</td><td>VOD.PH</td><td>United States</td></tr><tr><td>QUOTExEQUITY</td><td>Vodafone Group PLC, Depository Receipt, NYSE National Exchange when trading Nasdaq Global Select Market</td><td>55838271132</td><td>735992</td><td>VOD.C</td><td>United States</td></tr></tbody></table>"
      ]
     },
     "execution_count": 6,
     "metadata": {},
     "output_type": "execute_result"
    }
   ],
   "source": [
    "response = Search.Definition(Search.View.SearchAll).Filter(\"TickerSymbol eq 'VOD'\")\n",
    "                                                   .Boost(\"RCSExchangeCountryLeaf eq 'United States'\")\n",
    "                                                   .Select(\"_, RCSExchangeCountryLeaf\")\n",
    "                                                   .GetData();\n",
    "response.Data.Table"
   ]
  },
  {
   "cell_type": "markdown",
   "metadata": {},
   "source": [
    "#### Example - List the youngest CEO's.\n",
    "The order_by parameters will sort, ascending (default) or descending, based on the birth year property.\n",
    "\n",
    "Note: In the following example, not every document that identifies a CEO will have a reported birth year. Because we are sorting based on the year they were born, \n",
    "all CEO's where the year of birth is not recorded will be bumped to the bottom of the list."
   ]
  },
  {
   "cell_type": "code",
   "execution_count": 7,
   "metadata": {},
   "outputs": [
    {
     "data": {
      "text/html": [
       "<table><thead><th>FullName</th><th>YearOfBirth</th><th>DTCharacteristics</th><th>PrimaryOfficerDirectorRIC</th><th>PrimaryOfficerDirector</th></thead><tbody><tr><td>Hiroyasu Saito</td><td>1996</td><td>Chief Executive Officer, Representative Director</td><td><div class=\"dni-plaintext\"><pre></pre></div></td><td>Gracia Inc</td></tr><tr><td>Connor Campbell</td><td>1994</td><td>Chief Executive Officer, Co-Founder</td><td><div class=\"dni-plaintext\"><pre></pre></div></td><td>Osler Diagnostics Ltd</td></tr><tr><td>Ritesh Agarwal</td><td>1993</td><td>Non-Executive Chairman of the Board, Founder</td><td>ORAV.NS</td><td>Oravel Stays Ltd</td></tr><tr><td>Tim Groot</td><td>1993</td><td>Chief Executive Officer, Founder</td><td><div class=\"dni-plaintext\"><pre></pre></div></td><td>IntrosAt Ltd</td></tr><tr><td>Yiduitakuya Iwamoto</td><td>1993</td><td>Chief Executive Officer, Co-Founder, Representative Director</td><td><div class=\"dni-plaintext\"><pre></pre></div></td><td>Polyuse Inc</td></tr><tr><td>Alberto Rizzoli</td><td>1993</td><td>Chief Executive Officer</td><td><div class=\"dni-plaintext\"><pre></pre></div></td><td>V7 Ltd</td></tr><tr><td>Tongda Wu</td><td>1993</td><td>Chief Executive Officer, Co-Founder</td><td><div class=\"dni-plaintext\"><pre></pre></div></td><td>Paifang Technology Tianjin Co Ltd</td></tr><tr><td>Ross Bailey</td><td>1992</td><td>Chief Executive Officer, Founder</td><td><div class=\"dni-plaintext\"><pre></pre></div></td><td>Appear Here Ltd</td></tr><tr><td>Ed Leon Klinger</td><td>1992</td><td>Chief Executive Officer</td><td><div class=\"dni-plaintext\"><pre></pre></div></td><td>Flock Ltd</td></tr><tr><td>Snigdha Mothukuri</td><td>1992</td><td>Chief Executive Officer, Executive Director</td><td>JEEV.BO</td><td>Jeevan Scientific Technology Ltd</td></tr></tbody></table><style>\r\n",
       ".dni-code-hint {\r\n",
       "    font-style: italic;\r\n",
       "    overflow: hidden;\r\n",
       "    white-space: nowrap;\r\n",
       "}\r\n",
       ".dni-treeview {\r\n",
       "    white-space: nowrap;\r\n",
       "}\r\n",
       ".dni-treeview td {\r\n",
       "    vertical-align: top;\r\n",
       "    text-align: start;\r\n",
       "}\r\n",
       "details.dni-treeview {\r\n",
       "    padding-left: 1em;\r\n",
       "}\r\n",
       "table td {\r\n",
       "    text-align: start;\r\n",
       "}\r\n",
       "table tr { \r\n",
       "    vertical-align: top; \r\n",
       "    margin: 0em 0px;\r\n",
       "}\r\n",
       "table tr td pre \r\n",
       "{ \r\n",
       "    vertical-align: top !important; \r\n",
       "    margin: 0em 0px !important;\r\n",
       "} \r\n",
       "table th {\r\n",
       "    text-align: start;\r\n",
       "}\r\n",
       "</style>"
      ]
     },
     "execution_count": 7,
     "metadata": {},
     "output_type": "execute_result"
    }
   ],
   "source": [
    "var filter = \"OfficerDirector(RoleTitleCode eq 'CEO' and RoleStatus eq 'Active')\";\n",
    "var select = \"FullName, YearOfBirth, DTCharacteristics, PrimaryOfficerDirectorRIC, PrimaryOfficerDirector\";\n",
    "\n",
    "response = Search.Definition(Search.View.People).Filter(filter)\n",
    "                                                .OrderBy(\"YearOfBirth desc, LastName, FirstName\")\n",
    "                                                .Select(select)\n",
    "                                                .GetData();\n",
    "response.Data.Table"
   ]
  },
  {
   "cell_type": "markdown",
   "metadata": {},
   "source": [
    "Instead of sorting by the year of birth, let's organize the output so the company is grouped.\n",
    "\n",
    "**Note**: While we can see the company's grouped, we can also observe the many of the entries do not have a year of birth recorded."
   ]
  },
  {
   "cell_type": "code",
   "execution_count": 8,
   "metadata": {},
   "outputs": [
    {
     "data": {
      "text/html": [
       "<table><thead><th>FullName</th><th>YearOfBirth</th><th>DTCharacteristics</th><th>PrimaryOfficerDirectorRIC</th><th>PrimaryOfficerDirector</th></thead><tbody><tr><td>Satya Nadella</td><td><div class=\"dni-plaintext\"><pre></pre></div></td><td>Chairman of the Board, Chief Executive Officer</td><td>MSFT.O</td><td>Microsoft Corp</td></tr><tr><td>Tim D. Cook</td><td><div class=\"dni-plaintext\"><pre></pre></div></td><td>Chief Executive Officer, Director</td><td>AAPL.O</td><td>Apple Inc</td></tr><tr><td>Andrew R. Jassy</td><td><div class=\"dni-plaintext\"><pre></pre></div></td><td>President, Chief Executive Officer, Director</td><td>AMZN.O</td><td>Amazon.com Inc</td></tr><tr><td>Sundar Pichai</td><td>1972</td><td>Chief Executive Officer, Director</td><td>GOOGL.O</td><td>Alphabet Inc</td></tr><tr><td>R. Martin Chavez</td><td><div class=\"dni-plaintext\"><pre></pre></div></td><td>Director</td><td>GOOGL.O</td><td>Alphabet Inc</td></tr><tr><td>Mark Zuckerberg</td><td><div class=\"dni-plaintext\"><pre></pre></div></td><td>Chairman of the Board, Chief Executive Officer, Founder</td><td>META.O</td><td>Meta Platforms Inc</td></tr><tr><td>Warren E. Buffett</td><td>1930</td><td>Chairman of the Board, Chief Executive Officer</td><td>BRKa</td><td>Berkshire Hathaway Inc</td></tr><tr><td>Daniel Zhang</td><td>1972</td><td>Chairman of the Board, Chief Executive Officer</td><td>BABA.K</td><td>Alibaba Group Holding Ltd</td></tr><tr><td>Huateng Ma</td><td><div class=\"dni-plaintext\"><pre></pre></div></td><td>Executive Chairman of the Board, Chief Executive Officer</td><td>0700.HK</td><td>Tencent Holdings Ltd</td></tr><tr><td>Ryan McInerney</td><td><div class=\"dni-plaintext\"><pre></pre></div></td><td>Chief Executive Officer, Director</td><td>V</td><td>Visa Inc</td></tr><tr><td>Joaquin Boix Duato</td><td><div class=\"dni-plaintext\"><pre></pre></div></td><td>Chairman of the Board, Chief Executive Officer</td><td>JNJ</td><td>Johnson &amp; Johnson</td></tr><tr><td>A. Eugene Washington</td><td><div class=\"dni-plaintext\"><pre></pre></div></td><td>Independent Director</td><td>JNJ</td><td>Johnson &amp; Johnson</td></tr><tr><td>Jamie L. Dimon</td><td><div class=\"dni-plaintext\"><pre></pre></div></td><td>Chairman of the Board, Chief Executive Officer</td><td>JPM</td><td>JPMorgan Chase &amp; Co</td></tr><tr><td>Daniel E. Pinto</td><td><div class=\"dni-plaintext\"><pre></pre></div></td><td>President, Chief Operating Officer</td><td>JPM</td><td>JPMorgan Chase &amp; Co</td></tr><tr><td>Mark Mark Schneider</td><td>1965</td><td>Chief Executive Officer, Executive Director, Member of the Executive Board</td><td>NESN.S</td><td>Nestle SA</td></tr><tr><td>Laurent Freixe</td><td>1962</td><td>Member of the Executive Board, Executive Vice President, Chief Executive Officer Zone LATAM</td><td>NESN.S</td><td>Nestle SA</td></tr><tr><td>Doug McMillon</td><td><div class=\"dni-plaintext\"><pre></pre></div></td><td>President, Chief Executive Officer, Director</td><td>WMT</td><td>Walmart Inc</td></tr><tr><td>Tom W. Horton</td><td><div class=\"dni-plaintext\"><pre></pre></div></td><td>Lead Independent Director</td><td>WMT</td><td>Walmart Inc</td></tr><tr><td>Jon R. Moeller</td><td><div class=\"dni-plaintext\"><pre></pre></div></td><td>Chairman of the Board, President, Chief Executive Officer</td><td>PG</td><td>Procter &amp; Gamble Co</td></tr><tr><td>Pat A. Woertz</td><td>1953</td><td>Independent Director</td><td>PG</td><td>Procter &amp; Gamble Co</td></tr></tbody></table><style>\r\n",
       ".dni-code-hint {\r\n",
       "    font-style: italic;\r\n",
       "    overflow: hidden;\r\n",
       "    white-space: nowrap;\r\n",
       "}\r\n",
       ".dni-treeview {\r\n",
       "    white-space: nowrap;\r\n",
       "}\r\n",
       ".dni-treeview td {\r\n",
       "    vertical-align: top;\r\n",
       "    text-align: start;\r\n",
       "}\r\n",
       "details.dni-treeview {\r\n",
       "    padding-left: 1em;\r\n",
       "}\r\n",
       "table td {\r\n",
       "    text-align: start;\r\n",
       "}\r\n",
       "table tr { \r\n",
       "    vertical-align: top; \r\n",
       "    margin: 0em 0px;\r\n",
       "}\r\n",
       "table tr td pre \r\n",
       "{ \r\n",
       "    vertical-align: top !important; \r\n",
       "    margin: 0em 0px !important;\r\n",
       "} \r\n",
       "table th {\r\n",
       "    text-align: start;\r\n",
       "}\r\n",
       "</style>"
      ]
     },
     "execution_count": 8,
     "metadata": {},
     "output_type": "execute_result"
    }
   ],
   "source": [
    "filter = \"OfficerDirector(RoleTitleCode eq 'CEO' and RoleStatus eq 'Active')\";\n",
    "select = \"FullName, YearOfBirth, DTCharacteristics, PrimaryOfficerDirectorRIC, PrimaryOfficerDirector\";\n",
    "\n",
    "response = Search.Definition(Search.View.People).Filter(filter)\n",
    "                                                .GroupBy(\"PrimaryOfficerDirector\")\n",
    "                                                .Top(20)\n",
    "                                                .Select(select)\n",
    "                                                .GetData();\n",
    "response.Data.Table"
   ]
  },
  {
   "cell_type": "markdown",
   "metadata": {},
   "source": [
    "#### Example - Sorting using Navigators\n",
    "By default, when you use a navigator against a property, it will sort all results based on the number of matches for each value within a bucket.  For example, if I were to list the top 10 exchanges within Canada, we can see the count value ranked, indicating the number instruments matched on that exchange."
   ]
  },
  {
   "cell_type": "code",
   "execution_count": 9,
   "metadata": {},
   "outputs": [
    {
     "name": "stdout",
     "output_type": "stream",
     "text": [
      "[\n",
      "  {\n",
      "    \"Label\": \"Montreal Options Exchange\",\n",
      "    \"Count\": 93904\n",
      "  },\n",
      "  {\n",
      "    \"Label\": \"Montreal Exchange\",\n",
      "    \"Count\": 32916\n",
      "  },\n",
      "  {\n",
      "    \"Label\": \"The Toronto Stock Exchange\",\n",
      "    \"Count\": 11709\n",
      "  },\n",
      "  {\n",
      "    \"Label\": \"Refinitiv\",\n",
      "    \"Count\": 10759\n",
      "  },\n",
      "  {\n",
      "    \"Label\": \"Nasdaq CXC\",\n",
      "    \"Count\": 10612\n",
      "  },\n",
      "  {\n",
      "    \"Label\": \"Canadian Composite Quote/Trade\",\n",
      "    \"Count\": 8671\n",
      "  },\n",
      "  {\n",
      "    \"Label\": \"Canadian Securities Exchange/PURE - CSE Listed & Other Canadian Listed Securities\",\n",
      "    \"Count\": 8652\n",
      "  },\n",
      "  {\n",
      "    \"Label\": \"Tradelogiq Omega ATS\",\n",
      "    \"Count\": 7915\n",
      "  },\n",
      "  {\n",
      "    \"Label\": \"Alpha - Canadian ATS\",\n",
      "    \"Count\": 7572\n",
      "  },\n",
      "  {\n",
      "    \"Label\": \"TSX Venture Exchange (former Canadian Ventures Exchange)\",\n",
      "    \"Count\": 7335\n",
      "  }\n",
      "]\n"
     ]
    }
   ],
   "source": [
    "response = Search.Definition(Search.View.EquityQuotes).Filter(\"RCSExchangeCountryLeaf eq 'Canada'\")\n",
    "                                                      .Top(0)\n",
    "                                                      .Navigators(\"ExchangeName(buckets:10)\")\n",
    "                                                      .GetData();\n",
    "Console.WriteLine(response.Data.Navigators[\"ExchangeName\"][\"Buckets\"]);"
   ]
  },
  {
   "cell_type": "markdown",
   "metadata": {},
   "source": [
    "Using the above example, I can instead choose to sort based on the average daily volume within the exchange.  The following search will result in the top 5 Canadian exchanges, ranked based on the 90 day average volume:"
   ]
  },
  {
   "cell_type": "code",
   "execution_count": 10,
   "metadata": {},
   "outputs": [],
   "source": [
    "response = Search.Definition(Search.View.EquityQuotes).Filter(\"RCSExchangeCountryLeaf eq 'Canada'\")\n",
    "                                                      .Top(0)\n",
    "                                                      .Navigators(\"ExchangeName(buckets:5, desc:sum_AvgVol90D)\")\n",
    "                                                      .GetData();"
   ]
  },
  {
   "cell_type": "code",
   "execution_count": 11,
   "metadata": {},
   "outputs": [
    {
     "data": {
      "text/html": [
       "<table><thead><th>Exchange</th><th>Average 90-day Volume</th></thead><tbody><tr><td>Canadian Composite Quote/Trade</td><td>1,785,367,447</td></tr><tr><td>The Toronto Stock Exchange</td><td>1,071,986,564</td></tr><tr><td>TSX Venture Exchange (former Canadian Ventures Exchange)</td><td>362,989,556</td></tr><tr><td>Canadian Securities Exchange - CSE Listed</td><td>102,126,774</td></tr><tr><td>Canadian Securities Exchange/PURE - CSE Listed &amp; Other Canadian Listed Securities</td><td>43,979,250</td></tr></tbody></table>"
      ]
     },
     "execution_count": 11,
     "metadata": {},
     "output_type": "execute_result"
    }
   ],
   "source": [
    "// Pretty display of the listing\n",
    "var writer = new System.IO.StringWriter();\n",
    "var headers = new List<IHtmlContent> {th(\"Exchange\"), th(\"Average 90-day Volume\")};\n",
    "var rows = new List<IList<IHtmlContent>>();\n",
    "        \n",
    "foreach (var entry in response.Data.Navigators[\"ExchangeName\"][\"Buckets\"])\n",
    "{\n",
    "    var vol = entry[\"sum_AvgVol90D\"].ToObject<long>();\n",
    "    var cells = new List<IHtmlContent> {td(entry[\"Label\"].ToString()), td($\"{vol:n0}\")};\n",
    "    rows.Add(cells);\n",
    "}\n",
    "var t = table(thead(headers), tbody(rows.Select(r => tr(r))));\n",
    "t"
   ]
  },
  {
   "cell_type": "code",
   "execution_count": null,
   "metadata": {},
   "outputs": [],
   "source": []
  }
 ],
 "metadata": {
  "kernelspec": {
   "display_name": ".NET (C#)",
   "language": "C#",
   "name": ".net-csharp"
  },
  "language_info": {
   "file_extension": ".cs",
   "mimetype": "text/x-csharp",
   "name": "C#",
   "pygments_lexer": "csharp",
   "version": "11.0"
  }
 },
 "nbformat": 4,
 "nbformat_minor": 4
}
