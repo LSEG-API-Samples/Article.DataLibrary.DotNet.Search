{
 "cells": [
  {
   "cell_type": "markdown",
   "metadata": {},
   "source": [
    "## Sorting and Grouping\n",
    "The Search service offers the ability to organize your result set in different ways.  Whether you choose to sort based on a specific property, group properties or boost the result set, you have the option to override the default ordering returned. In addition, you can also use navigation to organize your buckets of data returned.\n",
    "\n",
    "By default, the result set will provide some basic ranking, depending on the type of query or filter performed.  "
   ]
  },
  {
   "cell_type": "markdown",
   "metadata": {},
   "source": [
    "#### NuGet Packages"
   ]
  },
  {
   "cell_type": "code",
   "execution_count": 1,
   "metadata": {},
   "outputs": [
    {
     "data": {
      "text/html": [
       "\r\n",
       "<div>\r\n",
       "    <div id='dotnet-interactive-this-cell-12712.Microsoft.DotNet.Interactive.Http.HttpPort' style='display: none'>\r\n",
       "        The below script needs to be able to find the current output cell; this is an easy method to get it.\r\n",
       "    </div>\r\n",
       "    <script type='text/javascript'>\r\n",
       "async function probeAddresses(probingAddresses) {\r\n",
       "    function timeout(ms, promise) {\r\n",
       "        return new Promise(function (resolve, reject) {\r\n",
       "            setTimeout(function () {\r\n",
       "                reject(new Error('timeout'))\r\n",
       "            }, ms)\r\n",
       "            promise.then(resolve, reject)\r\n",
       "        })\r\n",
       "    }\r\n",
       "\r\n",
       "    if (Array.isArray(probingAddresses)) {\r\n",
       "        for (let i = 0; i < probingAddresses.length; i++) {\r\n",
       "\r\n",
       "            let rootUrl = probingAddresses[i];\r\n",
       "\r\n",
       "            if (!rootUrl.endsWith('/')) {\r\n",
       "                rootUrl = `${rootUrl}/`;\r\n",
       "            }\r\n",
       "\r\n",
       "            try {\r\n",
       "                let response = await timeout(1000, fetch(`${rootUrl}discovery`, {\r\n",
       "                    method: 'POST',\r\n",
       "                    cache: 'no-cache',\r\n",
       "                    mode: 'cors',\r\n",
       "                    timeout: 1000,\r\n",
       "                    headers: {\r\n",
       "                        'Content-Type': 'text/plain'\r\n",
       "                    },\r\n",
       "                    body: probingAddresses[i]\r\n",
       "                }));\r\n",
       "\r\n",
       "                if (response.status == 200) {\r\n",
       "                    return rootUrl;\r\n",
       "                }\r\n",
       "            }\r\n",
       "            catch (e) { }\r\n",
       "        }\r\n",
       "    }\r\n",
       "}\r\n",
       "\r\n",
       "function loadDotnetInteractiveApi() {\r\n",
       "    probeAddresses([\"http://192.168.0.35:1020/\", \"http://127.0.0.1:1020/\"])\r\n",
       "        .then((root) => {\r\n",
       "        // use probing to find host url and api resources\r\n",
       "        // load interactive helpers and language services\r\n",
       "        let dotnetInteractiveRequire = require.config({\r\n",
       "        context: '12712.Microsoft.DotNet.Interactive.Http.HttpPort',\r\n",
       "                paths:\r\n",
       "            {\r\n",
       "                'dotnet-interactive': `${root}resources`\r\n",
       "                }\r\n",
       "        }) || require;\r\n",
       "\r\n",
       "            window.dotnetInteractiveRequire = dotnetInteractiveRequire;\r\n",
       "\r\n",
       "            window.configureRequireFromExtension = function(extensionName, extensionCacheBuster) {\r\n",
       "                let paths = {};\r\n",
       "                paths[extensionName] = `${root}extensions/${extensionName}/resources/`;\r\n",
       "                \r\n",
       "                let internalRequire = require.config({\r\n",
       "                    context: extensionCacheBuster,\r\n",
       "                    paths: paths,\r\n",
       "                    urlArgs: `cacheBuster=${extensionCacheBuster}`\r\n",
       "                    }) || require;\r\n",
       "\r\n",
       "                return internalRequire\r\n",
       "            };\r\n",
       "        \r\n",
       "            dotnetInteractiveRequire([\r\n",
       "                    'dotnet-interactive/dotnet-interactive'\r\n",
       "                ],\r\n",
       "                function (dotnet) {\r\n",
       "                    dotnet.init(window);\r\n",
       "                },\r\n",
       "                function (error) {\r\n",
       "                    console.log(error);\r\n",
       "                }\r\n",
       "            );\r\n",
       "        })\r\n",
       "        .catch(error => {console.log(error);});\r\n",
       "    }\r\n",
       "\r\n",
       "// ensure `require` is available globally\r\n",
       "if ((typeof(require) !==  typeof(Function)) || (typeof(require.config) !== typeof(Function))) {\r\n",
       "    let require_script = document.createElement('script');\r\n",
       "    require_script.setAttribute('src', 'https://cdnjs.cloudflare.com/ajax/libs/require.js/2.3.6/require.min.js');\r\n",
       "    require_script.setAttribute('type', 'text/javascript');\r\n",
       "    \r\n",
       "    \r\n",
       "    require_script.onload = function() {\r\n",
       "        loadDotnetInteractiveApi();\r\n",
       "    };\r\n",
       "\r\n",
       "    document.getElementsByTagName('head')[0].appendChild(require_script);\r\n",
       "}\r\n",
       "else {\r\n",
       "    loadDotnetInteractiveApi();\r\n",
       "}\r\n",
       "\r\n",
       "    </script>\r\n",
       "</div>"
      ]
     },
     "metadata": {},
     "output_type": "display_data"
    },
    {
     "data": {
      "text/plain": [
       "Installed package Refinitiv.DataPlatform.Content version 1.0.0-alpha3"
      ]
     },
     "metadata": {},
     "output_type": "display_data"
    },
    {
     "data": {
      "text/plain": [
       "Installed package Microsoft.Data.Analysis version 0.4.0"
      ]
     },
     "metadata": {},
     "output_type": "display_data"
    }
   ],
   "source": [
    "#r \"nuget:Refinitiv.DataPlatform.Content, 1.0.0-alpha3\"\n",
    "#r \"nuget:Microsoft.Data.Analysis\""
   ]
  },
  {
   "cell_type": "code",
   "execution_count": 2,
   "metadata": {},
   "outputs": [],
   "source": [
    "using Newtonsoft.Json.Linq;\n",
    "using Refinitiv.DataPlatform.Content.SearchService;\n",
    "using Refinitiv.DataPlatform.Core;\n",
    "using Microsoft.Data.Analysis;\n",
    "using Microsoft.AspNetCore.Html;\n",
    "using System.Linq;\n",
    "using System;"
   ]
  },
  {
   "cell_type": "markdown",
   "metadata": {},
   "source": [
    "#### Table Output\n",
    "Helper routine to output data in a table format."
   ]
  },
  {
   "cell_type": "code",
   "execution_count": 3,
   "metadata": {},
   "outputs": [],
   "source": [
    "Formatter.Register<IList<JObject>>((hits, writer) =>\n",
    "{\n",
    "    if (hits.Count > 0)\n",
    "    {\n",
    "        var fields = new List<String>();\n",
    "        var rows = new List<ICollection<IHtmlContent>>();\n",
    "        var data = new Dictionary<string, IHtmlContent>();\n",
    "\n",
    "        foreach(var hit in hits)\n",
    "        {\n",
    "            var cells = new List<IHtmlContent>();\n",
    "            foreach (var val in hit.Properties())\n",
    "            {\n",
    "                if ( !fields.Any(item => item.Equals(val.Name)) )\n",
    "                    fields.Add(val.Name);\n",
    "                data[val.Name] = td(val.Value.ToString());\n",
    "            }\n",
    "            rows.Add(new List<IHtmlContent>(data.Values));\n",
    "            data.Keys.ToList().ForEach(x => data[x] = td(\"\"));\n",
    "        }\n",
    "        \n",
    "        var headers = new List<IHtmlContent>();\n",
    "        headers.AddRange(fields.Select(c => (IHtmlContent)th(c)));\n",
    "\n",
    "        var t = table(thead(headers), tbody(rows.Select(r => tr(r))));\n",
    "        writer.Write(t);\n",
    "    }\n",
    "}, \"text/html\");"
   ]
  },
  {
   "cell_type": "code",
   "execution_count": 4,
   "metadata": {},
   "outputs": [
    {
     "name": "stdout",
     "output_type": "stream",
     "text": [
      "17/12/2020 12:35:04 PM:Session is Pending. (State: Pending)\n",
      "17/12/2020 12:35:04 PM:{\n",
      "  \"Contents\": \"Desktop Session Successfully Authenticated\"\n",
      "}. (Event: SessionAuthenticationSuccess)\n",
      "17/12/2020 12:35:04 PM:Session is Opened. (State: Opened)\n"
     ]
    }
   ],
   "source": [
    "// Create a session into the desktop\n",
    "var session = CoreFactory.CreateSession(new DesktopSession.Params()\n",
    "                            .AppKey(\"Your API Key here\")\n",
    "                            .OnState((s, state, msg) => Console.WriteLine($\"{DateTime.Now}:{msg}. (State: {state})\"))\n",
    "                            .OnEvent((s, eventCode, msg) => Console.WriteLine($\"{DateTime.Now}:{msg}. (Event: {eventCode})\")));\n",
    "session.Open();"
   ]
  },
  {
   "cell_type": "markdown",
   "metadata": {},
   "source": [
    "#### Example - Default ranking and how to boost results\n",
    "To demonstrate default sorting, I'm going to search for documents that match a specific ticker. This will result in the documents ranked based on the relevancy and scores assigned to each document.\n",
    "\n",
    "Search for Vodafone (VOD) against the ticker:"
   ]
  },
  {
   "cell_type": "code",
   "execution_count": 5,
   "metadata": {},
   "outputs": [
    {
     "data": {
      "text/html": [
       "<table><thead><th>BusinessEntity</th><th>DocumentTitle</th><th>PermID</th><th>PI</th><th>RIC</th><th>RCSExchangeCountryLeaf</th></thead><tbody><tr><td>QUOTExEQUITY</td><td>Vodafone Group PLC, Ordinary Share, London Stock Exchange</td><td>55836053361</td><td>1049261</td><td>VOD.L</td><td>United Kingdom</td></tr><tr><td>QUOTExEQUITY</td><td>Vodacom Group Ltd, Ordinary Share, Johannesburg Stock Exchange</td><td>55849756323</td><td>59938825</td><td>VODJ.J</td><td>South Africa</td></tr><tr><td>QUOTExEQUITY</td><td>Johannesburg Stock Exchange Vodacom Group Limited Cash Settled SSF Equity Future Continuation 1, Equity Future, ZAR, Johannesburg Stock Exchange</td><td>21508525903</td><td>113268320</td><td>VODSc1</td><td>South Africa</td></tr><tr><td>QUOTExEQUITY</td><td>Johannesburg Stock Exchange Vodacom Group CFD Equity Future Continuation 1, Equity Future, ZAR, Johannesburg Stock Exchange</td><td>21600821292</td><td>244233208</td><td>VODCFDc1</td><td>South Africa</td></tr><tr><td>QUOTExEQUITY</td><td>Johannesburg Stock Exchange Can Do VODX Vodacom Equity Future Continuation 1, Equity Future, ZAR, Johannesburg Stock Exchange</td><td>21534036541</td><td>148452798</td><td>VODXFLc1</td><td>South Africa</td></tr><tr><td>QUOTExEQUITY</td><td>Johannesburg Stock Exchange Vodacom Group Limited Cash Settled CFD Sabor Equity Future Continuation 1, Equity Future, ZAR, Johannesburg Stock Exchange</td><td>21693141305</td><td>363600087</td><td>VODSCFDc1</td><td>South Africa</td></tr><tr><td>QUOTExEQUITY</td><td>Johannesburg Stock Exchange Vodacom Group Ltd SSF Cash Settled Dividend Neutral Equity Future Continuation 1, Equity Future, ZAR, Johannesburg Stock Exchange</td><td>21707726176</td><td>381845837</td><td>VODTc1</td><td>South Africa</td></tr><tr><td>QUOTExEQUITY</td><td>Johannesburg Stock Exchange Vodafone Group PLC Dividend Neutral Equity Future Continuation 1, Equity Future, ZAR, Johannesburg Stock Exchange</td><td>21481060885</td><td>53826719</td><td>VODDc1</td><td>South Africa</td></tr><tr><td>QUOTExEQUITY</td><td>Johannesburg Stock Exchange Vodafone Group PLC IDX Equity Future Continuation 1, Equity Future, ZAR, Johannesburg Stock Exchange</td><td>21481060918</td><td>53826752</td><td>VODGc1</td><td>South Africa</td></tr><tr><td>QUOTExEQUITY</td><td>Johannesburg Stock Exchange Vodacom Group SSF Equity Future Continuation 1, Equity Future, ZAR, Johannesburg Stock Exchange</td><td>21481084690</td><td>60188651</td><td>VODQc1</td><td>South Africa</td></tr></tbody></table>"
      ]
     },
     "execution_count": 5,
     "metadata": {},
     "output_type": "execute_result"
    }
   ],
   "source": [
    "var response = Search.Definition(Search.View.SearchAll).Filter(\"TickerSymbol eq 'VOD'\")\n",
    "                                                       .Select(\"_, RCSExchangeCountryLeaf\")\n",
    "                                                       .GetData();\n",
    "response.Data.Hits"
   ]
  },
  {
   "cell_type": "markdown",
   "metadata": {},
   "source": [
    "The above output ranked the common share 'VOD.L', listed within the UK, at the top.  This is largely due to the fact that 'VOD.L' is the most significant or liquid asset in the list.  However, if I decide to override this default ranking by specifying that I want to show the listed documents within the Unitied States at the top, I can do this \n",
    "by applying a *Boost* parameter."
   ]
  },
  {
   "cell_type": "code",
   "execution_count": 6,
   "metadata": {},
   "outputs": [
    {
     "data": {
      "text/html": [
       "<table><thead><th>BusinessEntity</th><th>DocumentTitle</th><th>PermID</th><th>PI</th><th>RIC</th><th>RCSExchangeCountryLeaf</th></thead><tbody><tr><td>QUOTExEQUITY</td><td>Vodafone Group PLC, Depository Receipt, NASDAQ Global Select Consolidated</td><td>55839401038</td><td>726233</td><td>VOD.O</td><td>United States</td></tr><tr><td>QUOTExEQUITY</td><td>Vodafone Group PLC, Depository Receipt, NASDAQ Stock Exchange Global Select Market</td><td>55835364259</td><td>1092283</td><td>VOD.OQ</td><td>United States</td></tr><tr><td>QUOTExEQUITY</td><td>Vodafone Group PLC, Depository Receipt, Cboe EDGX Exchange - Nasdaq Global Select Market</td><td>21475045362</td><td>73238578</td><td>VOD.DG</td><td>United States</td></tr><tr><td>QUOTExEQUITY</td><td>Vodafone Group PLC, Depository Receipt, Cboe BZX Exchange - Nasdaq Global Select Market</td><td>55845638958</td><td>53705532</td><td>VOD.Z</td><td>United States</td></tr><tr><td>QUOTExEQUITY</td><td>Vodafone Group PLC, Depository Receipt, Boston SE when trading NASDAQ Global Select Market</td><td>55846134804</td><td>55957391</td><td>VOD.B</td><td>United States</td></tr><tr><td>QUOTExEQUITY</td><td>Vodafone Group PLC, Depository Receipt, NYSE Arca when trading NASDAQ Global Select Market</td><td>55837254988</td><td>754172</td><td>VOD.P</td><td>United States</td></tr><tr><td>QUOTExEQUITY</td><td>Vodafone Group PLC, Depository Receipt, Cboe BYX Exchange - Nasdaq Global Select Market</td><td>21475122433</td><td>76383634</td><td>VOD.ZY</td><td>United States</td></tr><tr><td>QUOTExEQUITY</td><td>Vodafone Group PLC, Depository Receipt, Cboe EDGA Exchange - Nasdaq Global Select Market</td><td>21475045135</td><td>73240457</td><td>VOD.DY</td><td>United States</td></tr><tr><td>QUOTExEQUITY</td><td>Vodafone Group PLC, Depository Receipt, NASDAQ OMX PHLX Global Select Market</td><td>21475115114</td><td>76271998</td><td>VOD.PH</td><td>United States</td></tr><tr><td>QUOTExEQUITY</td><td>Vodafone Group PLC, Depository Receipt, NYSE National Exchange when trading Nasdaq Global Select Market</td><td>55838271132</td><td>735992</td><td>VOD.C</td><td>United States</td></tr></tbody></table>"
      ]
     },
     "execution_count": 6,
     "metadata": {},
     "output_type": "execute_result"
    }
   ],
   "source": [
    "response = Search.Definition(Search.View.SearchAll).Filter(\"TickerSymbol eq 'VOD'\")\n",
    "                                                   .Boost(\"RCSExchangeCountryLeaf eq 'United States'\")\n",
    "                                                   .Select(\"_, RCSExchangeCountryLeaf\")\n",
    "                                                   .GetData();\n",
    "response.Data.Hits"
   ]
  },
  {
   "cell_type": "markdown",
   "metadata": {},
   "source": [
    "#### Example - List the youngest CEO's.\n",
    "The order_by parameters will sort, ascending (default) or descending, based on the birth year property.\n",
    "\n",
    "Note: In the following example, not every document that identifies a CEO will have a reported birth year. Because we are sorting based on the year they were born, \n",
    "all CEO's where the year of birth is not recorded will be bumped to the bottom of the list."
   ]
  },
  {
   "cell_type": "code",
   "execution_count": 7,
   "metadata": {},
   "outputs": [
    {
     "data": {
      "text/html": [
       "<table><thead><th>FullName</th><th>YearOfBirth</th><th>DTCharacteristics</th><th>PrimaryOfficerDirectorRIC</th><th>PrimaryOfficerDirector</th></thead><tbody><tr><td>Grigory Sergeevich Sandulov</td><td>1991</td><td>General Director (CEO), Director</td><td>OMRPI.RTS</td><td>Omskiy Rechnoy Port AO</td></tr><tr><td>Yehonatan Shachar</td><td>1991</td><td>Chief Executive Officer</td><td>CHR.TA</td><td>Chiron Refineries Ltd</td></tr><tr><td>Myeong Jin Chae</td><td>1990</td><td>Chief Executive Officer, Director</td><td>058220.KQ</td><td>Arion Technology Inc</td></tr><tr><td>Pedro de Godoy Bueno</td><td>1990</td><td>Chief Executive Officer, Director</td><td>DASA3.SA</td><td>Diagnosticos da America SA</td></tr><tr><td>Hikaru Ohno</td><td>1990</td><td>President, Chief Executive Officer, Representative Director</td><td>4493.T</td><td>Cyber Security Cloud Inc</td></tr><tr><td>Vinit Agrawal</td><td>1989</td><td>Chief Executive Officer</td><td>LIBD.BO</td><td>Libord Securities Ltd</td></tr><tr><td>Erik Gatenholm</td><td>1989</td><td>Chief Executive Officer, Director</td><td>CLNKb.ST</td><td>Cellink AB</td></tr><tr><td>Yasuyuki Kawabata</td><td>1989</td><td>Chief Executive Officer, Representative Director</td><td>7352.T</td><td>Branding Engineer Co Ltd</td></tr><tr><td>Jack O.A. Lundin</td><td>1989</td><td>Chief Executive Officer, Director</td><td>BSR.V</td><td>Bluestone Resources Inc</td></tr><tr><td>Nobuhiro Moriyoshi</td><td>1989</td><td>Chief Executive Officer, Representative Director</td><td>3989.T</td><td>Sharingtechnology Inc</td></tr></tbody></table>"
      ]
     },
     "execution_count": 7,
     "metadata": {},
     "output_type": "execute_result"
    }
   ],
   "source": [
    "var filter = \"OfficerDirector(RoleTitleCode eq 'CEO' and RoleStatus eq 'Active')\";\n",
    "var select = \"FullName, YearOfBirth, DTCharacteristics, PrimaryOfficerDirectorRIC, PrimaryOfficerDirector\";\n",
    "\n",
    "response = Search.Definition(Search.View.People).Filter(filter)\n",
    "                                                .OrderBy(\"YearOfBirth desc, LastName, FirstName\")\n",
    "                                                .Select(select)\n",
    "                                                .GetData();\n",
    "response.Data.Hits"
   ]
  },
  {
   "cell_type": "markdown",
   "metadata": {},
   "source": [
    "Instead of sorting by the year of birth, let's organize the output so the company is grouped.\n",
    "\n",
    "**Note**: While we can see the company's grouped, we can also observe the many of the entries do not have a year of birth recorded."
   ]
  },
  {
   "cell_type": "code",
   "execution_count": 8,
   "metadata": {},
   "outputs": [
    {
     "data": {
      "text/html": [
       "<table><thead><th>FullName</th><th>DTCharacteristics</th><th>PrimaryOfficerDirectorRIC</th><th>PrimaryOfficerDirector</th><th>YearOfBirth</th></thead><tbody><tr><td>John Wendell Thompson</td><td>Independent Non-Executive Chairman of the Board</td><td>MSFT.O</td><td>Microsoft Corp</td></tr><tr><td>Satya Nadella</td><td>Chief Executive Officer, Director</td><td>MSFT.O</td><td>Microsoft Corp</td></tr><tr><td>Art D. Levinson</td><td>Independent Chairman of the Board</td><td>AAPL.O</td><td>Apple Inc</td><td>1950</td></tr><tr><td>Tim D. Cook</td><td>Chief Executive Officer, Director</td><td>AAPL.O</td><td>Apple Inc</td><td></td></tr><tr><td>Jeff P. Bezos</td><td>Chairman of the Board, President, Chief Executive Officer</td><td>AMZN.O</td><td>Amazon.com Inc</td><td></td></tr><tr><td>Keith Brian Alexander</td><td>Director</td><td>AMZN.O</td><td>Amazon.com Inc</td><td></td></tr><tr><td>Jon J. Rubinstein</td><td>Independent Director</td><td>AMZN.O</td><td>Amazon.com Inc</td><td>1957</td></tr><tr><td>Sundar Pichai</td><td>Chief Executive Officer, Director</td><td>GOOGL.O</td><td>Alphabet Inc</td><td>1972</td></tr><tr><td>Roger W. Ferguson</td><td>Independent Director</td><td>GOOGL.O</td><td>Alphabet Inc</td><td></td></tr><tr><td>Mark Zuckerberg</td><td>Chairman of the Board, Chief Executive Officer, Founder</td><td>FB.O</td><td>Facebook Inc</td><td></td></tr><tr><td>Adam D&#39;Angelo</td><td>Venture Economics Executive</td><td>FB.O</td><td>Facebook Inc</td><td></td></tr><tr><td>Dustin A. Moskovitz</td><td>Venture Economics Executive</td><td>FB.O</td><td>Facebook Inc</td><td></td></tr><tr><td>Warren Edward Buffett</td><td>Chairman of the Board, Chief Executive Officer</td><td>BRKa</td><td>Berkshire Hathaway Inc</td><td>1930</td></tr><tr><td>Gregory E. Abel</td><td>Vice Chairman � Non Insurance Operations, Director</td><td>BRKa</td><td>Berkshire Hathaway Inc</td><td></td></tr><tr><td>Steve B. Burke</td><td>Independent Director</td><td>BRKa</td><td>Berkshire Hathaway Inc</td><td>1959</td></tr><tr><td>Daniel Zhang</td><td>Chairman of the Board, Chief Executive Officer</td><td>BABA.K</td><td>Alibaba Group Holding Ltd</td><td>1972</td></tr><tr><td>Fan Jiang</td><td>President - Taobao and Tmall</td><td>BABA.K</td><td>Alibaba Group Holding Ltd</td><td></td></tr><tr><td>Huateng Ma</td><td>Executive Chairman of the Board, Chief Executive Officer</td><td>0700.HK</td><td>Tencent Holdings Ltd</td><td></td></tr><tr><td>Al Francis Kelly</td><td>Chairman of the Board, Chief Executive Officer</td><td>V</td><td>Visa Inc</td><td></td></tr><tr><td>Alex Gorsky</td><td>Chairman of the Board, Chief Executive Officer</td><td>JNJ</td><td>Johnson &amp; Johnson</td><td></td></tr></tbody></table>"
      ]
     },
     "execution_count": 8,
     "metadata": {},
     "output_type": "execute_result"
    }
   ],
   "source": [
    "filter = \"OfficerDirector(RoleTitleCode eq 'CEO' and RoleStatus eq 'Active')\";\n",
    "select = \"FullName, YearOfBirth, DTCharacteristics, PrimaryOfficerDirectorRIC, PrimaryOfficerDirector\";\n",
    "\n",
    "response = Search.Definition(Search.View.People).Filter(filter)\n",
    "                                                .GroupBy(\"PrimaryOfficerDirector\")\n",
    "                                                .Top(20)\n",
    "                                                .Select(select)\n",
    "                                                .GetData();\n",
    "response.Data.Hits"
   ]
  },
  {
   "cell_type": "markdown",
   "metadata": {},
   "source": [
    "#### Example - Sorting using Navigators\n",
    "By default, when you use a navigator against a property, it will sort all results based on the number of matches for each value within a bucket.  For example, if I were to list the top 10 exchanges within Canada, we can see the count value ranked, indicating the number instruments matched on that exchange."
   ]
  },
  {
   "cell_type": "code",
   "execution_count": 9,
   "metadata": {},
   "outputs": [
    {
     "name": "stdout",
     "output_type": "stream",
     "text": [
      "[\r\n",
      "  {\r\n",
      "    \"Label\": \"Montreal Options Exchange\",\r\n",
      "    \"Count\": 45512\r\n",
      "  },\r\n",
      "  {\r\n",
      "    \"Label\": \"Montreal Exchange\",\r\n",
      "    \"Count\": 25230\r\n",
      "  },\r\n",
      "  {\r\n",
      "    \"Label\": \"The Toronto Stock Exchange\",\r\n",
      "    \"Count\": 11460\r\n",
      "  },\r\n",
      "  {\r\n",
      "    \"Label\": \"Nasdaq CXC\",\r\n",
      "    \"Count\": 9821\r\n",
      "  },\r\n",
      "  {\r\n",
      "    \"Label\": \"Canadian Securities Exchange/PURE - CSE Listed & Other Canadian Listed Securities\",\r\n",
      "    \"Count\": 8100\r\n",
      "  },\r\n",
      "  {\r\n",
      "    \"Label\": \"Canadian Composite Quote/Trade\",\r\n",
      "    \"Count\": 7809\r\n",
      "  },\r\n",
      "  {\r\n",
      "    \"Label\": \"TSX Venture Exchange (former Canadian Ventures Exchange)\",\r\n",
      "    \"Count\": 7103\r\n",
      "  },\r\n",
      "  {\r\n",
      "    \"Label\": \"Alpha - Canadian ATS\",\r\n",
      "    \"Count\": 7020\r\n",
      "  },\r\n",
      "  {\r\n",
      "    \"Label\": \"Omega - Candian ATS\",\r\n",
      "    \"Count\": 7001\r\n",
      "  },\r\n",
      "  {\r\n",
      "    \"Label\": \"Nasdaq CX2\",\r\n",
      "    \"Count\": 6540\r\n",
      "  }\r\n",
      "]\r\n"
     ]
    }
   ],
   "source": [
    "response = Search.Definition(Search.View.EquityQuotes).Filter(\"RCSExchangeCountryLeaf eq 'Canada'\")\n",
    "                                                      .Top(0)\n",
    "                                                      .Navigators(\"ExchangeName(buckets:10)\")\n",
    "                                                      .GetData();\n",
    "Console.WriteLine(response.Data.Navigators[\"ExchangeName\"][\"Buckets\"]);"
   ]
  },
  {
   "cell_type": "markdown",
   "metadata": {},
   "source": [
    "Using the above example, I can instead choose to sort based on the average daily volume within the exchange.  The following search will result in the top 5 Canadian exchanges, ranked based on the 90 day average volume:"
   ]
  },
  {
   "cell_type": "code",
   "execution_count": 10,
   "metadata": {},
   "outputs": [],
   "source": [
    "response = Search.Definition(Search.View.EquityQuotes).Filter(\"RCSExchangeCountryLeaf eq 'Canada'\")\n",
    "                                                      .Top(0)\n",
    "                                                      .Navigators(\"ExchangeName(buckets:5, desc:sum_AvgVol90D)\")\n",
    "                                                      .GetData();"
   ]
  },
  {
   "cell_type": "code",
   "execution_count": 33,
   "metadata": {},
   "outputs": [
    {
     "data": {
      "text/html": [
       "<table><thead><th>Exchange</th><th>Average 90-day Volume</th></thead><tbody><tr><td>Canadian Composite Quote/Trade</td><td>1,871,211,973</td></tr><tr><td>The Toronto Stock Exchange</td><td>1,048,732,175</td></tr><tr><td>TSX Venture Exchange (former Canadian Ventures Exchange)</td><td>430,539,757</td></tr><tr><td>Canadian Securities Exchange - CSE Listed</td><td>134,195,786</td></tr><tr><td>Canadian Securities Exchange/PURE - CSE Listed &amp; Other Canadian Listed Securities</td><td>50,373,942</td></tr></tbody></table>"
      ]
     },
     "execution_count": 33,
     "metadata": {},
     "output_type": "execute_result"
    }
   ],
   "source": [
    "// Pretty display of the listing\n",
    "var writer = new System.IO.StringWriter();\n",
    "var headers = new List<IHtmlContent> {th(\"Exchange\"), th(\"Average 90-day Volume\")};\n",
    "var rows = new List<IList<IHtmlContent>>();\n",
    "        \n",
    "foreach (var entry in response.Data.Navigators[\"ExchangeName\"][\"Buckets\"])\n",
    "{\n",
    "    var vol = entry[\"sum_AvgVol90D\"].ToObject<long>();\n",
    "    var cells = new List<IHtmlContent> {td(entry[\"Label\"].ToString()), td($\"{vol:n0}\")};\n",
    "    rows.Add(cells);\n",
    "}\n",
    "var t = table(thead(headers), tbody(rows.Select(r => tr(r))));\n",
    "t"
   ]
  },
  {
   "cell_type": "code",
   "execution_count": null,
   "metadata": {},
   "outputs": [],
   "source": []
  }
 ],
 "metadata": {
  "kernelspec": {
   "display_name": ".NET (C#)",
   "language": "C#",
   "name": ".net-csharp"
  },
  "language_info": {
   "file_extension": ".cs",
   "mimetype": "text/x-csharp",
   "name": "C#",
   "pygments_lexer": "csharp",
   "version": "8.0"
  }
 },
 "nbformat": 4,
 "nbformat_minor": 4
}
