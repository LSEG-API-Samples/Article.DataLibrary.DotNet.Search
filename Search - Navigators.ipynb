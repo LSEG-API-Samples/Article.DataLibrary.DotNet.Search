{
 "cells": [
  {
   "cell_type": "markdown",
   "metadata": {},
   "source": [
    "## Navigators\n",
    "Navigators provide the ability to drill into the result set providing a summary of the distribution.  They are particularly useful when you are interested in gathering the domain of values for a particular Property.  Navigators can be used against a specific View, used in conjunction with either a query, a filter or both.  Navigators can be simple or very powerful, but provide a very useful way to capture results in logical buckets. "
   ]
  },
  {
   "cell_type": "markdown",
   "metadata": {},
   "source": [
    "#### NuGet Packages"
   ]
  },
  {
   "cell_type": "code",
   "execution_count": 1,
   "metadata": {},
   "outputs": [
    {
     "data": {
      "text/html": [
       "\r\n",
       "<div>\r\n",
       "    <div id='dotnet-interactive-this-cell-992.Microsoft.DotNet.Interactive.Http.HttpPort' style='display: none'>\r\n",
       "        The below script needs to be able to find the current output cell; this is an easy method to get it.\r\n",
       "    </div>\r\n",
       "    <script type='text/javascript'>\r\n",
       "async function probeAddresses(probingAddresses) {\r\n",
       "    function timeout(ms, promise) {\r\n",
       "        return new Promise(function (resolve, reject) {\r\n",
       "            setTimeout(function () {\r\n",
       "                reject(new Error('timeout'))\r\n",
       "            }, ms)\r\n",
       "            promise.then(resolve, reject)\r\n",
       "        })\r\n",
       "    }\r\n",
       "\r\n",
       "    if (Array.isArray(probingAddresses)) {\r\n",
       "        for (let i = 0; i < probingAddresses.length; i++) {\r\n",
       "\r\n",
       "            let rootUrl = probingAddresses[i];\r\n",
       "\r\n",
       "            if (!rootUrl.endsWith('/')) {\r\n",
       "                rootUrl = `${rootUrl}/`;\r\n",
       "            }\r\n",
       "\r\n",
       "            try {\r\n",
       "                let response = await timeout(1000, fetch(`${rootUrl}discovery`, {\r\n",
       "                    method: 'POST',\r\n",
       "                    cache: 'no-cache',\r\n",
       "                    mode: 'cors',\r\n",
       "                    timeout: 1000,\r\n",
       "                    headers: {\r\n",
       "                        'Content-Type': 'text/plain'\r\n",
       "                    },\r\n",
       "                    body: probingAddresses[i]\r\n",
       "                }));\r\n",
       "\r\n",
       "                if (response.status == 200) {\r\n",
       "                    return rootUrl;\r\n",
       "                }\r\n",
       "            }\r\n",
       "            catch (e) { }\r\n",
       "        }\r\n",
       "    }\r\n",
       "}\r\n",
       "\r\n",
       "function loadDotnetInteractiveApi() {\r\n",
       "    probeAddresses([\"http://192.168.0.6:2051/\", \"http://127.0.0.1:2051/\"])\r\n",
       "        .then((root) => {\r\n",
       "        // use probing to find host url and api resources\r\n",
       "        // load interactive helpers and language services\r\n",
       "        let dotnetInteractiveRequire = require.config({\r\n",
       "        context: '992.Microsoft.DotNet.Interactive.Http.HttpPort',\r\n",
       "                paths:\r\n",
       "            {\r\n",
       "                'dotnet-interactive': `${root}resources`\r\n",
       "                }\r\n",
       "        }) || require;\r\n",
       "\r\n",
       "            window.dotnetInteractiveRequire = dotnetInteractiveRequire;\r\n",
       "\r\n",
       "            window.configureRequireFromExtension = function(extensionName, extensionCacheBuster) {\r\n",
       "                let paths = {};\r\n",
       "                paths[extensionName] = `${root}extensions/${extensionName}/resources/`;\r\n",
       "                \r\n",
       "                let internalRequire = require.config({\r\n",
       "                    context: extensionCacheBuster,\r\n",
       "                    paths: paths,\r\n",
       "                    urlArgs: `cacheBuster=${extensionCacheBuster}`\r\n",
       "                    }) || require;\r\n",
       "\r\n",
       "                return internalRequire\r\n",
       "            };\r\n",
       "        \r\n",
       "            dotnetInteractiveRequire([\r\n",
       "                    'dotnet-interactive/dotnet-interactive'\r\n",
       "                ],\r\n",
       "                function (dotnet) {\r\n",
       "                    dotnet.init(window);\r\n",
       "                },\r\n",
       "                function (error) {\r\n",
       "                    console.log(error);\r\n",
       "                }\r\n",
       "            );\r\n",
       "        })\r\n",
       "        .catch(error => {console.log(error);});\r\n",
       "    }\r\n",
       "\r\n",
       "// ensure `require` is available globally\r\n",
       "if ((typeof(require) !==  typeof(Function)) || (typeof(require.config) !== typeof(Function))) {\r\n",
       "    let require_script = document.createElement('script');\r\n",
       "    require_script.setAttribute('src', 'https://cdnjs.cloudflare.com/ajax/libs/require.js/2.3.6/require.min.js');\r\n",
       "    require_script.setAttribute('type', 'text/javascript');\r\n",
       "    \r\n",
       "    \r\n",
       "    require_script.onload = function() {\r\n",
       "        loadDotnetInteractiveApi();\r\n",
       "    };\r\n",
       "\r\n",
       "    document.getElementsByTagName('head')[0].appendChild(require_script);\r\n",
       "}\r\n",
       "else {\r\n",
       "    loadDotnetInteractiveApi();\r\n",
       "}\r\n",
       "\r\n",
       "    </script>\r\n",
       "</div>"
      ]
     },
     "metadata": {},
     "output_type": "display_data"
    },
    {
     "data": {
      "text/html": [
       "<div><div></div><div></div><div><strong>Installed Packages</strong><ul><li><span>Microsoft.Data.Analysis, 0.20.1</span></li><li><span>Refinitiv.Data.Content, 1.0.0-beta4</span></li></ul></div></div>"
      ]
     },
     "metadata": {},
     "output_type": "display_data"
    },
    {
     "data": {
      "text/plain": [
       "Loading extensions from `C:\\Users\\U8007876\\.nuget\\packages\\microsoft.data.analysis\\0.20.1\\interactive-extensions\\dotnet\\Microsoft.Data.Analysis.Interactive.dll`"
      ]
     },
     "metadata": {},
     "output_type": "display_data"
    }
   ],
   "source": [
    "#r \"nuget:Refinitiv.Data.Content, 1.0.0-beta4\"\n",
    "#r \"nuget:Microsoft.Data.Analysis\""
   ]
  },
  {
   "cell_type": "code",
   "execution_count": 2,
   "metadata": {},
   "outputs": [],
   "source": [
    "using Newtonsoft.Json.Linq;\n",
    "using Refinitiv.Data.Content.SearchService;\n",
    "using Refinitiv.Data.Core;\n",
    "using Microsoft.Data.Analysis;\n",
    "using Microsoft.AspNetCore.Html;\n",
    "using System.Data;\n",
    "using System;\n",
    "using Microsoft.DotNet.Interactive.Formatting;\n",
    "using static Microsoft.DotNet.Interactive.Formatting.PocketViewTags;"
   ]
  },
  {
   "cell_type": "markdown",
   "metadata": {
    "tags": []
   },
   "source": [
    "#### Table Output\n",
    "Helper routine to output data in a table format."
   ]
  },
  {
   "cell_type": "code",
   "execution_count": 3,
   "metadata": {},
   "outputs": [],
   "source": [
    "Formatter.Register<DataTable>((dt, writer) =>\n",
    "{\n",
    "    if (dt.Columns.Count > 0)\n",
    "    {\n",
    "        var rows = new List<ICollection<IHtmlContent>>();\n",
    "\n",
    "        // Process Each data row\n",
    "        foreach(var row in dt.Rows.Cast<DataRow>())\n",
    "        {\n",
    "            var cells = new List<IHtmlContent>();\n",
    "            foreach (var cell in row.ItemArray)\n",
    "            {\n",
    "                switch (cell)\n",
    "                {\n",
    "                    case null:\n",
    "                        break;\n",
    "                    case JValue val:\n",
    "                        cells.Add(td(val.ToString()));\n",
    "                        break;\n",
    "                    case IEnumerable<JToken> list:\n",
    "                        cells.Add(td($\"[{string.Join(\", \", list.Select(node => $\"{node}\"))}]\"));\n",
    "                        break;\n",
    "                    default:\n",
    "                        cells.Add(td(cell));\n",
    "                        break;\n",
    "                }                \n",
    "            }\n",
    "            rows.Add(cells);\n",
    "        }\n",
    "        \n",
    "        // Header\n",
    "        var headers = new List<IHtmlContent>();\n",
    "        foreach (DataColumn col in dt.Columns)\n",
    "            headers.Add(th(col.ColumnName) as IHtmlContent);\n",
    "\n",
    "        var t = table(thead(headers), tbody(rows.Select(r => tr(r))));\n",
    "        writer.Write(t);\n",
    "    }\n",
    "}, \"text/html\");"
   ]
  },
  {
   "cell_type": "code",
   "execution_count": 4,
   "metadata": {},
   "outputs": [
    {
     "name": "stdout",
     "output_type": "stream",
     "text": [
      "2023-02-21 4:03:02 PM:DesktopSession. (State: DesktopSession is Pending)\n",
      "2023-02-21 4:03:04 PM:DesktopSession. (Event: {\n",
      "  \"Contents\": \"Desktop Session Successfully Authenticated\"\n",
      "})\n",
      "2023-02-21 4:03:04 PM:DesktopSession. (State: DesktopSession is Opened)\n"
     ]
    }
   ],
   "source": [
    "// Create a session into the desktop\n",
    "DesktopSession.Definition().GetSession().OnState((s, state, msg) => Console.WriteLine($\"{DateTime.Now}:{msg}. (State: {state})\"))\n",
    "                                        .OnEvent((s, eventCode, msg) => Console.WriteLine($\"{DateTime.Now}:{msg}. (Event: {eventCode})\"))\n",
    "                                        .Open();"
   ]
  },
  {
   "cell_type": "markdown",
   "metadata": {},
   "source": [
    "#### Example - Property values\n",
    "The most basic usage of navigators is to determine the available values within a given Property.  For example, when searching for assets, we may want to narrow down the specific country an asset is traded in.  We can determine the available countries to work with."
   ]
  },
  {
   "cell_type": "code",
   "execution_count": 5,
   "metadata": {
    "scrolled": true
   },
   "outputs": [
    {
     "name": "stdout",
     "output_type": "stream",
     "text": [
      "[\n",
      "  {\n",
      "    \"Label\": \"United States\",\n",
      "    \"Count\": 13669059\n",
      "  },\n",
      "  {\n",
      "    \"Label\": \"Eurobond\",\n",
      "    \"Count\": 4560764\n",
      "  },\n",
      "  {\n",
      "    \"Label\": \"China (Mainland)\",\n",
      "    \"Count\": 1289076\n",
      "  },\n",
      "  {\n",
      "    \"Label\": \"Colombia\",\n",
      "    \"Count\": 1093363\n",
      "  },\n",
      "  {\n",
      "    \"Label\": \"South Korea\",\n",
      "    \"Count\": 583887\n",
      "  },\n",
      "  {\n",
      "    \"Label\": \"Germany\",\n",
      "    \"Count\": 506187\n",
      "  },\n",
      "  {\n",
      "    \"Label\": \"Canada\",\n",
      "    \"Count\": 496157\n",
      "  },\n",
      "  {\n",
      "    \"Label\": \"France\",\n",
      "    \"Count\": 273193\n",
      "  },\n",
      "  {\n",
      "    \"Label\": \"India\",\n",
      "    \"Count\": 212292\n",
      "  },\n",
      "  {\n",
      "    \"Label\": \"Japan\",\n",
      "    \"Count\": 165382\n",
      "  },\n",
      "  {\n",
      "    \"Label\": \"Italy\",\n",
      "    \"Count\": 135286\n",
      "  },\n",
      "  {\n",
      "    \"Label\": \"Australia\",\n",
      "    \"Count\": 134035\n",
      "  },\n",
      "  {\n",
      "    \"Label\": \"Chile\",\n",
      "    \"Count\": 131629\n",
      "  },\n",
      "  {\n",
      "    \"Label\": \"Brazil\",\n",
      "    \"Count\": 82661\n",
      "  },\n",
      "  {\n",
      "    \"Label\": \"Switzerland\",\n",
      "    \"Count\": 72073\n",
      "  },\n",
      "  {\n",
      "    \"Label\": \"Austria\",\n",
      "    \"Count\": 60904\n",
      "  },\n",
      "  {\n",
      "    \"Label\": \"United Kingdom\",\n",
      "    \"Count\": 60274\n",
      "  },\n",
      "  {\n",
      "    \"Label\": \"Spain\",\n",
      "    \"Count\": 59978\n",
      "  },\n",
      "  {\n",
      "    \"Label\": \"Norway\",\n",
      "    \"Count\": 58700\n",
      "  },\n",
      "  {\n",
      "    \"Label\": \"Russia\",\n",
      "    \"Count\": 56681\n",
      "  }\n",
      "]\n"
     ]
    }
   ],
   "source": [
    "// The following will list the countries assets are listed.  We can use this output to filter based on a specific country.\n",
    "var response = Search.Definition(Search.View.SearchAll).Top(0)\n",
    "                                                       .Navigators(\"RCSCountryLeaf(buckets:20)\")  // Show the top 20\n",
    "                                                       .GetData();\n",
    "Console.WriteLine(response.Data.Navigators[\"RCSCountryLeaf\"][\"Buckets\"]);"
   ]
  },
  {
   "cell_type": "markdown",
   "metadata": {},
   "source": [
    "#### Example - Vessels\n",
    "If I want to perform a basic search for tankers and capture the Hull Types, I could start with the following basic query:"
   ]
  },
  {
   "cell_type": "code",
   "execution_count": 6,
   "metadata": {},
   "outputs": [
    {
     "data": {
      "text/html": [
       "<table><thead><th>DocumentTitle</th><th>HullType</th></thead><tbody><tr><td>M.T.THEA, Chemical Tanker, FAIRDEAL GROUP MANAGEMENT, English Channel|UK Continent Tanker Zone</td><td>Single Hull</td></tr><tr><td>KK MARLIN, Chemical Tanker, South Africa|Western Cape|South Atlantic Ocean|South Africa Tanker Zone</td><td><div class=\"dni-plaintext\"><pre></pre></div></td></tr><tr><td>HAFNIA NANJING, Jet Fuel; Chemical Tanker, MMS CO LTD, East Atlantic Ocean (Africa)|Gibraltar Tanker Zone</td><td><div class=\"dni-plaintext\"><pre></pre></div></td></tr><tr><td>GW DOLPHIN, Chemical Tanker, English Channel|UK Continent Tanker Zone</td><td><div class=\"dni-plaintext\"><pre></pre></div></td></tr><tr><td>MARITIME TRANQUILITY, Chemical Tanker, Caribbean Sea|Bahamas Tanker Zone|Dominican Republic</td><td><div class=\"dni-plaintext\"><pre></pre></div></td></tr><tr><td>MARITIME AMITY, Chemical Tanker, East Med Sea|East Med Tanker Zone</td><td><div class=\"dni-plaintext\"><pre></pre></div></td></tr><tr><td>MARITIME COMITY, Chemical Tanker, Gulf of Mexico|US Gulf Tanker Zone|Texas|United States</td><td><div class=\"dni-plaintext\"><pre></pre></div></td></tr><tr><td>MARITIME VALOR, Chemical Tanker, East Sea / Sea of Japan|Korea Tanker Zone|Korea Strait Waypoint</td><td><div class=\"dni-plaintext\"><pre></pre></div></td></tr><tr><td>MARITIME GRACIOUS, Chemical Tanker, MSI SHIP MANAGEMENT PTE LTD, East China Sea|Korea Tanker Zone|Korea Strait Waypoint</td><td><div class=\"dni-plaintext\"><pre></pre></div></td></tr><tr><td>MARITIME GUARDIAN, Chemical Tanker, MSI SHIP MANAGEMENT PTE LTD, Pacific Ocean (Central America)|Hawaii Tanker Zone</td><td><div class=\"dni-plaintext\"><pre></pre></div></td></tr><tr><td>MARITIME INSPIRATION, Soybean Oil; Chemical Tanker, Bay of Bengal|Chittagong Tanker Zone</td><td><div class=\"dni-plaintext\"><pre></pre></div></td></tr><tr><td>MARITIME VERITY, Chemical Tanker, Gulf of Oman|Arabian Gulf Tanker Zone|Saudi Arabia</td><td><div class=\"dni-plaintext\"><pre></pre></div></td></tr><tr><td>NORDIC COPENHAGEN, Chemical Tanker, Pacific Ocean (Central America)|Panama Tanker Zone</td><td>Double Hull</td></tr><tr><td>BOW OLYMPUS, Chemical Tanker, ODFJELL MANAGEMENT AS, Gulf of Mexico|US Gulf Tanker Zone|Texas|United States</td><td>Double Hull</td></tr><tr><td>BOW ORION, Chemical Tanker, ODFJELL MANAGEMENT AS, Gulf of Mexico|US Gulf Tanker Zone</td><td>Double Hull</td></tr><tr><td>BOW OPTIMA, Chemical Tanker, ODFJELL MANAGEMENT AS, North Pacific Ocean (Japan)</td><td>Double Hull</td></tr><tr><td>BOW ODYSSEY, Chemical Tanker, ODFJELL MANAGEMENT AS, Caribbean Sea|Caribbean Tanker Zone</td><td>Double Hull</td></tr><tr><td>KOHZAN MARU 6, Chemical Tanker, Gulf of Oman|Arabian Gulf Tanker Zone</td><td><div class=\"dni-plaintext\"><pre></pre></div></td></tr><tr><td>FLORA EXPRESS, Chemical Tanker, FUYO KAIUN CO LTD, South Pacific Ocean (South America)|Chile Tanker Zone</td><td><div class=\"dni-plaintext\"><pre></pre></div></td></tr><tr><td>STAR ADVANCE, Chemical Tanker, SAINT SAIL SHIPPING LTD, North Pacific Ocean (North America)</td><td>Double Hull</td></tr><tr><td>MINERVA ANTONIA, Fuel Oil; Chemical Tanker, MINERVA MARINE INC, West Med|Malta Tanker Zone|Sardinia South Waypoint</td><td>Double Hull</td></tr><tr><td>MTM KEY WEST, Chemical Tanker, Caribbean Sea|Caribbean Tanker Zone</td><td>Double Hull</td></tr><tr><td>FAIRCHEM ENDURANCE, Chemical Tanker, Java Sea|Singapore Tanker Zone|Singapore Strait Waypoint</td><td>Double Hull</td></tr><tr><td>ZANDOLIE, Chemical Tanker, Caribbean Sea|Caribbean Tanker Zone|Trinidad and Tobago</td><td><div class=\"dni-plaintext\"><pre></pre></div></td></tr><tr><td>NORD MIYAKO, Chemical Tanker, South Atlantic Ocean|Recife Tanker Zone</td><td><div class=\"dni-plaintext\"><pre></pre></div></td></tr><tr><td>THERESA DUA, Chemical Tanker, South China Sea|Manila Tanker Zone</td><td><div class=\"dni-plaintext\"><pre></pre></div></td></tr><tr><td>VENTURE III, Chemical Tanker, TRANSPETROL TM AS, Borneo Sea|Singapore Tanker Zone</td><td><div class=\"dni-plaintext\"><pre></pre></div></td></tr><tr><td>NORD VOLANTE, Chemical Tanker, Red Sea|Suez Canal Tanker Zone</td><td><div class=\"dni-plaintext\"><pre></pre></div></td></tr><tr><td>NORD VIRAGE, Chemical Tanker, Borneo Sea|Singapore Tanker Zone</td><td><div class=\"dni-plaintext\"><pre></pre></div></td></tr><tr><td>GROUSE SUN, Diesel; Chemical Tanker, South Pacific Ocean (NZ)|New Zealand Tanker Zone</td><td><div class=\"dni-plaintext\"><pre></pre></div></td></tr><tr><td>MARS, Chemical Tanker, RAFFLES SHIPMANAGEMENT SERVICES PRIVATE LTD, West Indian Ocean|West Coast India Tanker Zone</td><td>Double Hull</td></tr><tr><td>BOW EXPLORER, Chemical Tanker, ODFJELL MANAGEMENT AS, Brazil|Rio Grande do Sul|South Atlantic Ocean|Buenos Aires Tanker Zone</td><td><div class=\"dni-plaintext\"><pre></pre></div></td></tr><tr><td>BOW EXCELLENCE, Chemical Tanker, ODFJELL MANAGEMENT AS, English Channel|UK Continent Tanker Zone|ARA Tanker Zone|Belgium</td><td><div class=\"dni-plaintext\"><pre></pre></div></td></tr><tr><td>CHEMOCEAN LEO, Chemical Tanker, Guangdong|South China Sea|Canton Tanker Zone|China (Mainland)</td><td>Double Hull</td></tr><tr><td>GLOBAL GLORY, Chemical Tanker, East Atlantic Ocean (Africa)|Gibraltar Tanker Zone</td><td>Double Hull</td></tr><tr><td>CB ADRIATIC, Chemical Tanker, CARL BUTTNER SHIPMANAGEMENT, Gulf of Lyon|Fos sur Mer Tanker Zone|France</td><td>Double Hull</td></tr><tr><td>CB BALTIC, Chemical Tanker, CARL BUTTNER SHIPMANAGEMENT, Aegean Sea|Greece Tanker Zone|Greece</td><td>Double Hull</td></tr><tr><td>CB CARIBIC, Naphtha; Chemical Tanker, CARL BUTTNER SHIPMANAGEMENT, West Med|Gibraltar Tanker Zone</td><td><div class=\"dni-plaintext\"><pre></pre></div></td></tr><tr><td>CB PACIFIC, Chemical Tanker, CARL BUTTNER SHIPMANAGEMENT, North Atlantic Ocean|UK Continent Tanker Zone|United Kingdom</td><td><div class=\"dni-plaintext\"><pre></pre></div></td></tr><tr><td>AKTI A, Chemical Tanker, English Channel|UK Continent Tanker Zone</td><td><div class=\"dni-plaintext\"><pre></pre></div></td></tr><tr><td>THEANOULA, Chemical Tanker, West Indian Ocean|West Coast India Tanker Zone</td><td><div class=\"dni-plaintext\"><pre></pre></div></td></tr><tr><td>TRF MEMPHIS, Chemical Tanker, ANGLO-EASTERN SHIPMANAGEMENT S, Red Sea|Yanbu Tanker Zone</td><td>Double Hull</td></tr><tr><td>CHEMROAD AQUA, Chemical Tanker, Gulf of Oman|Arabian Gulf Tanker Zone</td><td>Double Hull</td></tr><tr><td>CHEMROAD HAWK, Chemical Tanker, North Pacific Ocean (Japan)|Japan Tanker Zone</td><td>Double Hull</td></tr><tr><td>HAKUBA GALAXY, Chemical Tanker, East China Sea|Korea Tanker Zone|South Korea</td><td>Double Hull</td></tr><tr><td>GOLDEN LAVENDER, Chemical Tanker, Gulf of Oman|Arabian Gulf Tanker Zone</td><td><div class=\"dni-plaintext\"><pre></pre></div></td></tr><tr><td>SCHWYZ, Chemical Tanker, Java Sea|Singapore Tanker Zone|Singapore Strait Waypoint</td><td><div class=\"dni-plaintext\"><pre></pre></div></td></tr><tr><td>RABIGH SUN, Chemical Tanker, IINO MARINE SERVICE CO LTD, Jiangsu|Shanghai Tanker Zone|Yangtze River|China (Mainland)</td><td>Double Hull</td></tr><tr><td>BOW PERFORMER, Chemical Tanker, Louisiana|Gulf of Mexico|US Gulf Tanker Zone|United States</td><td>Double Hull</td></tr><tr><td>BOW PRECISION, Soybean Oil; Chemical Tanker, South Atlantic Ocean|Buenos Aires Tanker Zone</td><td>Double Hull</td></tr><tr><td>TSUKUBA GALAXY, Chemical Tanker, Arabia Sea|West Coast India Tanker Zone</td><td>Double Hull</td></tr><tr><td>CHEMROAD ORCHID, Chemical Tanker, East China Sea|Shanghai Tanker Zone</td><td>Double Hull</td></tr><tr><td>MTM NEW PORT, Chemical Tanker, Tianjin|East China Sea|Korea Tanker Zone|China (Mainland)</td><td>Double Hull</td></tr><tr><td>INTERMEZZO, Chemical Tanker, East Sea / Sea of Japan|Korea Tanker Zone|Korea Strait Waypoint</td><td>Double Hull</td></tr><tr><td>HARMONICS, Chemical Tanker, Gulf of Mexico|US Gulf Tanker Zone|Texas|United States</td><td>Double Hull</td></tr><tr><td>GALLOP, Chemical Tanker, East China Sea|Korea Tanker Zone</td><td>Double Hull</td></tr><tr><td>JAZZ, Chemical Tanker, English Channel|UK Continent Tanker Zone</td><td>Double Hull</td></tr><tr><td>OPERA, Chemical Tanker, East Sea / Sea of Japan|Korea Tanker Zone|Korea Strait Waypoint|South Korea</td><td>Double Hull</td></tr><tr><td>LIBRA II, Chemical Tanker, Gulf of Guinea|West Africa Tanker Zone|Cameroon</td><td><div class=\"dni-plaintext\"><pre></pre></div></td></tr><tr><td>PINARELLO, Chemical Tanker, MAXWELL SHIP MANAGEMENT PTE, Gulf of Guinea|West Africa Tanker Zone|Nigeria</td><td><div class=\"dni-plaintext\"><pre></pre></div></td></tr><tr><td>GOLDEN DAHLIA, Diesel / Gasoil|Gasoline|Jet Fuel; Chemical Tanker, Arabia Sea|Arabian Gulf Tanker Zone</td><td><div class=\"dni-plaintext\"><pre></pre></div></td></tr><tr><td>LAGAVULIN, Chemical Tanker, Java Sea|Singapore Tanker Zone|Singapore Strait Waypoint|Singapore</td><td><div class=\"dni-plaintext\"><pre></pre></div></td></tr><tr><td>ABERLOUR, Chemical Tanker, South Atlantic Ocean|South West Africa Tanker Zone|Angola</td><td><div class=\"dni-plaintext\"><pre></pre></div></td></tr><tr><td>HARMONY, Chemical Tanker, Black Sea|Turkey Tanker Zone</td><td><div class=\"dni-plaintext\"><pre></pre></div></td></tr><tr><td>GOLDEN DAISY, Chemical Tanker, North Atlantic Ocean|Ireland Tanker Zone</td><td><div class=\"dni-plaintext\"><pre></pre></div></td></tr><tr><td>ARRAN, Chemical Tanker, Java Sea|Singapore Tanker Zone</td><td><div class=\"dni-plaintext\"><pre></pre></div></td></tr><tr><td>LAPHROAIG, Chemical Tanker, Andaman Sea|Chittagong Tanker Zone</td><td><div class=\"dni-plaintext\"><pre></pre></div></td></tr><tr><td>SHERLOCK, Chemical Tanker, East Indian Ocean</td><td><div class=\"dni-plaintext\"><pre></pre></div></td></tr><tr><td>CHEMROAD ZENITH, Chemical Tanker, North Atlantic Ocean|Bilbao Tanker Zone</td><td><div class=\"dni-plaintext\"><pre></pre></div></td></tr><tr><td>CHEMROAD JUPITER, Chemical Tanker, Red Sea|Suez Canal Tanker Zone</td><td><div class=\"dni-plaintext\"><pre></pre></div></td></tr><tr><td>BENTEN GALAXY, Chemical Tanker, Java Sea|Singapore Tanker Zone</td><td><div class=\"dni-plaintext\"><pre></pre></div></td></tr><tr><td>CHEM P, Chemical Tanker, RV INTERNATIONAL DMCC, Gulf of Gabes|Malta Tanker Zone|Malta</td><td>Double Hull</td></tr><tr><td>NCC NAJRAN, Chemical Tanker, ODFJELL ASA</td><td><div class=\"dni-plaintext\"><pre></pre></div></td></tr><tr><td>MONARCH NO.1, Chemical Tanker, RPTD SOLD UNDISCLOSED INTEREST, South China Sea|Taiwan Tanker Zone|Taiwan Strait Waypoint</td><td>Double Hull</td></tr><tr><td>MENUETT, Chemical Tanker, West Atlantic Ocean (Americas)|US Atlantic Coast Tanker Zone|New Jersey|United States</td><td>Double Hull</td></tr><tr><td>ASIA LIBERTY, Chemical Tanker, West Indian Ocean|Colombo Tanker Zone</td><td>Double Hull</td></tr><tr><td>ASIA INSPIRE, Chemical Tanker, East China Sea|Shanghai Tanker Zone</td><td>Double Hull</td></tr><tr><td>RHAPSODY, Chemical Tanker, South China Sea|Canton Tanker Zone</td><td><div class=\"dni-plaintext\"><pre></pre></div></td></tr><tr><td>PRELUDE, Chemical Tanker, English Channel|UK Continent Tanker Zone</td><td><div class=\"dni-plaintext\"><pre></pre></div></td></tr><tr><td>PETERPAUL, Chemical Tanker, IMS LTD, Gulf of Oman|Arabian Gulf Tanker Zone</td><td>Double Hull</td></tr><tr><td>MELATI 6, Chemical Tanker, RAFFLES SHIPPING INTL PTE LTD, Kaliningrad|Baltic Sea|Baltic Tanker Zone|Russia</td><td>Double Hull</td></tr><tr><td>MELATI 7, Palm Fruit Stearin - Refined Bleached and Deodorized; Chemical Tanker, RAFFLES SHIPPING INTL PTE LTD, South China Sea|Canton Tanker Zone</td><td>Double Hull</td></tr><tr><td>STARGAZE, Chemical Tanker, HONG LAM MARINE PTE LTD, Java Sea|Singapore Tanker Zone|Malaysia</td><td><div class=\"dni-plaintext\"><pre></pre></div></td></tr><tr><td>FLORENTINO, Chemical Tanker, TRINITY SHIPPING AGENCIES LTD, Java Sea|Singapore Tanker Zone|Singapore Strait Waypoint|Singapore</td><td>Double Hull</td></tr><tr><td>FAIRCHEM ANGEL, Chemical Tanker, FAIRFIELD CHEMICAL CARRIERS, Antofagasta|South Pacific Ocean (South America)|Chile Tanker Zone|Chile</td><td>Double Hull</td></tr><tr><td>DEHANG, Chemical Tanker, East China Sea|Shanghai Tanker Zone</td><td><div class=\"dni-plaintext\"><pre></pre></div></td></tr><tr><td>HAKONE GALAXY, Chemical Tanker, North Pacific Ocean (North America)</td><td>Double Hull</td></tr><tr><td>FAIRCHEM FORTITUDE, Chemical Tanker, South Atlantic Ocean|South Africa Tanker Zone</td><td>Double Hull</td></tr><tr><td>SOLAR SHARNA, Chemical Tanker, Red Sea|Yanbu Tanker Zone</td><td><div class=\"dni-plaintext\"><pre></pre></div></td></tr><tr><td>SOLAR NESRIN, Chemical Tanker, TRISTAR TRANSPORT LLC, Indonesia|East Kalimantan|Java Sea|Lawi-Lawi Terminal Tanker Zone</td><td><div class=\"dni-plaintext\"><pre></pre></div></td></tr><tr><td>SOLAR SUZANNE, Chemical Tanker, East Atlantic Ocean (Africa)|Portugal Tanker Zone</td><td><div class=\"dni-plaintext\"><pre></pre></div></td></tr><tr><td>SOLAR SKYLER, Chemical Tanker, Gulf of Mexico|US Gulf Tanker Zone|Texas|United States</td><td><div class=\"dni-plaintext\"><pre></pre></div></td></tr><tr><td>SOLAR SHERIDAN, Gasoline Component; Chemical Tanker, West Atlantic Ocean (Americas)|US Atlantic Coast Tanker Zone</td><td><div class=\"dni-plaintext\"><pre></pre></div></td></tr><tr><td>SOLAR AILENE, Chemical Tanker, North Pacific Ocean (North America)</td><td><div class=\"dni-plaintext\"><pre></pre></div></td></tr><tr><td>FAIRCHEM THRESHER, Chemical Tanker, Washington|North Pacific Ocean (North America)|US West Coast Tanker Zone|United States</td><td>Double Hull</td></tr><tr><td>FAIRCHEM COPPER, Chemical Tanker, West Indian Ocean|East Africa Tanker Zone|Mozambique Channel Waypoint</td><td>Double Hull</td></tr><tr><td>FAIRCHEM TIGER, Chemical Tanker, East Sea / Sea of Japan|Korea Tanker Zone|Korea Strait Waypoint|South Korea</td><td>Double Hull</td></tr><tr><td>AFRICAN MARVEL, Chemical Tanker, Gulf of Guinea|West Africa Tanker Zone|Nigeria</td><td><div class=\"dni-plaintext\"><pre></pre></div></td></tr><tr><td>GINGA LIGER, Chemical Tanker, East China Sea|Japan Tanker Zone</td><td><div class=\"dni-plaintext\"><pre></pre></div></td></tr><tr><td>TSURUGI GALAXY, Chemical Tanker, North Pacific Ocean (Japan)</td><td><div class=\"dni-plaintext\"><pre></pre></div></td></tr></tbody></table><style>\r\n",
       ".dni-code-hint {\r\n",
       "    font-style: italic;\r\n",
       "    overflow: hidden;\r\n",
       "    white-space: nowrap;\r\n",
       "}\r\n",
       ".dni-treeview {\r\n",
       "    white-space: nowrap;\r\n",
       "}\r\n",
       ".dni-treeview td {\r\n",
       "    vertical-align: top;\r\n",
       "    text-align: start;\r\n",
       "}\r\n",
       "details.dni-treeview {\r\n",
       "    padding-left: 1em;\r\n",
       "}\r\n",
       "table td {\r\n",
       "    text-align: start;\r\n",
       "}\r\n",
       "table tr { \r\n",
       "    vertical-align: top; \r\n",
       "    margin: 0em 0px;\r\n",
       "}\r\n",
       "table tr td pre \r\n",
       "{ \r\n",
       "    vertical-align: top !important; \r\n",
       "    margin: 0em 0px !important;\r\n",
       "} \r\n",
       "table th {\r\n",
       "    text-align: start;\r\n",
       "}\r\n",
       "</style>"
      ]
     },
     "execution_count": 6,
     "metadata": {},
     "output_type": "execute_result"
    }
   ],
   "source": [
    "response = Search.Definition(Search.View.VesselPhysicalAssets).Query(\"tanker\")\n",
    "                                                              .Select(\"DocumentTitle, HullType\")\n",
    "                                                              .Top(100)\n",
    "                                                              .GetData();\n",
    "response.Data.Table"
   ]
  },
  {
   "cell_type": "markdown",
   "metadata": {
    "tags": []
   },
   "source": [
    "Here, we can see a list of the different tankers and their Hull Types. Within this collection, while I can clearly see there are 2 different Hull Types: \"Single\" and \"Double\", I'm also seeing duplicates.  Instead of going through the effort to process the above result to pull out the unique list of Hull Types, I will instead use a Navigator - which was designed to do this work for me.\n",
    "\n",
    "Using the above query, I will apply a Navigator by selecting the 'HullType' Property.  What this does is instruct search to bucket all unique Hull Types and summarize the total found for each. To capture the results, I will need to utilize the Content Layer API call."
   ]
  },
  {
   "cell_type": "code",
   "execution_count": 7,
   "metadata": {},
   "outputs": [
    {
     "name": "stdout",
     "output_type": "stream",
     "text": [
      "[\n",
      "  {\n",
      "    \"Label\": \"Double Hull\",\n",
      "    \"Count\": 16467\n",
      "  },\n",
      "  {\n",
      "    \"Label\": \"Single Hull\",\n",
      "    \"Count\": 5411\n",
      "  }\n",
      "]\n"
     ]
    }
   ],
   "source": [
    "response = Search.Definition(Search.View.VesselPhysicalAssets).Query(\"tanker\")\n",
    "                                                              .Top(0)  // Only interested in Navigator details\n",
    "                                                              .Navigators(\"HullType\")\n",
    "                                                              .GetData();\n",
    "Console.WriteLine(response.Data.Navigators[\"HullType\"][\"Buckets\"]);"
   ]
  },
  {
   "cell_type": "markdown",
   "metadata": {},
   "source": [
    "#### Example - Listing of exchanges per asset category\n",
    "In the following example, I'm going to list the top 3 asset types in Canada and for each, display the top 2 exchanges trading on those assets."
   ]
  },
  {
   "cell_type": "code",
   "execution_count": 8,
   "metadata": {},
   "outputs": [],
   "source": [
    "// Filter on all active (AC) assets within Canada\n",
    "var filter = \"AssetState eq 'AC' and RCSExchangeCountryLeaf eq 'Canada'\";\n",
    "\n",
    "// For the top 3 categories, show the top 2 exchanges\n",
    "var navigators = \"RCSAssetCategoryLeaf(buckets:3, sub:ExchangeName(buckets:2))\"; \n",
    "\n",
    "response = Search.Definition(Search.View.EquityQuotes).Filter(filter)\n",
    "                                                      .Navigators(navigators)\n",
    "                                                      .Top(0)\n",
    "                                                      .GetData();"
   ]
  },
  {
   "cell_type": "code",
   "execution_count": 9,
   "metadata": {},
   "outputs": [
    {
     "name": "stdout",
     "output_type": "stream",
     "text": [
      "1. Equity Cash Option\n",
      "\t1. Montreal Options Exchange (93129)\n",
      "\t2. Refinitiv (10679)\n",
      "2. Ordinary Share\n",
      "\t1. Aequitas NEO-L (3569)\n",
      "\t2. Aequitas NEO-N (3568)\n",
      "3. Equity Future Spread\n",
      "\t1. Montreal Exchange (6432)\n",
      "\t2. Montreal Options Exchange (36)\n"
     ]
    }
   ],
   "source": [
    "// Pretty display of the listing\n",
    "var rank = 1;\n",
    "var exchangeRank = 1;\n",
    "foreach (var asset in response.Data.Navigators[\"RCSAssetCategoryLeaf\"][\"Buckets\"])\n",
    "{\n",
    "    Console.WriteLine($\"{rank++}. {asset[\"Label\"]}\");\n",
    "    foreach (var exchange in asset[\"ExchangeName\"][\"Buckets\"])\n",
    "        Console.WriteLine($\"\\t{exchangeRank++}. {exchange[\"Label\"]} ({exchange[\"Count\"]})\");\n",
    "    exchangeRank = 1;\n",
    "}"
   ]
  },
  {
   "cell_type": "markdown",
   "metadata": {},
   "source": [
    "#### Example - Outstanding Government debt in the last 3 months.\n",
    "In this example, I will be using some nested expressions to summarize categories within the buckets I collect.  Specifically, I'm looking for government debt ('govt') issued any time after 3-months ago using the following filter:\n",
    "- \"DBType eq 'govt' and IssueDate gt today-3months\" (DBType identifies government debt)\n",
    "    \n",
    "Based on the result set, I want categorize or create buckets (top 5) based on the domicile of the issuer.  For each domicile, sum the outstanding debt and also include the maximum coupon rate for each one.\n",
    "- RCSDomicileLeaf(buckets:5, desc:sum_FaceOutstandingUSD, calc:max_CouponRate)"
   ]
  },
  {
   "cell_type": "code",
   "execution_count": 10,
   "metadata": {},
   "outputs": [],
   "source": [
    "// Get date N months ago\n",
    "var date = DateTime.Now.AddMonths(-3);  // Last 3 months"
   ]
  },
  {
   "cell_type": "code",
   "execution_count": 11,
   "metadata": {},
   "outputs": [
    {
     "name": "stdout",
     "output_type": "stream",
     "text": [
      "[\n",
      "  {\n",
      "    \"Label\": \"United States\",\n",
      "    \"Count\": 83,\n",
      "    \"max_CouponRate\": 4.9360272,\n",
      "    \"sum_FaceOutstandingUSD\": 2338989202900.0\n",
      "  },\n",
      "  {\n",
      "    \"Label\": \"Japan\",\n",
      "    \"Count\": 51,\n",
      "    \"max_CouponRate\": 1.6,\n",
      "    \"sum_FaceOutstandingUSD\": 902047497263.0\n",
      "  },\n",
      "  {\n",
      "    \"Label\": \"China (Mainland)\",\n",
      "    \"Count\": 36,\n",
      "    \"max_CouponRate\": 2.8,\n",
      "    \"sum_FaceOutstandingUSD\": 352815879183.0\n",
      "  },\n",
      "  {\n",
      "    \"Label\": \"Singapore\",\n",
      "    \"Count\": 42,\n",
      "    \"max_CouponRate\": 4.4944,\n",
      "    \"sum_FaceOutstandingUSD\": 222540043497.0\n",
      "  },\n",
      "  {\n",
      "    \"Label\": \"Hong Kong\",\n",
      "    \"Count\": 56,\n",
      "    \"max_CouponRate\": 5.25,\n",
      "    \"sum_FaceOutstandingUSD\": 136167813408.0\n",
      "  }\n",
      "]\n"
     ]
    }
   ],
   "source": [
    "// Retrieve the top 5 outstanding government debt in the last 3 months\n",
    "filter = $\"DbType eq 'govt' and IssueDate gt {date:yyyy-MM-dd}\";\n",
    "navigators = \"RCSDomicileLeaf(buckets:5, desc:sum_FaceOutstandingUSD, calc:max_CouponRate)\";\n",
    "\n",
    "response = Search.Definition(Search.View.GovCorpInstruments).Filter(filter)\n",
    "                                                            .Navigators(navigators)\n",
    "                                                            .Top(0)\n",
    "                                                            .GetData();\n",
    "Console.WriteLine(response.Data.Navigators[\"RCSDomicileLeaf\"][\"Buckets\"]);"
   ]
  },
  {
   "cell_type": "code",
   "execution_count": null,
   "metadata": {},
   "outputs": [],
   "source": []
  }
 ],
 "metadata": {
  "kernelspec": {
   "display_name": ".NET (C#)",
   "language": "C#",
   "name": ".net-csharp"
  },
  "language_info": {
   "file_extension": ".cs",
   "mimetype": "text/x-csharp",
   "name": "C#",
   "pygments_lexer": "csharp",
   "version": "11.0"
  }
 },
 "nbformat": 4,
 "nbformat_minor": 4
}
