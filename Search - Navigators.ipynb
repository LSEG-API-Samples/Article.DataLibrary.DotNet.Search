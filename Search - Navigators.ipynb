{
 "cells": [
  {
   "cell_type": "markdown",
   "metadata": {},
   "source": [
    "## Navigators\n",
    "Navigators provide the ability to drill into the result set providing a summary of the distribution.  They are particularly useful when you are interested in gathering the domain of values for a particular Property.  Navigators can be used against a specific View, used in conjunction with either a query, a filter or both.  Navigators can be simple or very powerful, but provide a very useful way to capture results in logical buckets. "
   ]
  },
  {
   "cell_type": "markdown",
   "metadata": {},
   "source": [
    "#### NuGet Packages"
   ]
  },
  {
   "cell_type": "code",
   "execution_count": 1,
   "metadata": {},
   "outputs": [
    {
     "data": {
      "text/html": [
       "\r\n",
       "<div>\r\n",
       "    <div id='dotnet-interactive-this-cell-25220.Microsoft.DotNet.Interactive.Http.HttpPort' style='display: none'>\r\n",
       "        The below script needs to be able to find the current output cell; this is an easy method to get it.\r\n",
       "    </div>\r\n",
       "    <script type='text/javascript'>\r\n",
       "async function probeAddresses(probingAddresses) {\r\n",
       "    function timeout(ms, promise) {\r\n",
       "        return new Promise(function (resolve, reject) {\r\n",
       "            setTimeout(function () {\r\n",
       "                reject(new Error('timeout'))\r\n",
       "            }, ms)\r\n",
       "            promise.then(resolve, reject)\r\n",
       "        })\r\n",
       "    }\r\n",
       "\r\n",
       "    if (Array.isArray(probingAddresses)) {\r\n",
       "        for (let i = 0; i < probingAddresses.length; i++) {\r\n",
       "\r\n",
       "            let rootUrl = probingAddresses[i];\r\n",
       "\r\n",
       "            if (!rootUrl.endsWith('/')) {\r\n",
       "                rootUrl = `${rootUrl}/`;\r\n",
       "            }\r\n",
       "\r\n",
       "            try {\r\n",
       "                let response = await timeout(1000, fetch(`${rootUrl}discovery`, {\r\n",
       "                    method: 'POST',\r\n",
       "                    cache: 'no-cache',\r\n",
       "                    mode: 'cors',\r\n",
       "                    timeout: 1000,\r\n",
       "                    headers: {\r\n",
       "                        'Content-Type': 'text/plain'\r\n",
       "                    },\r\n",
       "                    body: probingAddresses[i]\r\n",
       "                }));\r\n",
       "\r\n",
       "                if (response.status == 200) {\r\n",
       "                    return rootUrl;\r\n",
       "                }\r\n",
       "            }\r\n",
       "            catch (e) { }\r\n",
       "        }\r\n",
       "    }\r\n",
       "}\r\n",
       "\r\n",
       "function loadDotnetInteractiveApi() {\r\n",
       "    probeAddresses([\"http://10.46.221.112:1003/\", \"http://192.168.0.8:1003/\", \"http://172.20.224.1:1003/\", \"http://127.0.0.1:1003/\"])\r\n",
       "        .then((root) => {\r\n",
       "        // use probing to find host url and api resources\r\n",
       "        // load interactive helpers and language services\r\n",
       "        let dotnetInteractiveRequire = require.config({\r\n",
       "        context: '25220.Microsoft.DotNet.Interactive.Http.HttpPort',\r\n",
       "                paths:\r\n",
       "            {\r\n",
       "                'dotnet-interactive': `${root}resources`\r\n",
       "                }\r\n",
       "        }) || require;\r\n",
       "\r\n",
       "            window.dotnetInteractiveRequire = dotnetInteractiveRequire;\r\n",
       "\r\n",
       "            window.configureRequireFromExtension = function(extensionName, extensionCacheBuster) {\r\n",
       "                let paths = {};\r\n",
       "                paths[extensionName] = `${root}extensions/${extensionName}/resources/`;\r\n",
       "                \r\n",
       "                let internalRequire = require.config({\r\n",
       "                    context: extensionCacheBuster,\r\n",
       "                    paths: paths,\r\n",
       "                    urlArgs: `cacheBuster=${extensionCacheBuster}`\r\n",
       "                    }) || require;\r\n",
       "\r\n",
       "                return internalRequire\r\n",
       "            };\r\n",
       "        \r\n",
       "            dotnetInteractiveRequire([\r\n",
       "                    'dotnet-interactive/dotnet-interactive'\r\n",
       "                ],\r\n",
       "                function (dotnet) {\r\n",
       "                    dotnet.init(window);\r\n",
       "                },\r\n",
       "                function (error) {\r\n",
       "                    console.log(error);\r\n",
       "                }\r\n",
       "            );\r\n",
       "        })\r\n",
       "        .catch(error => {console.log(error);});\r\n",
       "    }\r\n",
       "\r\n",
       "// ensure `require` is available globally\r\n",
       "if ((typeof(require) !==  typeof(Function)) || (typeof(require.config) !== typeof(Function))) {\r\n",
       "    let require_script = document.createElement('script');\r\n",
       "    require_script.setAttribute('src', 'https://cdnjs.cloudflare.com/ajax/libs/require.js/2.3.6/require.min.js');\r\n",
       "    require_script.setAttribute('type', 'text/javascript');\r\n",
       "    \r\n",
       "    \r\n",
       "    require_script.onload = function() {\r\n",
       "        loadDotnetInteractiveApi();\r\n",
       "    };\r\n",
       "\r\n",
       "    document.getElementsByTagName('head')[0].appendChild(require_script);\r\n",
       "}\r\n",
       "else {\r\n",
       "    loadDotnetInteractiveApi();\r\n",
       "}\r\n",
       "\r\n",
       "    </script>\r\n",
       "</div>"
      ]
     },
     "metadata": {},
     "output_type": "display_data"
    },
    {
     "data": {
      "text/html": [
       "<div><div></div><div></div><div><strong>Installed Packages</strong><ul><li><span>Microsoft.Data.Analysis, 0.19.0</span></li><li><span>Refinitiv.Data.Content, 1.0.0-beta3</span></li></ul></div></div>"
      ]
     },
     "metadata": {},
     "output_type": "display_data"
    },
    {
     "data": {
      "text/markdown": [
       "Loading extensions from `Microsoft.Data.Analysis.Interactive.dll`"
      ]
     },
     "metadata": {},
     "output_type": "display_data"
    }
   ],
   "source": [
    "#r \"nuget:Refinitiv.Data.Content, 1.0.0-beta3\"\n",
    "#r \"nuget:Microsoft.Data.Analysis\""
   ]
  },
  {
   "cell_type": "code",
   "execution_count": 2,
   "metadata": {},
   "outputs": [],
   "source": [
    "using Newtonsoft.Json.Linq;\n",
    "using Refinitiv.Data.Content.SearchService;\n",
    "using Refinitiv.Data.Core;\n",
    "using Microsoft.Data.Analysis;\n",
    "using Microsoft.AspNetCore.Html;\n",
    "using System.Data;\n",
    "using System;\n",
    "using Microsoft.DotNet.Interactive.Formatting;\n",
    "using static Microsoft.DotNet.Interactive.Formatting.PocketViewTags;"
   ]
  },
  {
   "cell_type": "markdown",
   "metadata": {
    "tags": []
   },
   "source": [
    "#### Table Output\n",
    "Helper routine to output data in a table format."
   ]
  },
  {
   "cell_type": "code",
   "execution_count": 3,
   "metadata": {},
   "outputs": [],
   "source": [
    "Formatter.Register<DataTable>((dt, writer) =>\n",
    "{\n",
    "    if (dt.Columns.Count > 0)\n",
    "    {\n",
    "        var rows = new List<ICollection<IHtmlContent>>();\n",
    "\n",
    "        // Process Each data row\n",
    "        foreach(var row in dt.Rows.Cast<DataRow>())\n",
    "        {\n",
    "            var cells = new List<IHtmlContent>();\n",
    "            foreach (var cell in row.ItemArray)\n",
    "            {\n",
    "                switch (cell)\n",
    "                {\n",
    "                    case null:\n",
    "                        break;\n",
    "                    case JValue val:\n",
    "                        cells.Add(td(val.ToString()));\n",
    "                        break;\n",
    "                    case IEnumerable<JToken> list:\n",
    "                        cells.Add(td($\"[{string.Join(\", \", list.Select(node => $\"{node}\"))}]\"));\n",
    "                        break;\n",
    "                    default:\n",
    "                        cells.Add(td(cell));\n",
    "                        break;\n",
    "                }                \n",
    "            }\n",
    "            rows.Add(cells);\n",
    "        }\n",
    "        \n",
    "        // Header\n",
    "        var headers = new List<IHtmlContent>();\n",
    "        foreach (DataColumn col in dt.Columns)\n",
    "            headers.Add(th(col.ColumnName) as IHtmlContent);\n",
    "\n",
    "        var t = table(thead(headers), tbody(rows.Select(r => tr(r))));\n",
    "        writer.Write(t);\n",
    "    }\n",
    "}, \"text/html\");"
   ]
  },
  {
   "cell_type": "code",
   "execution_count": 4,
   "metadata": {},
   "outputs": [
    {
     "name": "stdout",
     "output_type": "stream",
     "text": [
      "24/01/2022 11:59:59 AM:DesktopSession. (State: DesktopSession is Pending)\n",
      "24/01/2022 11:59:59 AM:DesktopSession. (Event: {\n",
      "  \"Contents\": \"Desktop Session Successfully Authenticated\"\n",
      "})\n",
      "24/01/2022 11:59:59 AM:DesktopSession. (State: DesktopSession is Opened)\n"
     ]
    }
   ],
   "source": [
    "// Create a session into the desktop\n",
    "DesktopSession.Definition().GetSession().OnState((s, state, msg) => Console.WriteLine($\"{DateTime.Now}:{msg}. (State: {state})\"))\n",
    "                                        .OnEvent((s, eventCode, msg) => Console.WriteLine($\"{DateTime.Now}:{msg}. (Event: {eventCode})\"))\n",
    "                                        .Open();"
   ]
  },
  {
   "cell_type": "markdown",
   "metadata": {},
   "source": [
    "#### Example - Property values\n",
    "The most basic usage of navigators is to determine the available values within a given Property.  For example, when searching for assets, we may want to narrow down the specific country an asset is traded in.  We can determine the available countries to work with."
   ]
  },
  {
   "cell_type": "code",
   "execution_count": 5,
   "metadata": {
    "scrolled": true
   },
   "outputs": [
    {
     "name": "stdout",
     "output_type": "stream",
     "text": [
      "[\n",
      "  {\n",
      "    \"Label\": \"United States\",\n",
      "    \"Count\": 12760859\n",
      "  },\n",
      "  {\n",
      "    \"Label\": \"Eurobond\",\n",
      "    \"Count\": 4190317\n",
      "  },\n",
      "  {\n",
      "    \"Label\": \"China (Mainland)\",\n",
      "    \"Count\": 1250728\n",
      "  },\n",
      "  {\n",
      "    \"Label\": \"Colombia\",\n",
      "    \"Count\": 1017866\n",
      "  },\n",
      "  {\n",
      "    \"Label\": \"South Korea\",\n",
      "    \"Count\": 563935\n",
      "  },\n",
      "  {\n",
      "    \"Label\": \"Germany\",\n",
      "    \"Count\": 483625\n",
      "  },\n",
      "  {\n",
      "    \"Label\": \"Canada\",\n",
      "    \"Count\": 406767\n",
      "  },\n",
      "  {\n",
      "    \"Label\": \"France\",\n",
      "    \"Count\": 246619\n",
      "  },\n",
      "  {\n",
      "    \"Label\": \"India\",\n",
      "    \"Count\": 198069\n",
      "  },\n",
      "  {\n",
      "    \"Label\": \"Japan\",\n",
      "    \"Count\": 163721\n",
      "  },\n",
      "  {\n",
      "    \"Label\": \"Italy\",\n",
      "    \"Count\": 134978\n",
      "  },\n",
      "  {\n",
      "    \"Label\": \"Chile\",\n",
      "    \"Count\": 131886\n",
      "  },\n",
      "  {\n",
      "    \"Label\": \"Australia\",\n",
      "    \"Count\": 103792\n",
      "  },\n",
      "  {\n",
      "    \"Label\": \"Switzerland\",\n",
      "    \"Count\": 65643\n",
      "  },\n",
      "  {\n",
      "    \"Label\": \"Brazil\",\n",
      "    \"Count\": 65338\n",
      "  },\n",
      "  {\n",
      "    \"Label\": \"Russia\",\n",
      "    \"Count\": 61983\n",
      "  },\n",
      "  {\n",
      "    \"Label\": \"Spain\",\n",
      "    \"Count\": 61924\n",
      "  },\n",
      "  {\n",
      "    \"Label\": \"Austria\",\n",
      "    \"Count\": 58191\n",
      "  },\n",
      "  {\n",
      "    \"Label\": \"Norway\",\n",
      "    \"Count\": 57549\n",
      "  },\n",
      "  {\n",
      "    \"Label\": \"United Kingdom\",\n",
      "    \"Count\": 55343\n",
      "  }\n",
      "]\n"
     ]
    }
   ],
   "source": [
    "// The following will list the countries assets are listed.  We can use this output to filter based on a specific country.\n",
    "var response = Search.Definition(Search.View.SearchAll).Top(0)\n",
    "                                                       .Navigators(\"RCSCountryLeaf(buckets:20)\")  // Show the top 20\n",
    "                                                       .GetData();\n",
    "Console.WriteLine(response.Data.Navigators[\"RCSCountryLeaf\"][\"Buckets\"]);"
   ]
  },
  {
   "cell_type": "markdown",
   "metadata": {},
   "source": [
    "#### Example - Vessels\n",
    "If I want to perform a basic search for tankers and capture the Hull Types, I could start with the following basic query:"
   ]
  },
  {
   "cell_type": "code",
   "execution_count": 7,
   "metadata": {},
   "outputs": [
    {
     "data": {
      "text/html": [
       "<table><thead><th>DocumentTitle</th><th>HullType</th></thead><tbody><tr><td>MOZAH, Liquefied Natural Gas; LNG Tanker, NAKILAT SHIPPING QATAR LTD, South China Sea|Manila Tanker Zone</td><td>Single Hull</td></tr><tr><td>UMM SLAL, LNG Tanker, NAKILAT SHIPPING QATAR LTD, South China Sea|Canton Tanker Zone</td><td>Single Hull</td></tr><tr><td>BU SAMRA, LNG Tanker, NAKILAT SHIPPING QATAR LTD, West Indian Ocean|Colombo Tanker Zone</td><td>Single Hull</td></tr><tr><td>AL MAYEDA, LNG Tanker, STASCO SHIP MANAGEMENT, East China Sea|Korea Tanker Zone</td><td>Single Hull</td></tr><tr><td>MEKAINES, LNG Tanker, NAKILAT SHIPPING QATAR LTD, North Atlantic Ocean|Bilbao Tanker Zone</td><td>Single Hull</td></tr><tr><td>AL MAFYAR, LNG Tanker, NAKILAT SHIPPING QATAR LTD, Gulf of Oman|Arabian Gulf Tanker Zone</td><td>Single Hull</td></tr><tr><td>SHAGRA, Liquefied Natural Gas; LNG Tanker, QATARGAS LIQUEFIED GAS CO LTD, Gulf of Oman|Arabian Gulf Tanker Zone</td><td>Single Hull</td></tr><tr><td>ZARGA, Liquefied Natural Gas; LNG Tanker, QATAR GAS TRANSPORT - NAKILAT, East China Sea|Shanghai Tanker Zone</td><td>Single Hull</td></tr><tr><td>AAMIRA, Liquefied Natural Gas; LNG Tanker, STASCO SHIP MANAGEMENT, Red Sea|Yanbu Tanker Zone</td><td>Single Hull</td></tr><tr><td>RASHEEDA, LNG Tanker, QATARGAS LIQUEFIED GAS CO LTD, Arabia Sea</td><td>Single Hull</td></tr><tr><td>AL DAFNA, LNG Tanker, NAKILAT SHIPPING QATAR LTD. (NSQL), South China Sea|Thailand Tanker Zone</td><td>Single Hull</td></tr><tr><td>MOL FSRU CHALLENGER, LNG Tanker, MITSUI OSK LINES LTD, East Atlantic Ocean (Africa)|Gibraltar Tanker Zone</td><td>Double Hull</td></tr><tr><td>AL.GHUWAIRIYA, Liquefied Natural Gas; LNG Tanker, NAKILAT SHIPPING QATAR LTD, Gulf of Oman|Arabian Gulf Tanker Zone</td><td>Single Hull</td></tr><tr><td>LIJMILIYA, LNG Tanker, NAKILAT SHIPPING QATAR LTD, East Indian Ocean</td><td>Single Hull</td></tr><tr><td>AL SAMRIYA, Liquefied Natural Gas; LNG Tanker, NAKILAT SHIPPING QATAR LTD, Arabia Sea|Arabian Gulf Tanker Zone</td><td>Single Hull</td></tr><tr><td>CORAL-SUL FLNG, LNG Tanker, ENI SPA, West Indian Ocean|East Africa Tanker Zone</td><td><div class=\"dni-plaintext\"></div></td></tr><tr><td>AL GATTARA, LNG Tanker, NAKILAT SHIPPING QATAR LTD, East Indian Ocean</td><td>Single Hull</td></tr><tr><td>AL GHARRAFA, Liquefied Natural Gas; LNG Tanker, NAKILAT SHIPPING QATAR LTD, Gulf of Oman|Arabian Gulf Tanker Zone</td><td>Single Hull</td></tr><tr><td>MESAIMEER, Liquefied Natural Gas; LNG Tanker, NAKILAT SHIPPING QATAR LTD, Java Sea|Singapore Tanker Zone</td><td>Single Hull</td></tr><tr><td>TEMBEK, LNG Tanker, NAKILAT SHIPPING QATAR LTD, Gulf of Aden|Aden Tanker Zone</td><td>Double Hull</td></tr><tr><td>AL HAMLA, LNG Tanker, NAKILAT SHIPPING QATAR LTD, West Indian Ocean|West Coast India Tanker Zone</td><td>Single Hull</td></tr><tr><td>AL THUMAMA, LNG Tanker, NYK LNG UK, Arabia Sea|West Coast India Tanker Zone</td><td>Double Hull</td></tr><tr><td>ALSAHLA, LNG Tanker, NYK LNG UK, Java Sea|Singapore Tanker Zone|Singapore Strait Waypoint|Singapore</td><td>Single Hull</td></tr><tr><td>AL UTOURIYA, LNG Tanker, NYK LNG UK, Gulf of Oman|Arabian Gulf Tanker Zone</td><td>Single Hull</td></tr><tr><td>AL HUWAILA, LNG Tanker, TEEKAY SHIPPING GLASGOW LTD, South China Sea|Thailand Tanker Zone</td><td>Single Hull</td></tr><tr><td>AL KHARSAAH, Liquefied Natural Gas; LNG Tanker, TEEKAY SHIPPING GLASGOW LTD, Gulf of Oman|Arabian Gulf Tanker Zone</td><td>Double Hull</td></tr><tr><td>LNGC AL SHAMAL, Liquefied Natural Gas; LNG Tanker, TEEKAY SHIPPING GLASGOW LTD, West Med|Gibraltar Tanker Zone</td><td>Single Hull</td></tr><tr><td>AL KHUWAIR, LNG Tanker, TEEKAY SHIPPING GLASGOW LTD, East Med Sea|Suez Canal Tanker Zone|Suez Canal Waypoint</td><td>Single Hull</td></tr><tr><td>AL GHASHAMIYA, Liquefied Natural Gas; LNG Tanker, QATARGAS LIQUEFIED GAS CO LTD, Gulf of Aden|Aden Tanker Zone</td><td>Single Hull</td></tr><tr><td>AL KHARAITIYAT, Liquefied Natural Gas; LNG Tanker, NAKILAT SHIPPING QATAR LTD, South China Sea|Canton Tanker Zone</td><td>Single Hull</td></tr><tr><td>AL REKAYYAT, LNG Tanker, NAKILAT SHIPPING QATAR LTD, Java Sea|Singapore Tanker Zone</td><td>Single Hull</td></tr><tr><td>AL RUWAIS, LNG Tanker, PRONAV SHIP MANAGEMENT GMBH, West Indian Ocean|South Africa Tanker Zone</td><td>Single Hull</td></tr><tr><td>AL SAFLIYA, LNG Tanker, PRONAV SHIP MANAGEMENT GMBH, East China Sea|Korea Tanker Zone</td><td>Single Hull</td></tr><tr><td>AL GHARIYA, Liquefied Natural Gas; LNG Tanker, PRONAV SHIP MANAGEMENT GMBH, East China Sea|Shanghai Tanker Zone</td><td>Single Hull</td></tr><tr><td>DUHAIL, Liquefied Natural Gas; LNG Tanker, PRONAV SHIP MANAGEMENT GMBH, South Atlantic Ocean</td><td>Single Hull</td></tr><tr><td>AL AAMRIYA, Liquefied Natural Gas; LNG Tanker, MITSUI OSK LINES LTD, East China Sea|Korea Tanker Zone</td><td>Double Hull</td></tr><tr><td>AL ORAIQ, LNG Tanker, K LINE LNG SHIPPING UK LTD, Gulf of Oman|Arabian Gulf Tanker Zone</td><td>Single Hull</td></tr><tr><td>MURWAB, Liquefied Natural Gas; LNG Tanker, MITSUI OSK LINES LTD, North Pacific Ocean (Japan)|Taiwan Tanker Zone</td><td>Single Hull</td></tr><tr><td>FRAIHA, Liquefied Natural Gas; LNG Tanker, MITSUI OSK LINES LTD, Ionian Sea|Malta Tanker Zone</td><td>Single Hull</td></tr><tr><td>UMM AL AMAD, LNG Tanker, K LINE LNG SHIPPING UK LTD, Java Sea|Singapore Tanker Zone</td><td>Single Hull</td></tr><tr><td>AL SHEEHANIYA, LNG Tanker, STASCO SHIP MANAGEMENT, Gulf of Oman|Arabian Gulf Tanker Zone</td><td>Single Hull</td></tr><tr><td>AL SADD, Liquefied Natural Gas; LNG Tanker, NAKILAT SHIPPING QATAR LTD, West Indian Ocean|West Coast India Tanker Zone</td><td>Single Hull</td></tr><tr><td>ONAIZA, Liquefied Natural Gas; LNG Tanker, STASCO SHIP MANAGEMENT, Java Sea|Singapore Tanker Zone</td><td>Single Hull</td></tr><tr><td>AL KHATTIYA, LNG Tanker, STASCO SHIP MANAGEMENT, West Med|West Med Tanker Zone</td><td>Single Hull</td></tr><tr><td>AL KARAANA, Liquefied Natural Gas; LNG Tanker, STASCO SHIP MANAGEMENT, Red Sea|Suez Canal Tanker Zone</td><td>Single Hull</td></tr><tr><td>AL NUAMAN, LNG Tanker, STASCO SHIP MANAGEMENT, Arabia Sea</td><td>Single Hull</td></tr><tr><td>AL BAHIYA, Liquefied Natural Gas; LNG Tanker, STASCO SHIP MANAGEMENT, Borneo Sea|Singapore Tanker Zone</td><td>Single Hull</td></tr><tr><td>SK RESOLUTE, Liquefied Natural Gas; LNG Tanker, SK SHIPPING CO LTD-KRS, West Atlantic Ocean (Americas)</td><td>Double Hull</td></tr><tr><td>SK AUDACE, Liquefied Natural Gas; LNG Tanker, SK SHIPPING CO LTD-KRS, West Atlantic Ocean (Americas)</td><td>Double Hull</td></tr><tr><td>PRISM BRILLIANCE, LNG Tanker, SK SHIPPING CO LTD-KRS, East China Sea|Korea Tanker Zone</td><td><div class=\"dni-plaintext\"></div></td></tr><tr><td>PRISM AGILITY, Liquefied Natural Gas; LNG Tanker, HHIENS1 SHIPHOLDING SA, Pacific Ocean (Central America)|West Mexico Tanker Zone</td><td><div class=\"dni-plaintext\"></div></td></tr><tr><td>RIAS BAIXAS KNUTSEN, LNG Tanker, East Atlantic Ocean (Africa)|Tenerife Tanker Zone</td><td>Double Hull</td></tr><tr><td>TRAIANO KNUTSEN, LNG Tanker, West Atlantic Ocean (Americas)|US Atlantic Coast Tanker Zone</td><td><div class=\"dni-plaintext\"></div></td></tr><tr><td>CELSIUS COPENHAGEN, LNG Tanker, Gulf of Mexico|US Gulf Tanker Zone</td><td><div class=\"dni-plaintext\"></div></td></tr><tr><td>CELSIUS CANBERRA, Liquefied Natural Gas; LNG Tanker, East Atlantic Ocean (Africa)|Gibraltar Tanker Zone</td><td><div class=\"dni-plaintext\"></div></td></tr><tr><td>ADRIANO KNUTSEN, Liquefied Natural Gas; LNG Tanker, West Atlantic Ocean (Americas)|Bahamas Tanker Zone</td><td>Double Hull</td></tr><tr><td>CELSIUS CHARLOTTE, LNG Tanker, South Atlantic Ocean</td><td><div class=\"dni-plaintext\"></div></td></tr><tr><td>CELSIUS CAROLINA, LNG Tanker, West Atlantic Ocean (Americas)</td><td><div class=\"dni-plaintext\"></div></td></tr><tr><td>VASANT 1, LNG Tanker, Gulf of Guinea|West Africa Tanker Zone|Ghana</td><td><div class=\"dni-plaintext\"></div></td></tr><tr><td>PRISM COURAGE, LNG Tanker, Red Sea|Aden Tanker Zone</td><td><div class=\"dni-plaintext\"></div></td></tr><tr><td>ENERGY HORIZON, LNG Tanker, NIPPON YUSEN KAISHA, East Indian Ocean|Dampier Tanker Zone</td><td><div class=\"dni-plaintext\"></div></td></tr><tr><td>CASTILLO DE CALDELAS, LNG Tanker, EMPRESA NAVIERA ELCANO SA, Ionian Sea|Malta Tanker Zone</td><td>Double Hull</td></tr><tr><td>MARVEL CRANE, LNG Tanker, East Atlantic Ocean (Africa)</td><td>Double Hull</td></tr><tr><td>LNG SCHNEEWEISSCHEN, LNG Tanker, MOL LNG TRANSPORT EUROPE LTD, English Channel|UK Continent Tanker Zone|ARA Tanker Zone</td><td>Double Hull</td></tr><tr><td>MU LAN, Liquefied Natural Gas; LNG Tanker, North Pacific Ocean (Japan)</td><td><div class=\"dni-plaintext\"></div></td></tr><tr><td>GUI YING, LNG Tanker, CSSC HONG KONG SHIPPING, Java Sea|Singapore Tanker Zone</td><td><div class=\"dni-plaintext\"></div></td></tr><tr><td>TENERGY, Liquefied Natural Gas; LNG Tanker, East Indian Ocean|Colombo Tanker Zone</td><td><div class=\"dni-plaintext\"></div></td></tr><tr><td>LNG SAKURA, LNG Tanker, NYK LNG SHIPMANAGEMENT LTD, East Atlantic Ocean (Africa)</td><td>Double Hull</td></tr><tr><td>CASTILLO DE MERIDA, Liquefied Natural Gas; LNG Tanker, EMPRESA NAVIERA ELCANO SA, English Channel|UK Continent Tanker Zone</td><td>Double Hull</td></tr><tr><td>MARVEL HERON, Liquefied Natural Gas; LNG Tanker, Pacific Ocean (Central America)|Hawaii Tanker Zone</td><td>Double Hull</td></tr><tr><td>SHINSHU MARU, Liquefied Natural Gas; LNG Tanker, South China Sea|Thailand Tanker Zone</td><td><div class=\"dni-plaintext\"></div></td></tr><tr><td>GASLOG WARSAW, LNG Tanker, East Atlantic Ocean (Africa)</td><td>Double Hull</td></tr><tr><td>GASLOG WINDSOR, LNG Tanker, East Atlantic Ocean (Africa)|Gibraltar Tanker Zone</td><td>Double Hull</td></tr><tr><td>NOHSHU MARU, LNG Tanker, West Atlantic Ocean (Americas)|Bahamas Tanker Zone</td><td><div class=\"dni-plaintext\"></div></td></tr><tr><td>LNG JUNO, LNG Tanker, West Indian Ocean|West Coast India Tanker Zone</td><td>Double Hull</td></tr><tr><td>BUSHU MARU, Liquefied Natural Gas; LNG Tanker, Pacific Ocean (Central America)|Panama Tanker Zone</td><td><div class=\"dni-plaintext\"></div></td></tr><tr><td>GASLOG WALES, Liquefied Natural Gas; LNG Tanker, Pacific Ocean (Central America)|Panama Tanker Zone</td><td><div class=\"dni-plaintext\"></div></td></tr><tr><td>LNG ROSENROT, LNG Tanker, English Channel|UK Continent Tanker Zone</td><td><div class=\"dni-plaintext\"></div></td></tr><tr><td>GAIL BHUWAN, Liquefied Natural Gas; LNG Tanker, Gulf of Lyon|Fos sur Mer Tanker Zone</td><td><div class=\"dni-plaintext\"></div></td></tr><tr><td>MOL HESTIA, LNG Tanker, West Atlantic Ocean (Americas)</td><td><div class=\"dni-plaintext\"></div></td></tr><tr><td>GIGIRA LAITEBO, Liquefied Natural Gas; LNG Tanker, MITSUI OSK BULK SHIPPING (EUROPE) LTD, North Pacific Ocean (Japan)|Japan Tanker Zone</td><td>Double Hull</td></tr><tr><td>SPIRIT OF HELA, LNG Tanker, MITSUI OSK LINES LTD, Coral Sea|Kumul Marine Terminal Tanker Zone</td><td>Single Hull</td></tr><tr><td>GRACE DAHLIA, LNG Tanker, NYK LINE, West Atlantic Ocean (Americas)|Bahamas Tanker Zone|Providence Channel Waypoint</td><td>Double Hull</td></tr><tr><td>CESI TIANJIN, Liquefied Natural Gas; LNG Tanker, CHINA ENERGY SHIP MANAGEMENT, North Pacific Ocean (Japan)|Japan Tanker Zone</td><td><div class=\"dni-plaintext\"></div></td></tr><tr><td>CESI WENZHOU, Liquefied Natural Gas; LNG Tanker, CHINA ENERGY SHIP MANAGEMENT, Pacific Ocean (Oceania)|Guam Tanker Zone</td><td><div class=\"dni-plaintext\"></div></td></tr><tr><td>MARAN GAS PERICLES, LNG Tanker, MARAN GAS MARITIME INC, East Atlantic Ocean (Africa)</td><td>Double Hull</td></tr><tr><td>FLEX RANGER, Liquefied Natural Gas; LNG Tanker, FLEX LNG MANAGEMENT, East Atlantic Ocean (Africa)|Gibraltar Tanker Zone</td><td>Double Hull</td></tr><tr><td>FLEX RAINBOW, LNG Tanker, FLEX LNG MANAGEMENT, Gulf of Oman|Arabian Gulf Tanker Zone</td><td>Double Hull</td></tr><tr><td>LA MANCHA KNUTSEN, LNG Tanker, KNUTSEN OAS SHIPPING AS, Gulf of Mexico|US Gulf Tanker Zone</td><td>Double Hull</td></tr><tr><td>RIOJA KNUTSEN, LNG Tanker, KNUTSEN OAS SHIPPING AS, South Atlantic Ocean</td><td>Double Hull</td></tr><tr><td>CESI LIANYUNGANG, LNG Tanker, CHINA ENERGY SHIP MANAGEMENT, South China Sea|Canton Tanker Zone</td><td>Double Hull</td></tr><tr><td>MARAN GAS LETO, LNG Tanker, MARAN GAS MARITIME INC, Pacific Ocean (Oceania)</td><td>Double Hull</td></tr><tr><td>LNG LAGOS II, LNG Tanker, NIGERIA LNG LTD, South China Sea|Canton Tanker Zone</td><td>Double Hull</td></tr><tr><td>EXPERIENCE, LNG Tanker, EXCELERATE ENERGY LP, Brazil|Rio de Janeiro|South Atlantic Ocean|Rio de Janeiro Tanker Zone</td><td>Double Hull</td></tr><tr><td>MARIA ENERGY, Liquefied Natural Gas; LNG Tanker, TSAKOS ENERGY NAVIGATION LTD (TEN), North Atlantic Ocean</td><td>Double Hull</td></tr><tr><td>CESI GLADSTONE, LNG Tanker, CHINA ENERGY SHIP MANAGEMENT, Coral Sea|Townsville Tanker Zone</td><td><div class=\"dni-plaintext\"></div></td></tr><tr><td>CESI QINGDAO, LNG Tanker, CHINA ENERGY SHIP MANAGEMENT, Queensland|Australia|Coral Sea|Brisbane Tanker Zone</td><td><div class=\"dni-plaintext\"></div></td></tr><tr><td>CESI BEIHAI, Liquefied Natural Gas; LNG Tanker, CHINA ENERGY SHIP MANAGEMENT, Bismarck Sea|Kumul Marine Terminal Tanker Zone</td><td>Double Hull</td></tr><tr><td>GASLOG GREECE, Liquefied Natural Gas; LNG Tanker, GASLOG LNG SERVICES LTD, West Atlantic Ocean (Americas)</td><td><div class=\"dni-plaintext\"></div></td></tr><tr><td>GASLOG GLASGOW, Liquefied Natural Gas; LNG Tanker, GASLOG LNG SERVICES LTD, East Med Sea|Malta Tanker Zone</td><td><div class=\"dni-plaintext\"></div></td></tr></tbody></table>"
      ]
     },
     "execution_count": 7,
     "metadata": {},
     "output_type": "execute_result"
    }
   ],
   "source": [
    "response = Search.Definition(Search.View.VesselPhysicalAssets).Query(\"tanker\")\n",
    "                                                              .Select(\"DocumentTitle, HullType\")\n",
    "                                                              .Top(100)\n",
    "                                                              .GetData();\n",
    "response.Data.Table"
   ]
  },
  {
   "cell_type": "markdown",
   "metadata": {
    "tags": []
   },
   "source": [
    "Here, we can see a list of the different tankers and their Hull Types. Within this collection, while I can clearly see there are 2 different Hull Types: \"Single\" and \"Double\", I'm also seeing duplicates.  Instead of going through the effort to process the above result to pull out the unique list of Hull Types, I will instead use a Navigator - which was designed to do this work for me.\n",
    "\n",
    "Using the above query, I will apply a Navigator by selecting the 'HullType' Property.  What this does is instruct search to bucket all unique Hull Types and summarize the total found for each. To capture the results, I will need to utilize the Content Layer API call."
   ]
  },
  {
   "cell_type": "code",
   "execution_count": 8,
   "metadata": {},
   "outputs": [
    {
     "name": "stdout",
     "output_type": "stream",
     "text": [
      "[\n",
      "  {\n",
      "    \"Label\": \"Double Hull\",\n",
      "    \"Count\": 16686\n",
      "  },\n",
      "  {\n",
      "    \"Label\": \"Single Hull\",\n",
      "    \"Count\": 5431\n",
      "  }\n",
      "]\n"
     ]
    }
   ],
   "source": [
    "response = Search.Definition(Search.View.VesselPhysicalAssets).Query(\"tanker\")\n",
    "                                                              .Top(0)  // Only interested in Navigator details\n",
    "                                                              .Navigators(\"HullType\")\n",
    "                                                              .GetData();\n",
    "Console.WriteLine(response.Data.Navigators[\"HullType\"][\"Buckets\"]);"
   ]
  },
  {
   "cell_type": "markdown",
   "metadata": {},
   "source": [
    "#### Example - Listing of exchanges per asset category\n",
    "In the following example, I'm going to list the top 3 asset types in Canada and for each, display the top 2 exchanges trading on those assets."
   ]
  },
  {
   "cell_type": "code",
   "execution_count": 9,
   "metadata": {},
   "outputs": [],
   "source": [
    "// Filter on all active (AC) assets within Canada\n",
    "var filter = \"AssetState eq 'AC' and RCSExchangeCountryLeaf eq 'Canada'\";\n",
    "\n",
    "// For the top 3 categories, show the top 2 exchanges\n",
    "var navigators = \"RCSAssetCategoryLeaf(buckets:3, sub:ExchangeName(buckets:2))\"; \n",
    "\n",
    "response = Search.Definition(Search.View.EquityQuotes).Filter(filter)\n",
    "                                                      .Navigators(navigators)\n",
    "                                                      .Top(0)\n",
    "                                                      .GetData();"
   ]
  },
  {
   "cell_type": "code",
   "execution_count": 10,
   "metadata": {},
   "outputs": [
    {
     "name": "stdout",
     "output_type": "stream",
     "text": [
      "1. Equity Cash Option\n",
      "\t1. Montreal Options Exchange (110608)\n",
      "\t2. Refinitiv (17007)\n",
      "2. Ordinary Share\n",
      "\t1. Aequitas NEO-L (3472)\n",
      "\t2. Aequitas NEO-N (3471)\n",
      "3. Equity Future Spread\n",
      "\t1. Montreal Exchange (6587)\n",
      "\t2. Montreal Options Exchange (17)\n"
     ]
    }
   ],
   "source": [
    "// Pretty display of the listing\n",
    "var rank = 1;\n",
    "var exchangeRank = 1;\n",
    "foreach (var asset in response.Data.Navigators[\"RCSAssetCategoryLeaf\"][\"Buckets\"])\n",
    "{\n",
    "    Console.WriteLine($\"{rank++}. {asset[\"Label\"]}\");\n",
    "    foreach (var exchange in asset[\"ExchangeName\"][\"Buckets\"])\n",
    "        Console.WriteLine($\"\\t{exchangeRank++}. {exchange[\"Label\"]} ({exchange[\"Count\"]})\");\n",
    "    exchangeRank = 1;\n",
    "}"
   ]
  },
  {
   "cell_type": "markdown",
   "metadata": {},
   "source": [
    "#### Example - Outstanding Government debt in the last 3 months.\n",
    "In this example, I will be using some nested expressions to summarize categories within the buckets I collect.  Specifically, I'm looking for government debt ('govt') issued any time after 3-months ago using the following filter:\n",
    "- \"DBType eq 'govt' and IssueDate gt today-3months\" (DBType identifies government debt)\n",
    "    \n",
    "Based on the result set, I want categorize or create buckets (top 5) based on the domicile of the issuer.  For each domicile, sum the outstanding debt and also include the maximum coupon rate for each one.\n",
    "- RCSDomicileLeaf(buckets:5, desc:sum_FaceOutstandingUSD, calc:max_CouponRate)"
   ]
  },
  {
   "cell_type": "code",
   "execution_count": 11,
   "metadata": {},
   "outputs": [],
   "source": [
    "// Get date N months ago\n",
    "var date = DateTime.Now.AddMonths(-3);  // Last 3 months"
   ]
  },
  {
   "cell_type": "code",
   "execution_count": 12,
   "metadata": {},
   "outputs": [
    {
     "name": "stdout",
     "output_type": "stream",
     "text": [
      "[\n",
      "  {\n",
      "    \"Label\": \"United States\",\n",
      "    \"Count\": 84,\n",
      "    \"max_CouponRate\": 2.0,\n",
      "    \"sum_FaceOutstandingUSD\": 2612737524500.0\n",
      "  },\n",
      "  {\n",
      "    \"Label\": \"Japan\",\n",
      "    \"Count\": 56,\n",
      "    \"max_CouponRate\": 0.7,\n",
      "    \"sum_FaceOutstandingUSD\": 981566649779.0\n",
      "  },\n",
      "  {\n",
      "    \"Label\": \"China (Mainland)\",\n",
      "    \"Count\": 38,\n",
      "    \"max_CouponRate\": 2.89,\n",
      "    \"sum_FaceOutstandingUSD\": 211723424088.0\n",
      "  },\n",
      "  {\n",
      "    \"Label\": \"Singapore\",\n",
      "    \"Count\": 47,\n",
      "    \"max_CouponRate\": 1.25,\n",
      "    \"sum_FaceOutstandingUSD\": 172869794457.0\n",
      "  },\n",
      "  {\n",
      "    \"Label\": \"Hong Kong\",\n",
      "    \"Count\": 45,\n",
      "    \"max_CouponRate\": 3.0,\n",
      "    \"sum_FaceOutstandingUSD\": 123165495773.0\n",
      "  }\n",
      "]\n"
     ]
    }
   ],
   "source": [
    "// Retrieve the top 5 outstanding government debt in the last 3 months\n",
    "filter = $\"DbType eq 'govt' and IssueDate gt {date:yyyy-MM-dd}\";\n",
    "navigators = \"RCSDomicileLeaf(buckets:5, desc:sum_FaceOutstandingUSD, calc:max_CouponRate)\";\n",
    "\n",
    "response = Search.Definition(Search.View.GovCorpInstruments).Filter(filter)\n",
    "                                                            .Navigators(navigators)\n",
    "                                                            .Top(0)\n",
    "                                                            .GetData();\n",
    "Console.WriteLine(response.Data.Navigators[\"RCSDomicileLeaf\"][\"Buckets\"]);"
   ]
  },
  {
   "cell_type": "code",
   "execution_count": null,
   "metadata": {},
   "outputs": [],
   "source": []
  }
 ],
 "metadata": {
  "kernelspec": {
   "display_name": ".NET (C#)",
   "language": "C#",
   "name": ".net-csharp"
  },
  "language_info": {
   "file_extension": ".cs",
   "mimetype": "text/x-csharp",
   "name": "C#",
   "pygments_lexer": "csharp",
   "version": "9.0"
  }
 },
 "nbformat": 4,
 "nbformat_minor": 4
}
