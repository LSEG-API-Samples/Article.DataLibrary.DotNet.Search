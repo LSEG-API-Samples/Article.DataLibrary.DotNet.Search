{
 "cells": [
  {
   "cell_type": "markdown",
   "metadata": {},
   "source": [
    "## Query\n",
    "The most basic search that can be performed is the query.  The query is a free-formed text expression, similar to the type of query you can perform within Google, matching against documents within the specified view."
   ]
  },
  {
   "cell_type": "markdown",
   "metadata": {},
   "source": [
    "#### NuGet Packages"
   ]
  },
  {
   "cell_type": "code",
   "execution_count": 1,
   "metadata": {},
   "outputs": [
    {
     "data": {
      "text/html": [
       "\r\n",
       "<div>\r\n",
       "    <div id='dotnet-interactive-this-cell-26976.Microsoft.DotNet.Interactive.Http.HttpPort' style='display: none'>\r\n",
       "        The below script needs to be able to find the current output cell; this is an easy method to get it.\r\n",
       "    </div>\r\n",
       "    <script type='text/javascript'>\r\n",
       "async function probeAddresses(probingAddresses) {\r\n",
       "    function timeout(ms, promise) {\r\n",
       "        return new Promise(function (resolve, reject) {\r\n",
       "            setTimeout(function () {\r\n",
       "                reject(new Error('timeout'))\r\n",
       "            }, ms)\r\n",
       "            promise.then(resolve, reject)\r\n",
       "        })\r\n",
       "    }\r\n",
       "\r\n",
       "    if (Array.isArray(probingAddresses)) {\r\n",
       "        for (let i = 0; i < probingAddresses.length; i++) {\r\n",
       "\r\n",
       "            let rootUrl = probingAddresses[i];\r\n",
       "\r\n",
       "            if (!rootUrl.endsWith('/')) {\r\n",
       "                rootUrl = `${rootUrl}/`;\r\n",
       "            }\r\n",
       "\r\n",
       "            try {\r\n",
       "                let response = await timeout(1000, fetch(`${rootUrl}discovery`, {\r\n",
       "                    method: 'POST',\r\n",
       "                    cache: 'no-cache',\r\n",
       "                    mode: 'cors',\r\n",
       "                    timeout: 1000,\r\n",
       "                    headers: {\r\n",
       "                        'Content-Type': 'text/plain'\r\n",
       "                    },\r\n",
       "                    body: probingAddresses[i]\r\n",
       "                }));\r\n",
       "\r\n",
       "                if (response.status == 200) {\r\n",
       "                    return rootUrl;\r\n",
       "                }\r\n",
       "            }\r\n",
       "            catch (e) { }\r\n",
       "        }\r\n",
       "    }\r\n",
       "}\r\n",
       "\r\n",
       "function loadDotnetInteractiveApi() {\r\n",
       "    probeAddresses([\"http://192.168.0.6:2053/\", \"http://127.0.0.1:2053/\"])\r\n",
       "        .then((root) => {\r\n",
       "        // use probing to find host url and api resources\r\n",
       "        // load interactive helpers and language services\r\n",
       "        let dotnetInteractiveRequire = require.config({\r\n",
       "        context: '26976.Microsoft.DotNet.Interactive.Http.HttpPort',\r\n",
       "                paths:\r\n",
       "            {\r\n",
       "                'dotnet-interactive': `${root}resources`\r\n",
       "                }\r\n",
       "        }) || require;\r\n",
       "\r\n",
       "            window.dotnetInteractiveRequire = dotnetInteractiveRequire;\r\n",
       "\r\n",
       "            window.configureRequireFromExtension = function(extensionName, extensionCacheBuster) {\r\n",
       "                let paths = {};\r\n",
       "                paths[extensionName] = `${root}extensions/${extensionName}/resources/`;\r\n",
       "                \r\n",
       "                let internalRequire = require.config({\r\n",
       "                    context: extensionCacheBuster,\r\n",
       "                    paths: paths,\r\n",
       "                    urlArgs: `cacheBuster=${extensionCacheBuster}`\r\n",
       "                    }) || require;\r\n",
       "\r\n",
       "                return internalRequire\r\n",
       "            };\r\n",
       "        \r\n",
       "            dotnetInteractiveRequire([\r\n",
       "                    'dotnet-interactive/dotnet-interactive'\r\n",
       "                ],\r\n",
       "                function (dotnet) {\r\n",
       "                    dotnet.init(window);\r\n",
       "                },\r\n",
       "                function (error) {\r\n",
       "                    console.log(error);\r\n",
       "                }\r\n",
       "            );\r\n",
       "        })\r\n",
       "        .catch(error => {console.log(error);});\r\n",
       "    }\r\n",
       "\r\n",
       "// ensure `require` is available globally\r\n",
       "if ((typeof(require) !==  typeof(Function)) || (typeof(require.config) !== typeof(Function))) {\r\n",
       "    let require_script = document.createElement('script');\r\n",
       "    require_script.setAttribute('src', 'https://cdnjs.cloudflare.com/ajax/libs/require.js/2.3.6/require.min.js');\r\n",
       "    require_script.setAttribute('type', 'text/javascript');\r\n",
       "    \r\n",
       "    \r\n",
       "    require_script.onload = function() {\r\n",
       "        loadDotnetInteractiveApi();\r\n",
       "    };\r\n",
       "\r\n",
       "    document.getElementsByTagName('head')[0].appendChild(require_script);\r\n",
       "}\r\n",
       "else {\r\n",
       "    loadDotnetInteractiveApi();\r\n",
       "}\r\n",
       "\r\n",
       "    </script>\r\n",
       "</div>"
      ]
     },
     "metadata": {},
     "output_type": "display_data"
    },
    {
     "data": {
      "text/html": [
       "<div><div></div><div></div><div><strong>Installed Packages</strong><ul><li><span>Microsoft.Data.Analysis, 0.20.1</span></li><li><span>Refinitiv.Data.Content, 1.0.0-beta4</span></li></ul></div></div>"
      ]
     },
     "metadata": {},
     "output_type": "display_data"
    },
    {
     "data": {
      "text/plain": [
       "Loading extensions from `C:\\Users\\U8007876\\.nuget\\packages\\microsoft.data.analysis\\0.20.1\\interactive-extensions\\dotnet\\Microsoft.Data.Analysis.Interactive.dll`"
      ]
     },
     "metadata": {},
     "output_type": "display_data"
    }
   ],
   "source": [
    "#r \"nuget:Refinitiv.Data.Content, 1.0.0-beta4\"\n",
    "#r \"nuget:Microsoft.Data.Analysis\""
   ]
  },
  {
   "cell_type": "code",
   "execution_count": 2,
   "metadata": {},
   "outputs": [],
   "source": [
    "using Newtonsoft.Json.Linq;\n",
    "using Refinitiv.Data.Content.SearchService;\n",
    "using Refinitiv.Data.Core;\n",
    "using Microsoft.Data.Analysis;\n",
    "using Microsoft.AspNetCore.Html;\n",
    "using System.Data;\n",
    "using System;\n",
    "using Microsoft.DotNet.Interactive.Formatting;\n",
    "using static Microsoft.DotNet.Interactive.Formatting.PocketViewTags;"
   ]
  },
  {
   "cell_type": "markdown",
   "metadata": {},
   "source": [
    "#### Table Output\n",
    "Helper routine to output data in a table format."
   ]
  },
  {
   "cell_type": "code",
   "execution_count": 3,
   "metadata": {},
   "outputs": [],
   "source": [
    "Formatter.Register<DataTable>((dt, writer) =>\n",
    "{\n",
    "    if (dt.Columns.Count > 0)\n",
    "    {\n",
    "        var rows = new List<ICollection<IHtmlContent>>();\n",
    "\n",
    "        // Process Each data row\n",
    "        foreach(var row in dt.Rows.Cast<DataRow>())\n",
    "        {\n",
    "            var cells = new List<IHtmlContent>();\n",
    "            foreach (var cell in row.ItemArray)\n",
    "            {\n",
    "                switch (cell)\n",
    "                {\n",
    "                    case null:\n",
    "                        break;\n",
    "                    case JValue val:\n",
    "                        cells.Add(td(val.ToString()));\n",
    "                        break;\n",
    "                    case IEnumerable<JToken> list:\n",
    "                        cells.Add(td($\"[{string.Join(\", \", list.Select(node => $\"{node}\"))}]\"));\n",
    "                        break;\n",
    "                    default:\n",
    "                        cells.Add(td(cell));\n",
    "                        break;\n",
    "                }                \n",
    "            }\n",
    "            rows.Add(cells);\n",
    "        }\n",
    "        \n",
    "        // Header\n",
    "        var headers = new List<IHtmlContent>();\n",
    "        foreach (DataColumn col in dt.Columns)\n",
    "            headers.Add(th(col.ColumnName) as IHtmlContent);\n",
    "\n",
    "        var t = table(thead(headers), tbody(rows.Select(r => tr(r))));\n",
    "        writer.Write(t);\n",
    "    }\n",
    "}, \"text/html\");"
   ]
  },
  {
   "cell_type": "code",
   "execution_count": 4,
   "metadata": {},
   "outputs": [
    {
     "name": "stdout",
     "output_type": "stream",
     "text": [
      "2023-02-21 4:04:56 PM:DesktopSession. (State: DesktopSession is Pending)\n",
      "2023-02-21 4:04:58 PM:DesktopSession. (Event: {\n",
      "  \"Contents\": \"Desktop Session Successfully Authenticated\"\n",
      "})\n",
      "2023-02-21 4:04:58 PM:DesktopSession. (State: DesktopSession is Opened)\n"
     ]
    }
   ],
   "source": [
    "// Create a session into the desktop\n",
    "DesktopSession.Definition().GetSession().OnState((s, state, msg) => Console.WriteLine($\"{DateTime.Now}:{msg}. (State: {state})\"))\n",
    "                                        .OnEvent((s, eventCode, msg) => Console.WriteLine($\"{DateTime.Now}:{msg}. (Event: {eventCode})\"))\n",
    "                                        .Open();"
   ]
  },
  {
   "cell_type": "markdown",
   "metadata": {},
   "source": [
    "#### Query - Default behavior"
   ]
  },
  {
   "cell_type": "code",
   "execution_count": 5,
   "metadata": {},
   "outputs": [
    {
     "data": {
      "text/html": [
       "<table><thead><th>BusinessEntity</th><th>DocumentTitle</th><th>PermID</th><th>PI</th><th>RIC</th></thead><tbody><tr><td>ORGANISATION</td><td>International Business Machines Corp, Public Company</td><td><div class=\"dni-plaintext\"><pre></pre></div></td><td>37036</td><td><div class=\"dni-plaintext\"><pre></pre></div></td></tr><tr><td>ORGANISATION</td><td>Banco IBM SA, Private Company</td><td><div class=\"dni-plaintext\"><pre></pre></div></td><td>76208</td><td><div class=\"dni-plaintext\"><pre></pre></div></td></tr><tr><td>QUOTExEQUITY</td><td>International Business Machines Corp, Ordinary Share, NYSE Consolidated</td><td>55839165994</td><td>1097326</td><td>IBM</td></tr><tr><td>ORGANISATION</td><td>Tiers Corporate Bond Backed Certificates Trust Series Ibm 1997 4, Private Company</td><td><div class=\"dni-plaintext\"><pre></pre></div></td><td>18062670</td><td><div class=\"dni-plaintext\"><pre></pre></div></td></tr><tr><td>QUOTExEQUITY</td><td>Eurex International Business Machines Equity Future Chain Contract , Equity Future, USD, Eurex</td><td>21481052421</td><td>48924732</td><td>0#IBMF:</td></tr><tr><td>QUOTExEQUITY</td><td>Euronext Amsterdam IBM Dividend Future Chain Contracts, Equity Future, USD, Euronext Amsterdam</td><td>21612423771</td><td>259118763</td><td>0#IBMDF:</td></tr><tr><td>QUOTExEQUITY</td><td>Eurex International Business Machines Equity Future Continuation 1, Equity Future, USD, Eurex</td><td>21481052892</td><td>49450681</td><td>IBMFc1</td></tr><tr><td>QUOTExEQUITY</td><td>Eurex International Business Machines Equity Future Continuation 2, Equity Future, USD, Eurex</td><td>21481053949</td><td>50092347</td><td>IBMFc2</td></tr><tr><td>QUOTExEQUITY</td><td>Euronext Amsterdam IBM Single Stock Dividend Future Continuation 1, Equity Future, USD, Euronext Amsterdam</td><td>21613372305</td><td>260213021</td><td>IBMDFc1</td></tr><tr><td>QUOTExEQUITY</td><td>Eurex International Business Machines Equity Future Continuation 3, Equity Future, USD, Eurex</td><td>21481053950</td><td>50092348</td><td>IBMFc3</td></tr></tbody></table><style>\r\n",
       ".dni-code-hint {\r\n",
       "    font-style: italic;\r\n",
       "    overflow: hidden;\r\n",
       "    white-space: nowrap;\r\n",
       "}\r\n",
       ".dni-treeview {\r\n",
       "    white-space: nowrap;\r\n",
       "}\r\n",
       ".dni-treeview td {\r\n",
       "    vertical-align: top;\r\n",
       "    text-align: start;\r\n",
       "}\r\n",
       "details.dni-treeview {\r\n",
       "    padding-left: 1em;\r\n",
       "}\r\n",
       "table td {\r\n",
       "    text-align: start;\r\n",
       "}\r\n",
       "table tr { \r\n",
       "    vertical-align: top; \r\n",
       "    margin: 0em 0px;\r\n",
       "}\r\n",
       "table tr td pre \r\n",
       "{ \r\n",
       "    vertical-align: top !important; \r\n",
       "    margin: 0em 0px !important;\r\n",
       "} \r\n",
       "table th {\r\n",
       "    text-align: start;\r\n",
       "}\r\n",
       "</style>"
      ]
     },
     "execution_count": 5,
     "metadata": {},
     "output_type": "execute_result"
    }
   ],
   "source": [
    "// The default syntax for search is to specify a query expression.  By default, search will return a default set of \n",
    "// fields (Properties).\n",
    "var response = Search.Definition(Search.View.SearchAll).Query(\"IBM\")\n",
    "                                                       .GetData();\n",
    "response.Data.Table"
   ]
  },
  {
   "cell_type": "code",
   "execution_count": 6,
   "metadata": {
    "scrolled": true
   },
   "outputs": [
    {
     "data": {
      "text/html": [
       "<table><thead><th>BusinessEntity</th><th>DocumentTitle</th><th>PermID</th><th>PI</th><th>RIC</th></thead><tbody><tr><td>ORGANISATION</td><td>International Business Machines Corp, Public Company</td><td><div class=\"dni-plaintext\"><pre></pre></div></td><td>37036</td><td><div class=\"dni-plaintext\"><pre></pre></div></td></tr><tr><td>ORGANISATION</td><td>Banco IBM SA, Private Company</td><td><div class=\"dni-plaintext\"><pre></pre></div></td><td>76208</td><td><div class=\"dni-plaintext\"><pre></pre></div></td></tr><tr><td>QUOTExEQUITY</td><td>International Business Machines Corp, Ordinary Share, NYSE Consolidated</td><td>55839165994</td><td>1097326</td><td>IBM</td></tr><tr><td>ORGANISATION</td><td>Tiers Corporate Bond Backed Certificates Trust Series Ibm 1997 4, Private Company</td><td><div class=\"dni-plaintext\"><pre></pre></div></td><td>18062670</td><td><div class=\"dni-plaintext\"><pre></pre></div></td></tr><tr><td>QUOTExEQUITY</td><td>Eurex International Business Machines Equity Future Chain Contract , Equity Future, USD, Eurex</td><td>21481052421</td><td>48924732</td><td>0#IBMF:</td></tr><tr><td>QUOTExEQUITY</td><td>Euronext Amsterdam IBM Dividend Future Chain Contracts, Equity Future, USD, Euronext Amsterdam</td><td>21612423771</td><td>259118763</td><td>0#IBMDF:</td></tr><tr><td>QUOTExEQUITY</td><td>Eurex International Business Machines Equity Future Continuation 1, Equity Future, USD, Eurex</td><td>21481052892</td><td>49450681</td><td>IBMFc1</td></tr><tr><td>QUOTExEQUITY</td><td>Eurex International Business Machines Equity Future Continuation 2, Equity Future, USD, Eurex</td><td>21481053949</td><td>50092347</td><td>IBMFc2</td></tr><tr><td>QUOTExEQUITY</td><td>Euronext Amsterdam IBM Single Stock Dividend Future Continuation 1, Equity Future, USD, Euronext Amsterdam</td><td>21613372305</td><td>260213021</td><td>IBMDFc1</td></tr><tr><td>QUOTExEQUITY</td><td>Eurex International Business Machines Equity Future Continuation 3, Equity Future, USD, Eurex</td><td>21481053950</td><td>50092348</td><td>IBMFc3</td></tr><tr><td>QUOTExEQUITY</td><td>Eurex International Business Machines Equity Future Continuation 4, Equity Future, USD, Eurex</td><td>21481053951</td><td>50092349</td><td>IBMFc4</td></tr><tr><td>QUOTExEQUITY</td><td>Euronext Amsterdam IBM Single Stock Dividend Future Continuation 2, Equity Future, USD, Euronext Amsterdam</td><td>21613372306</td><td>260213022</td><td>IBMDFc2</td></tr><tr><td>QUOTExEQUITY</td><td>Eurex International Business Machines Equity Future Continuation 5, Equity Future, USD, Eurex</td><td>21481053952</td><td>50092350</td><td>IBMFc5</td></tr><tr><td>QUOTExEQUITY</td><td>Eurex International Business Machines Equity Future Continuation 6, Equity Future, USD, Eurex</td><td>21481053953</td><td>50092351</td><td>IBMFc6</td></tr><tr><td>QUOTExEQUITY</td><td>Euronext Amsterdam IBM Single Stock Dividend Future Continuation 3, Equity Future, USD, Euronext Amsterdam</td><td>21613372307</td><td>260213023</td><td>IBMDFc3</td></tr><tr><td>QUOTExEQUITY</td><td>Eurex International Business Machines Equity Future Continuation 7, Equity Future, USD, Eurex</td><td>21481053954</td><td>50092352</td><td>IBMFc7</td></tr><tr><td>QUOTExEQUITY</td><td>Eurex International Business Machines Equity Future Continuation 8, Equity Future, USD, Eurex</td><td>21481053955</td><td>50092353</td><td>IBMFc8</td></tr><tr><td>QUOTExEQUITY</td><td>Euronext Amsterdam IBM Single Stock Dividend Future Continuation 4, Equity Future, USD, Euronext Amsterdam</td><td>21613372308</td><td>260213024</td><td>IBMDFc4</td></tr><tr><td>QUOTExEQUITY</td><td>Eurex International Business Machines Equity Future Continuation 9, Equity Future, USD, Eurex</td><td>21481053956</td><td>50092354</td><td>IBMFc9</td></tr><tr><td>QUOTExEQUITY</td><td>Eurex International Business Machines Equity Future Continuation 10, Equity Future, USD, Eurex</td><td>21481053957</td><td>50092355</td><td>IBMFc10</td></tr></tbody></table><style>\r\n",
       ".dni-code-hint {\r\n",
       "    font-style: italic;\r\n",
       "    overflow: hidden;\r\n",
       "    white-space: nowrap;\r\n",
       "}\r\n",
       ".dni-treeview {\r\n",
       "    white-space: nowrap;\r\n",
       "}\r\n",
       ".dni-treeview td {\r\n",
       "    vertical-align: top;\r\n",
       "    text-align: start;\r\n",
       "}\r\n",
       "details.dni-treeview {\r\n",
       "    padding-left: 1em;\r\n",
       "}\r\n",
       "table td {\r\n",
       "    text-align: start;\r\n",
       "}\r\n",
       "table tr { \r\n",
       "    vertical-align: top; \r\n",
       "    margin: 0em 0px;\r\n",
       "}\r\n",
       "table tr td pre \r\n",
       "{ \r\n",
       "    vertical-align: top !important; \r\n",
       "    margin: 0em 0px !important;\r\n",
       "} \r\n",
       "table th {\r\n",
       "    text-align: start;\r\n",
       "}\r\n",
       "</style>"
      ]
     },
     "execution_count": 6,
     "metadata": {},
     "output_type": "execute_result"
    }
   ],
   "source": [
    "// By default, 10 documents will be returned.  Let's override that.\n",
    "response = Search.Definition(Search.View.SearchAll).Query(\"IBM\")\n",
    "                                                   .Top(20)\n",
    "                                                   .GetData();\n",
    "response.Data.Table"
   ]
  },
  {
   "cell_type": "markdown",
   "metadata": {},
   "source": [
    "#### Query expressions\n",
    "If we were to type in the following expression, we might come away believing the query will list all personnel within IBM that have a title\n",
    "of CEO.  While, the results will indicate people related to IBM and people with a title of CEO, we cannot assume they are both.  That is, \n",
    "we will see results with the term IBM and CEO listed in the document."
   ]
  },
  {
   "cell_type": "code",
   "execution_count": 7,
   "metadata": {},
   "outputs": [
    {
     "data": {
      "text/html": [
       "<table><thead><th>BusinessEntity</th><th>DocumentTitle</th><th>PermID</th><th>PI</th></thead><tbody><tr><td>PERSON</td><td>Arvind Krishna - International Business Machines Corp - Chairman of the Board, Chief Executive Officer</td><td>34417810693</td><td>34417810693</td></tr><tr><td>PERSON</td><td>Rudy S. Karsan - Kenexa Corp - Chairman of the Board, Chief Executive Officer</td><td>34413248256</td><td>34413248256</td></tr><tr><td>PERSON</td><td>Mohammed Farooq - Gravitant Inc - Chairman of the Board, Chief Executive Officer, Co-Founder</td><td>34415058863</td><td>34415058863</td></tr><tr><td>PERSON</td><td>Simon J. Beaumont - IBM Credit LLC - Chairman of the Board, President, Chief Executive Officer</td><td>34421596181</td><td>34421596181</td></tr><tr><td>PERSON</td><td>Dirk Buddensiek - Ibm Ix Berlin GmbH - Chairman of the Management Board, Chief Executive Officer, Founder</td><td>34421727104</td><td>34421727104</td></tr><tr><td>PERSON</td><td>Deidre Paknad - Pss Systems Inc - President, CEO, Board Member</td><td>34414057544</td><td>34414057544</td></tr><tr><td>PERSON</td><td>Ron S Dembo - Algorithmics Inc - President &amp; CEO</td><td>34414091235</td><td>34414091235</td></tr><tr><td>PERSON</td><td>Frank Chisholm - Aptsoft Corp - CEO &amp; Founder</td><td>34414058841</td><td>34414058841</td></tr><tr><td>PERSON</td><td>Michael Knagenhjelm - Metamerge As(Ibm Corp) - Chief Executive Officer</td><td>34414139687</td><td>34414139687</td></tr><tr><td>PERSON</td><td>Lance Crosby - Softlayer Technologies Inc - Chief Executive Officer</td><td>34414372380</td><td>34414372380</td></tr></tbody></table>"
      ]
     },
     "execution_count": 7,
     "metadata": {},
     "output_type": "execute_result"
    }
   ],
   "source": [
    "response = Search.Definition(Search.View.SearchAll).Query(\"IBM CEO\")\n",
    "                                                   .GetData();\n",
    "response.Data.Table"
   ]
  },
  {
   "cell_type": "markdown",
   "metadata": {},
   "source": [
    "What might give a more favorable result would be to query all documents related to people that contain the term '*IBM*'. From the result, I can visually see\n",
    "titles and optionally filter out people that are not CEO's.  I can do this by selecting the '**People**' view.\n",
    "In addition, I'm going to choose specific *child* elements of the **DocumentTitle** field.  As we see in our output from the above requests, the \n",
    "'**DocumentTitle**' is selected by default.  This property is a convenient collection of elements that nicely describes the document returned and is\n",
    "made up of multiple sub-properties such as: '**DTSubjectName**', '**DTSimpleType**', '**DTSource**', and '**DTCharacteristics**'. \n",
    "\n",
    "By doing this, I can now see a nice\n",
    "break-down of the titles (DTCharacteristics), name (DTSubjectName) and company (DTSimpleType)."
   ]
  },
  {
   "cell_type": "code",
   "execution_count": 8,
   "metadata": {},
   "outputs": [
    {
     "data": {
      "text/html": [
       "<table><thead><th>DocumentTitle</th><th>DTSubjectName</th><th>DTSimpleType</th><th>DTCharacteristics</th></thead><tbody><tr><td>Arvind Krishna - International Business Machines Corp - Chairman of the Board, Chief Executive Officer</td><td>Arvind Krishna</td><td>International Business Machines Corp</td><td>Chairman of the Board, Chief Executive Officer</td></tr><tr><td>Gary D. Cohn - International Business Machines Corp - Vice Chairman</td><td>Gary D. Cohn</td><td>International Business Machines Corp</td><td>Vice Chairman</td></tr><tr><td>James J. Kavanaugh - International Business Machines Corp - Senior Vice President, Chief Financial Officer</td><td>James J. Kavanaugh</td><td>International Business Machines Corp</td><td>Senior Vice President, Chief Financial Officer</td></tr><tr><td>Nickle LaMoreaux - International Business Machines Corp - Chief Human Resource Officer, Senior Vice President</td><td>Nickle LaMoreaux</td><td>International Business Machines Corp</td><td>Chief Human Resource Officer, Senior Vice President</td></tr><tr><td>Thomas W. Rosamilia - International Business Machines Corp - Senior Vice President - IBM Software, Chairman, North America</td><td>Thomas W. Rosamilia</td><td>International Business Machines Corp</td><td>Senior Vice President - IBM Software, Chairman, North America</td></tr><tr><td>Michelle H. Browdy - International Business Machines Corp - Senior Vice President and General Counsel</td><td>Michelle H. Browdy</td><td>International Business Machines Corp</td><td>Senior Vice President and General Counsel</td></tr><tr><td>Nicolas A. Fehring - International Business Machines Corp - Vice President, Controller</td><td>Nicolas A. Fehring</td><td>International Business Machines Corp</td><td>Vice President, Controller</td></tr><tr><td>Robert F. Del Bene - International Business Machines Corp - General Manager - IBM Technology Lifecycle Services</td><td>Robert F. Del Bene</td><td>International Business Machines Corp</td><td>General Manager - IBM Technology Lifecycle Services</td></tr><tr><td>Alex Gorsky - International Business Machines Corp - Lead Independent Director</td><td>Alex Gorsky</td><td>International Business Machines Corp</td><td>Lead Independent Director</td></tr><tr><td>David N. Farr - International Business Machines Corp - Independent Director</td><td>David N. Farr</td><td>International Business Machines Corp</td><td>Independent Director</td></tr></tbody></table>"
      ]
     },
     "execution_count": 8,
     "metadata": {},
     "output_type": "execute_result"
    }
   ],
   "source": [
    "var select = \"DocumentTitle, DTSubjectName, DTSimpleType, DTSource, DTCharacteristics\";\n",
    "\n",
    "response = Search.Definition(Search.View.People).Query(\"IBM\")\n",
    "                                                .Select(select)\n",
    "                                                .GetData();\n",
    "response.Data.Table"
   ]
  },
  {
   "cell_type": "code",
   "execution_count": 9,
   "metadata": {},
   "outputs": [
    {
     "data": {
      "text/html": [
       "<table><thead><th>BusinessEntity</th><th>DocumentTitle</th><th>PermID</th><th>PI</th><th>RIC</th></thead><tbody><tr><td>QUOTExFIXEDINCOMExGOVCORP</td><td>AstraZeneca PLC, Bond Quote, TRACE Eligible AZN 2.375 12-Jun-2022, MARKETAXESS AXESSALL</td><td><div class=\"dni-plaintext\"><pre></pre></div></td><td>0x00102cc599441a3e</td><td>US046353AQ14=MKAX</td></tr><tr><td>QUOTExFIXEDINCOMExGOVCORP</td><td>AstraZeneca PLC, Bond Quote, TRACE Eligible, TRADEWEB DIRECT</td><td><div class=\"dni-plaintext\"><pre></pre></div></td><td>0x00102c8e989a2191</td><td>046353AQ1=TWBL</td></tr><tr><td>QUOTExFIXEDINCOMExGOVCORP</td><td>AstraZeneca PLC, Bond Quote, TRACE Eligible, REAL TIME ALL QUOTES</td><td><div class=\"dni-plaintext\"><pre></pre></div></td><td>0x00102c4b5ce30dc5</td><td>0#046353AQ1=</td></tr><tr><td>QUOTExFIXEDINCOMExGOVCORP</td><td>AstraZeneca PLC, Bond Quote, TRACE Eligible AZN 2.375 12-Jun-2022, QUOTRIX</td><td><div class=\"dni-plaintext\"><pre></pre></div></td><td>0x00102c6132ee29a8</td><td>DEA19JW6=QTX</td></tr><tr><td>QUOTExFIXEDINCOMExGOVCORP</td><td>AstraZeneca PLC, Bond Quote, TRACE Eligible AZN 2.375 12-Jun-2022, STUTTGART STOCK EXCHANGE</td><td><div class=\"dni-plaintext\"><pre></pre></div></td><td>0x00102cc6f2eb0dee</td><td>DEA19JW6=SG</td></tr><tr><td>QUOTExFIXEDINCOMExGOVCORP</td><td>AstraZeneca PLC, Bond Quote, TRACE Eligible AZN 2.375 12-Jun-2022, TRADEECHO APA EU</td><td><div class=\"dni-plaintext\"><pre></pre></div></td><td>0x00102cec7f8b2f0b</td><td>US046353AQ14=TRU</td></tr><tr><td>QUOTExFIXEDINCOMExGOVCORP</td><td>NT, Note, US046353AQ14 MiFID II Fine Grained RIC, Marketaxess Europe Limited</td><td>196761311753</td><td>81618214828</td><td>US046353AQ14=MAXM</td></tr><tr><td>QUOTExFIXEDINCOMExGOVCORP</td><td>NT, Note, US046353AQ14 MiFID II Fine Grained RIC, Deutsche Boerse AG APA Service</td><td>196764266323</td><td>81620452767</td><td>US046353AQ14=DAp</td></tr><tr><td>INSTRUMENTxFIXEDINCOMExGOVCORP</td><td>AstraZeneca PLC, Plain Vanilla Fixed Coupon Bond, TRACE Eligible AZN 2.375 12-Jun-2022</td><td>46645702869</td><td>0x00102cb50fde0d55</td><td><div class=\"dni-plaintext\"><pre></pre></div></td></tr></tbody></table><style>\r\n",
       ".dni-code-hint {\r\n",
       "    font-style: italic;\r\n",
       "    overflow: hidden;\r\n",
       "    white-space: nowrap;\r\n",
       "}\r\n",
       ".dni-treeview {\r\n",
       "    white-space: nowrap;\r\n",
       "}\r\n",
       ".dni-treeview td {\r\n",
       "    vertical-align: top;\r\n",
       "    text-align: start;\r\n",
       "}\r\n",
       "details.dni-treeview {\r\n",
       "    padding-left: 1em;\r\n",
       "}\r\n",
       "table td {\r\n",
       "    text-align: start;\r\n",
       "}\r\n",
       "table tr { \r\n",
       "    vertical-align: top; \r\n",
       "    margin: 0em 0px;\r\n",
       "}\r\n",
       "table tr td pre \r\n",
       "{ \r\n",
       "    vertical-align: top !important; \r\n",
       "    margin: 0em 0px !important;\r\n",
       "} \r\n",
       "table th {\r\n",
       "    text-align: start;\r\n",
       "}\r\n",
       "</style>"
      ]
     },
     "execution_count": 9,
     "metadata": {},
     "output_type": "execute_result"
    }
   ],
   "source": [
    "// Search for a specific ISIN using query\n",
    "response = Search.Definition(Search.View.SearchAll).Query(\"US046353AQ14\")\n",
    "                                                   .GetData();\n",
    "response.Data.Table"
   ]
  },
  {
   "cell_type": "code",
   "execution_count": 10,
   "metadata": {},
   "outputs": [
    {
     "data": {
      "text/html": [
       "<table><thead><th>BusinessEntity</th><th>DocumentTitle</th><th>PermID</th><th>PI</th></thead><tbody><tr><td>INSTRUMENTxFIXEDINCOMExGOVCORP</td><td>AstraZeneca PLC, Plain Vanilla Fixed Coupon Bond, TRACE Eligible AZN 2.375 12-Jun-2022</td><td>46645702869</td><td>0x00102cb50fde0d55</td></tr></tbody></table>"
      ]
     },
     "execution_count": 10,
     "metadata": {},
     "output_type": "execute_result"
    }
   ],
   "source": [
    "// Narrow the search to only instruments\n",
    "response = Search.Definition(Search.View.Instruments).Query(\"US046353AQ14\")\n",
    "                                                     .GetData();\n",
    "response.Data.Table"
   ]
  },
  {
   "cell_type": "markdown",
   "metadata": {},
   "source": [
    "#### Query Syntax\n",
    "A query phrase can support some basic syntax including wildcards, boolean expressions and exact phrase matching."
   ]
  },
  {
   "cell_type": "code",
   "execution_count": 11,
   "metadata": {},
   "outputs": [
    {
     "name": "stdout",
     "output_type": "stream",
     "text": [
      "Matched a total of 23 documents\n"
     ]
    },
    {
     "data": {
      "text/html": [
       "<table><thead><th>BusinessEntity</th><th>DocumentTitle</th><th>PermID</th><th>PI</th><th>RIC</th></thead><tbody><tr><td>QUOTExCOMMODITY</td><td>Baltic Exchange TD9 CRB-USG, Commodity Index, The Baltic Exchange</td><td>21815646948</td><td>621981</td><td>.BACG</td></tr><tr><td>QUOTExCOMMODITY</td><td>Baltic Exchange TC 21 US Gulf to Caribbean, Commodity Spot, The Baltic Exchange</td><td>21937072473</td><td>661825555</td><td>.BAGCR</td></tr><tr><td>QUOTExCOMMODITY</td><td>Baltic Exchange Dirty Tanker TD21 Caribbean to US Gulf (50,000mt fuel oil), Commodity Spot, The Baltic Exchange</td><td>21717867959</td><td>175653765</td><td>.BACR</td></tr><tr><td>QUOTExCOMMODITY</td><td>Baltic Exchange Dirty Tanker TD9 TCE Caribbean to US Gulf Time Charter, Commodity Spot, The Baltic Exchange</td><td>21717782063</td><td>48950908</td><td>.BAAFRTD9</td></tr><tr><td>QUOTExCOMMODITY</td><td>Baltic Exchange Dirty Tanker TD21 TCE Caribbean to US Gulf (50,000mt fuel oil) Time Charter, Commodity Spot, The Baltic Exchange</td><td>21717782060</td><td>325658314</td><td>.BAAFRTD21</td></tr><tr><td>PHYSICALASSETxVESSEL</td><td>BEKS OCEAN, Panamax, BEKS DENIZCILIK VE TICARET, English Channel|UK Continent Tanker Zone</td><td>77309486082</td><td>77309486082</td><td>C}KP7309486082</td></tr><tr><td>PHYSICALASSETxVESSEL</td><td>MANDO ONE, Medium, TSAKOS COLUMBIA SHIPMANAGEMENT, Caribbean Sea|Bahamas Tanker Zone</td><td>77309486968</td><td>77309486968</td><td>C}KM7309486968</td></tr><tr><td>PHYSICALASSETxVESSEL</td><td>NAVE PULSAR, Medium, NAVIOS TANKERS MANAGEMENT INC, Caribbean Sea|Caribbean Tanker Zone|Puerto Rico</td><td>77309494434</td><td>77309494434</td><td>C}KM7309494434</td></tr><tr><td>PHYSICALASSETxVESSEL</td><td>TORM LILLY, Medium, TORM A/S, Baltic Sea|Baltic Tanker Zone</td><td>77309495565</td><td>77309495565</td><td>C}KM7309495565</td></tr><tr><td>PHYSICALASSETxVESSEL</td><td>TAURUS, Medium, KONDINAVE SA, Leningrad|Gulf of Finland|Baltic Tanker Zone|Russia</td><td>77309497715</td><td>77309497715</td><td>C}KM7309497715</td></tr></tbody></table>"
      ]
     },
     "execution_count": 11,
     "metadata": {},
     "output_type": "execute_result"
    }
   ],
   "source": [
    "// Use a specifc term in quotes and the boolean operator to locate specific tankers - use the Content layer \n",
    "// to print additional details.\n",
    "response = Search.Definition(Search.View.SearchAll).Query(\"'Caribbean Tanker' and Baltic\")\n",
    "                                                   .GetData();\n",
    "Console.WriteLine($\"Matched a total of {response.Data.Total} documents\");\n",
    "response.Data.Table"
   ]
  },
  {
   "cell_type": "code",
   "execution_count": 12,
   "metadata": {},
   "outputs": [
    {
     "name": "stdout",
     "output_type": "stream",
     "text": [
      "Matched a total of 8556 documents\n"
     ]
    },
    {
     "data": {
      "text/html": [
       "<table><thead><th>DTSubjectName</th><th>DTSimpleType</th><th>DTSource</th><th>DTCharacteristics</th></thead><tbody><tr><td>Covidh Technologies Ltd</td><td>Public Company</td><td><div class=\"dni-plaintext\"><pre></pre></div></td><td><div class=\"dni-plaintext\"><pre></pre></div></td></tr><tr><td>Mass General Brigham Inc</td><td>Private Company</td><td><div class=\"dni-plaintext\"><pre></pre></div></td><td><div class=\"dni-plaintext\"><pre></pre></div></td></tr><tr><td>Covidh Technologies Ltd</td><td>Ordinary Share</td><td>BSE Ltd</td><td><div class=\"dni-plaintext\"><pre></pre></div></td></tr><tr><td>Covidien International Finance SA</td><td>Private Company</td><td><div class=\"dni-plaintext\"><pre></pre></div></td><td><div class=\"dni-plaintext\"><pre></pre></div></td></tr><tr><td>Banconal COVID Relief Facility SARL</td><td>Private Company</td><td><div class=\"dni-plaintext\"><pre></pre></div></td><td><div class=\"dni-plaintext\"><pre></pre></div></td></tr><tr><td>COVF Spread Fut.</td><td>Equity Future</td><td>Eurex</td><td>USD</td></tr><tr><td>Covidien Ventures</td><td>Private Company</td><td><div class=\"dni-plaintext\"><pre></pre></div></td><td><div class=\"dni-plaintext\"><pre></pre></div></td></tr><tr><td>United States, Coronavirus (COVID-19), Vaccinations, People vaccinated, Volume</td><td>Population</td><td>Our World in Data</td><td>Daily</td></tr><tr><td>United States, Coronavirus (COVID-19), Vaccinations, People vaccinated, % of total</td><td>Population</td><td>Our World in Data</td><td>Daily</td></tr><tr><td>United States, Coronavirus (COVID-19), Vaccinations, People fully vaccinated, Volume</td><td>Population</td><td>Our World in Data</td><td>Daily</td></tr></tbody></table><style>\r\n",
       ".dni-code-hint {\r\n",
       "    font-style: italic;\r\n",
       "    overflow: hidden;\r\n",
       "    white-space: nowrap;\r\n",
       "}\r\n",
       ".dni-treeview {\r\n",
       "    white-space: nowrap;\r\n",
       "}\r\n",
       ".dni-treeview td {\r\n",
       "    vertical-align: top;\r\n",
       "    text-align: start;\r\n",
       "}\r\n",
       "details.dni-treeview {\r\n",
       "    padding-left: 1em;\r\n",
       "}\r\n",
       "table td {\r\n",
       "    text-align: start;\r\n",
       "}\r\n",
       "table tr { \r\n",
       "    vertical-align: top; \r\n",
       "    margin: 0em 0px;\r\n",
       "}\r\n",
       "table tr td pre \r\n",
       "{ \r\n",
       "    vertical-align: top !important; \r\n",
       "    margin: 0em 0px !important;\r\n",
       "} \r\n",
       "table th {\r\n",
       "    text-align: start;\r\n",
       "}\r\n",
       "</style>"
      ]
     },
     "execution_count": 12,
     "metadata": {},
     "output_type": "execute_result"
    }
   ],
   "source": [
    "// Use a wildcard (*) to search for references to 'Covid*'.\n",
    "select = \"DTSubjectName, DTSimpleType, DTSource, DTCharacteristics\";\n",
    "\n",
    "response = Search.Definition(Search.View.SearchAll).Query(\"Covid*\")\n",
    "                                                   .Select(select)\n",
    "                                                   .GetData();\n",
    "Console.WriteLine($\"Matched a total of {response.Data.Total} documents\");\n",
    "response.Data.Table"
   ]
  },
  {
   "cell_type": "code",
   "execution_count": 13,
   "metadata": {},
   "outputs": [
    {
     "data": {
      "text/html": [
       "<table><thead><th>CouponCurrency</th><th>CouponTypeDescription</th><th>IssuerLegalName</th><th>CouponRate</th><th>MaturityDate</th><th>ISIN</th></thead><tbody><tr><td>USD</td><td>Fixed:Plain Vanilla Fixed Coupon</td><td>Vodafone Hessen GmbH &amp; Co. KG</td><td>5</td><td>2025-01-15 12:00:00 AM</td><td>USD85455AD13</td></tr><tr><td>USD</td><td>Fixed:Plain Vanilla Fixed Coupon</td><td>Vodafone Hessen GmbH &amp; Co. KG</td><td>5</td><td>2025-01-15 12:00:00 AM</td><td>US913364AD74</td></tr></tbody></table>"
      ]
     },
     "execution_count": 13,
     "metadata": {},
     "output_type": "execute_result"
    }
   ],
   "source": [
    "// List the Vodafone bonds maturing in 2025 with a coupon rate of 5%\n",
    "// We can achieve this specific query using a special feature called 'tcm' (ticker coupon maturity).\n",
    "select = \"CouponCurrency, CouponTypeDescription, IssuerLegalName, CouponRate, MaturityDate, ISIN\";\n",
    "\n",
    "response = Search.Definition(Search.View.SearchAll).Query(\"vod 5% 2025\")\n",
    "                                                   .Features(\"tcm\")\n",
    "                                                   .Select(select)\n",
    "                                                   .GetData();\n",
    "response.Data.Table"
   ]
  },
  {
   "cell_type": "code",
   "execution_count": null,
   "metadata": {},
   "outputs": [],
   "source": []
  }
 ],
 "metadata": {
  "kernelspec": {
   "display_name": ".NET (C#)",
   "language": "C#",
   "name": ".net-csharp"
  },
  "language_info": {
   "file_extension": ".cs",
   "mimetype": "text/x-csharp",
   "name": "C#",
   "pygments_lexer": "csharp",
   "version": "11.0"
  }
 },
 "nbformat": 4,
 "nbformat_minor": 4
}
